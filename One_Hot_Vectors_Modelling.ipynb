{
 "cells": [
  {
   "cell_type": "code",
   "execution_count": 2,
   "metadata": {
    "id": "w6QSvoq2wWc9"
   },
   "outputs": [],
   "source": [
    "import pandas as pd\n",
    "import numpy as np\n",
    "import string\n",
    "import tensorflow as tf\n",
    "import seaborn as sns\n",
    "import matplotlib.pyplot as plt\n",
    "import re\n",
    "from sklearn.model_selection import train_test_split\n",
    "from tensorflow.keras.models import Sequential\n",
    "from tensorflow.keras.layers import Embedding, Input, Dense, Flatten, LSTM\n",
    "from tensorflow.compat.v1.keras.layers import CuDNNLSTM\n",
    "from tensorflow.keras import Model\n",
    "from tensorflow.keras.callbacks import ReduceLROnPlateau, LearningRateScheduler\n",
    "from tensorflow.keras.preprocessing.text import Tokenizer\n",
    "from tensorflow.keras.preprocessing.sequence import pad_sequences\n",
    "import csv"
   ]
  },
  {
   "cell_type": "code",
   "execution_count": 3,
   "metadata": {
    "colab": {
     "base_uri": "https://localhost:8080/",
     "height": 204
    },
    "id": "EDJOwl1zw3aG",
    "outputId": "1e6f789d-22ce-4934-d028-8aa5dc587bd9"
   },
   "outputs": [
    {
     "data": {
      "text/html": [
       "<div>\n",
       "<style scoped>\n",
       "    .dataframe tbody tr th:only-of-type {\n",
       "        vertical-align: middle;\n",
       "    }\n",
       "\n",
       "    .dataframe tbody tr th {\n",
       "        vertical-align: top;\n",
       "    }\n",
       "\n",
       "    .dataframe thead th {\n",
       "        text-align: right;\n",
       "    }\n",
       "</style>\n",
       "<table border=\"1\" class=\"dataframe\">\n",
       "  <thead>\n",
       "    <tr style=\"text-align: right;\">\n",
       "      <th></th>\n",
       "      <th>input</th>\n",
       "      <th>target</th>\n",
       "    </tr>\n",
       "  </thead>\n",
       "  <tbody>\n",
       "    <tr>\n",
       "      <th>0</th>\n",
       "      <td>Ya. Next week coming.</td>\n",
       "      <td>Ya. Next week coming.</td>\n",
       "    </tr>\n",
       "    <tr>\n",
       "      <th>1</th>\n",
       "      <td>Yeah wana save n stinge... We shall eat smting...</td>\n",
       "      <td>Yes, I want to save and stinge. We shall eat s...</td>\n",
       "    </tr>\n",
       "    <tr>\n",
       "      <th>2</th>\n",
       "      <td>Dunno how come cannot go online leh, tt fuji...</td>\n",
       "      <td>I don't know how come I cannot go online. That...</td>\n",
       "    </tr>\n",
       "    <tr>\n",
       "      <th>3</th>\n",
       "      <td>Hey come online? We discuss eng with regina</td>\n",
       "      <td>Can you come online? We shall discuss Eng with...</td>\n",
       "    </tr>\n",
       "    <tr>\n",
       "      <th>4</th>\n",
       "      <td>Ü all go then i go lor... Free one wat...</td>\n",
       "      <td>All go then I go. It is free.</td>\n",
       "    </tr>\n",
       "  </tbody>\n",
       "</table>\n",
       "</div>"
      ],
      "text/plain": [
       "                                               input                                             target\n",
       "0                              Ya. Next week coming.                              Ya. Next week coming.\n",
       "1  Yeah wana save n stinge... We shall eat smting...  Yes, I want to save and stinge. We shall eat s...\n",
       "2    Dunno how come cannot go online leh, tt fuji...  I don't know how come I cannot go online. That...\n",
       "3        Hey come online? We discuss eng with regina  Can you come online? We shall discuss Eng with...\n",
       "4          Ü all go then i go lor... Free one wat...                      All go then I go. It is free."
      ]
     },
     "execution_count": 3,
     "metadata": {
      "tags": []
     },
     "output_type": "execute_result"
    }
   ],
   "source": [
    "train = pd.read_csv('train_2.csv')\n",
    "test = pd.read_csv('test_2.csv')\n",
    "\n",
    "train.head()"
   ]
  },
  {
   "cell_type": "code",
   "execution_count": 4,
   "metadata": {
    "id": "tm0tj7yC4tZw"
   },
   "outputs": [],
   "source": [
    "input_lengths = []\n",
    "target_lengths = []\n",
    "for i, row in train.iterrows():\n",
    "  input_lengths.append(len(row['input']))\n",
    "  target_lengths.append(len(row['target']))\n"
   ]
  },
  {
   "cell_type": "code",
   "execution_count": 5,
   "metadata": {
    "colab": {
     "base_uri": "https://localhost:8080/",
     "height": 265
    },
    "id": "AhCYQVkV5IBh",
    "outputId": "0868745d-6411-4a1e-ebca-56b74e6a2885"
   },
   "outputs": [
    {
     "data": {
      "image/png": "[encoded data removed]",
      "text/plain": [
       "<Figure size 432x288 with 1 Axes>"
      ]
     },
     "metadata": {
      "needs_background": "light",
      "tags": []
     },
     "output_type": "display_data"
    }
   ],
   "source": [
    "import matplotlib.pyplot as plt\n",
    "x_value = range(len(input_lengths))\n",
    "y_value = sorted(input_lengths)\n",
    "plt.plot(x_value , y_value)\n",
    "plt.ylabel('some numbers')\n",
    "plt.show()"
   ]
  },
  {
   "cell_type": "code",
   "execution_count": null,
   "metadata": {
    "colab": {
     "base_uri": "https://localhost:8080/",
     "height": 265
    },
    "id": "3PiO7l6J5Id-",
    "outputId": "4b7ff909-0ba1-4e5d-b21c-2ac6b6c3bb75"
   },
   "outputs": [
    {
     "data": {
      "image/png": "[encoded data removed]",
      "text/plain": [
       "<Figure size 432x288 with 1 Axes>"
      ]
     },
     "metadata": {
      "needs_background": "light",
      "tags": []
     },
     "output_type": "display_data"
    }
   ],
   "source": [
    "x_value = range(len(target_lengths))\n",
    "y_value = sorted(target_lengths)\n",
    "plt.plot(x_value , y_value)\n",
    "plt.ylabel('some numbers')\n",
    "plt.show()"
   ]
  },
  {
   "cell_type": "code",
   "execution_count": null,
   "metadata": {
    "id": "AJfz3D3E5-c3"
   },
   "outputs": [],
   "source": [
    "train['input_lengths'] = input_lengths\n",
    "train['target_lengths'] = target_lengths"
   ]
  },
  {
   "cell_type": "code",
   "execution_count": null,
   "metadata": {
    "id": "XeqHauAI56yH"
   },
   "outputs": [],
   "source": [
    "train = train[train['input_lengths'] < 500]\n",
    "train = train[train['target_lengths'] < 500]"
   ]
  },
  {
   "cell_type": "code",
   "execution_count": null,
   "metadata": {
    "id": "NZ17P68b77Ln"
   },
   "outputs": [],
   "source": [
    "train = train.drop(['input_lengths', 'target_lengths'], axis=1)\n"
   ]
  },
  {
   "cell_type": "code",
   "execution_count": 6,
   "metadata": {
    "colab": {
     "base_uri": "https://localhost:8080/"
    },
    "id": "TqnRGnG88LYy",
    "outputId": "4ae3cdd1-f95f-4831-c516-ebfc950f7c1d"
   },
   "outputs": [
    {
     "name": "stdout",
     "output_type": "stream",
     "text": [
      "94\n",
      "['0', '1', '2', '3', '4', '5', '6', '7', '8', '9', 'a', 'b', 'c', 'd', 'e', 'f', 'g', 'h', 'i', 'j', 'k', 'l', 'm', 'n', 'o', 'p', 'q', 'r', 's', 't', 'u', 'v', 'w', 'x', 'y', 'z', 'A', 'B', 'C', 'D', 'E', 'F', 'G', 'H', 'I', 'J', 'K', 'L', 'M', 'N', 'O', 'P', 'Q', 'R', 'S', 'T', 'U', 'V', 'W', 'X', 'Y', 'Z', '!', '\"', '#', '$', '%', '&', \"'\", '(', ')', '*', '+', ',', '-', '.', '/', ':', ';', '<', '=', '>', '?', '@', '[', '\\\\', ']', '^', '_', '`', '{', '|', '}', ' ']\n"
     ]
    }
   ],
   "source": [
    "required_chars = []\n",
    "for char in string.printable:\n",
    "  if ord(char) > 31 and ord(char) < 126:\n",
    "    required_chars.append(char)\n",
    "\n",
    "\n",
    "print(len(required_chars))\n",
    "print(required_chars)"
   ]
  },
  {
   "cell_type": "code",
   "execution_count": 7,
   "metadata": {
    "id": "xWM0cCmi7s5D"
   },
   "outputs": [],
   "source": [
    "# Create a dictionary of chars and index value from 1. 0 is reserved for padding by the tokenizer.\n",
    "vocabulary = dict()\n",
    "for i in range(len(required_chars)):\n",
    "  vocabulary[required_chars[i]] = i+1"
   ]
  },
  {
   "cell_type": "code",
   "execution_count": 8,
   "metadata": {
    "id": "WgItyynh7uWb"
   },
   "outputs": [],
   "source": [
    "# Use \\t as Start of Sentence and \\n as End of Sentence\n",
    "vocabulary['\\n'] = 95\n",
    "vocabulary['\\t'] = 96"
   ]
  },
  {
   "cell_type": "code",
   "execution_count": 9,
   "metadata": {
    "id": "a4nfKCXvyDC2"
   },
   "outputs": [],
   "source": [
    "# Characters that were found in train and test set and replaced with the normal english characters.\n",
    "replacements = {'£':'', 'É': 'E', 'Ñ': 'N', 'Ü': 'U', 'à': 'a', 'ä': 'a', 'å': 'a', 'è': 'e', 'é': 'e', 'ì': 'i', 'ñ': 'n', 'ò': 'o', 'ö': 'o', 'ø': 'o', 'ù': 'u', 'ü': 'u',  '“': '\"',  '”': '\"',   '，': ',',   '？': '?' }"
   ]
  },
  {
   "cell_type": "code",
   "execution_count": 10,
   "metadata": {
    "id": "2Oq7MzJqyKa2"
   },
   "outputs": [],
   "source": [
    "for old_char, new_char in replacements.items():\n",
    "  train = train.replace(old_char, new_char, regex=True)\n",
    "  test = test.replace(old_char, new_char, regex=True)"
   ]
  },
  {
   "cell_type": "code",
   "execution_count": null,
   "metadata": {
    "id": "uSmesdxqcuCz"
   },
   "outputs": [],
   "source": [
    "# gen_sen_train = []\n",
    "# target_sen_train = []\n",
    "# gen_sen_test = []\n",
    "# target_sen_test = []\n",
    "\n",
    "# from textblob import TextBlob\n",
    "# from tqdm import tqdm\n",
    "\n",
    "# for i, row in tqdm(train.iterrows()):\n",
    "#     textBlb = TextBlob(row['input'])\n",
    "#     textCorrected = textBlb.correct() \n",
    "#     gen_sen_train.append(str(textCorrected))\n",
    "#     target_sen_train.append(row['target'])\n",
    "\n",
    "# for i, row in tqdm(test.iterrows()):\n",
    "#     textBlb = TextBlob(row['input'])\n",
    "#     textCorrected = textBlb.correct() \n",
    "#     gen_sen_test.append(str(textCorrected))\n",
    "#     target_sen_test.append(row['target'])\n"
   ]
  },
  {
   "cell_type": "code",
   "execution_count": null,
   "metadata": {
    "id": "qGCYuhB_c1gd"
   },
   "outputs": [],
   "source": [
    "# train = pd.DataFrame({\n",
    "#     'input':gen_sen_train,\n",
    "#     'target':target_sen_train\n",
    "# })\n",
    "\n",
    "# test = pd.DataFrame({\n",
    "#     'input':gen_sen_test,\n",
    "#     'target':target_sen_test\n",
    "# })"
   ]
  },
  {
   "cell_type": "code",
   "execution_count": 11,
   "metadata": {
    "id": "CZSJAoC9dkTd"
   },
   "outputs": [],
   "source": [
    "train['input'] = train['input'].replace({'..':'.', '...':'.', '???':'?', '??':'?', '#':'', \"!!\":\"!\",\"!!!\":\"!\",\"@\":\"\",\"$\":\"\",\"%\":\"\",\"^\":\"\",\"&\":\"\",\"(\":\"\",\")\":\"\",\"_\":\"\", \";\":\"\"})"
   ]
  },
  {
   "cell_type": "code",
   "execution_count": 12,
   "metadata": {
    "id": "eHD0q5DDdRfK"
   },
   "outputs": [],
   "source": [
    "for i, row in train.iterrows():\n",
    "    value = row['input']\n",
    "    repl_value = re.sub(r'\\.+', \".\", value)\n",
    "    repl_value = re.sub(r'\\!+', \"!\", repl_value)\n",
    "    repl_value = re.sub(r'\\ +', \" \", repl_value)\n",
    "    train.at[i,'input'] = repl_value\n",
    "\n",
    "for i, row in test.iterrows():\n",
    "    value = row['input']\n",
    "    repl_value = re.sub(r'\\.+', \".\", value)\n",
    "    repl_value = re.sub(r'\\!+', \"!\", repl_value)\n",
    "    repl_value = re.sub(r'\\ +', \" \", repl_value)\n",
    "    test.at[i,'input'] = repl_value"
   ]
  },
  {
   "cell_type": "code",
   "execution_count": 13,
   "metadata": {
    "colab": {
     "base_uri": "https://localhost:8080/",
     "height": 204
    },
    "id": "R2UWkIQjS9s7",
    "outputId": "4d86f97e-47c4-4bac-fc88-7e395e936893"
   },
   "outputs": [
    {
     "data": {
      "text/html": [
       "<div>\n",
       "<style scoped>\n",
       "    .dataframe tbody tr th:only-of-type {\n",
       "        vertical-align: middle;\n",
       "    }\n",
       "\n",
       "    .dataframe tbody tr th {\n",
       "        vertical-align: top;\n",
       "    }\n",
       "\n",
       "    .dataframe thead th {\n",
       "        text-align: right;\n",
       "    }\n",
       "</style>\n",
       "<table border=\"1\" class=\"dataframe\">\n",
       "  <thead>\n",
       "    <tr style=\"text-align: right;\">\n",
       "      <th></th>\n",
       "      <th>input</th>\n",
       "      <th>target</th>\n",
       "    </tr>\n",
       "  </thead>\n",
       "  <tbody>\n",
       "    <tr>\n",
       "      <th>0</th>\n",
       "      <td>Ya. Next week coming.</td>\n",
       "      <td>Ya. Next week coming.</td>\n",
       "    </tr>\n",
       "    <tr>\n",
       "      <th>1</th>\n",
       "      <td>Yeah wana save n stinge. We shall eat smting g...</td>\n",
       "      <td>Yes, I want to save and stinge. We shall eat s...</td>\n",
       "    </tr>\n",
       "    <tr>\n",
       "      <th>2</th>\n",
       "      <td>Dunno how come cannot go online leh, tt fuji.</td>\n",
       "      <td>I don't know how come I cannot go online. That...</td>\n",
       "    </tr>\n",
       "    <tr>\n",
       "      <th>3</th>\n",
       "      <td>Hey come online? We discuss eng with regina</td>\n",
       "      <td>Can you come online? We shall discuss Eng with...</td>\n",
       "    </tr>\n",
       "    <tr>\n",
       "      <th>4</th>\n",
       "      <td>U all go then i go lor. Free one wat.</td>\n",
       "      <td>All go then I go. It is free.</td>\n",
       "    </tr>\n",
       "  </tbody>\n",
       "</table>\n",
       "</div>"
      ],
      "text/plain": [
       "                                               input                                             target\n",
       "0                              Ya. Next week coming.                              Ya. Next week coming.\n",
       "1  Yeah wana save n stinge. We shall eat smting g...  Yes, I want to save and stinge. We shall eat s...\n",
       "2      Dunno how come cannot go online leh, tt fuji.  I don't know how come I cannot go online. That...\n",
       "3        Hey come online? We discuss eng with regina  Can you come online? We shall discuss Eng with...\n",
       "4              U all go then i go lor. Free one wat.                      All go then I go. It is free."
      ]
     },
     "execution_count": 13,
     "metadata": {
      "tags": []
     },
     "output_type": "execute_result"
    }
   ],
   "source": [
    "train.head()"
   ]
  },
  {
   "cell_type": "code",
   "execution_count": 14,
   "metadata": {
    "id": "BrFuNLIs2owY"
   },
   "outputs": [],
   "source": [
    "# Adding the \\t and \\n as part of start and end of sentence\n",
    "train['target_ip'] = '\\t' + train['target'].astype(str)\n",
    "train['target_op'] =  train['target'].astype(str) + '\\n'\n",
    "\n",
    "test['target_ip'] = '\\t' + test['target'].astype(str)\n",
    "test['target_op'] =  test['target'].astype(str) + '\\n'"
   ]
  },
  {
   "cell_type": "code",
   "execution_count": 15,
   "metadata": {
    "id": "aG58E_dY3JaN"
   },
   "outputs": [],
   "source": [
    "train = train.drop(['target'], axis=1)\n",
    "test = test.drop(['target'], axis=1)"
   ]
  },
  {
   "cell_type": "code",
   "execution_count": 16,
   "metadata": {
    "colab": {
     "base_uri": "https://localhost:8080/",
     "height": 204
    },
    "id": "pn9P1Pl52rMl",
    "outputId": "9bb3c2ab-51fc-4c22-e43e-04c8dc173c8c"
   },
   "outputs": [
    {
     "data": {
      "text/html": [
       "<div>\n",
       "<style scoped>\n",
       "    .dataframe tbody tr th:only-of-type {\n",
       "        vertical-align: middle;\n",
       "    }\n",
       "\n",
       "    .dataframe tbody tr th {\n",
       "        vertical-align: top;\n",
       "    }\n",
       "\n",
       "    .dataframe thead th {\n",
       "        text-align: right;\n",
       "    }\n",
       "</style>\n",
       "<table border=\"1\" class=\"dataframe\">\n",
       "  <thead>\n",
       "    <tr style=\"text-align: right;\">\n",
       "      <th></th>\n",
       "      <th>input</th>\n",
       "      <th>target_ip</th>\n",
       "      <th>target_op</th>\n",
       "    </tr>\n",
       "  </thead>\n",
       "  <tbody>\n",
       "    <tr>\n",
       "      <th>0</th>\n",
       "      <td>Ya. Next week coming.</td>\n",
       "      <td>\\tYa. Next week coming.</td>\n",
       "      <td>Ya. Next week coming.\\n</td>\n",
       "    </tr>\n",
       "    <tr>\n",
       "      <th>1</th>\n",
       "      <td>Yeah wana save n stinge. We shall eat smting g...</td>\n",
       "      <td>\\tYes, I want to save and stinge. We shall eat...</td>\n",
       "      <td>Yes, I want to save and stinge. We shall eat s...</td>\n",
       "    </tr>\n",
       "    <tr>\n",
       "      <th>2</th>\n",
       "      <td>Dunno how come cannot go online leh, tt fuji.</td>\n",
       "      <td>\\tI don't know how come I cannot go online. Th...</td>\n",
       "      <td>I don't know how come I cannot go online. That...</td>\n",
       "    </tr>\n",
       "    <tr>\n",
       "      <th>3</th>\n",
       "      <td>Hey come online? We discuss eng with regina</td>\n",
       "      <td>\\tCan you come online? We shall discuss Eng wi...</td>\n",
       "      <td>Can you come online? We shall discuss Eng with...</td>\n",
       "    </tr>\n",
       "    <tr>\n",
       "      <th>4</th>\n",
       "      <td>U all go then i go lor. Free one wat.</td>\n",
       "      <td>\\tAll go then I go. It is free.</td>\n",
       "      <td>All go then I go. It is free.\\n</td>\n",
       "    </tr>\n",
       "  </tbody>\n",
       "</table>\n",
       "</div>"
      ],
      "text/plain": [
       "                                               input  ...                                          target_op\n",
       "0                              Ya. Next week coming.  ...                            Ya. Next week coming.\\n\n",
       "1  Yeah wana save n stinge. We shall eat smting g...  ...  Yes, I want to save and stinge. We shall eat s...\n",
       "2      Dunno how come cannot go online leh, tt fuji.  ...  I don't know how come I cannot go online. That...\n",
       "3        Hey come online? We discuss eng with regina  ...  Can you come online? We shall discuss Eng with...\n",
       "4              U all go then i go lor. Free one wat.  ...                    All go then I go. It is free.\\n\n",
       "\n",
       "[5 rows x 3 columns]"
      ]
     },
     "execution_count": 16,
     "metadata": {
      "tags": []
     },
     "output_type": "execute_result"
    }
   ],
   "source": [
    "train.head()"
   ]
  },
  {
   "cell_type": "code",
   "execution_count": 17,
   "metadata": {
    "id": "dccV3FWe3IbF"
   },
   "outputs": [],
   "source": [
    "train.iloc[0]['target_ip']= str(train.iloc[0]['target_ip'])+'\\n'\n",
    "train.iloc[0]['target_op']= str(train.iloc[0]['target_op'])+'\\n'"
   ]
  },
  {
   "cell_type": "code",
   "execution_count": 18,
   "metadata": {
    "colab": {
     "base_uri": "https://localhost:8080/"
    },
    "id": "93Ub9wTxyymO",
    "outputId": "bdfee973-9c80-48d6-8b20-0e1be6a5983a"
   },
   "outputs": [
    {
     "name": "stdout",
     "output_type": "stream",
     "text": [
      "161\n"
     ]
    }
   ],
   "source": [
    "# Calculating the maximum length of among all the sentences which will be useful for padding.\n",
    "max_length_encoder = train['input'].map(len).max()\n",
    "\n",
    "print(max_length_encoder)"
   ]
  },
  {
   "cell_type": "code",
   "execution_count": 19,
   "metadata": {
    "colab": {
     "base_uri": "https://localhost:8080/"
    },
    "id": "i1M6VC2ixr6J",
    "outputId": "a9d651ee-ad59-412a-9535-f849642c96dd"
   },
   "outputs": [
    {
     "name": "stdout",
     "output_type": "stream",
     "text": [
      "200\n"
     ]
    }
   ],
   "source": [
    "max_length_decoder = max( train['target_ip'].map(len).max(), train['target_op'].map(len).max())\n",
    "print(max_length_decoder)"
   ]
  },
  {
   "cell_type": "code",
   "execution_count": 20,
   "metadata": {
    "id": "brw3mDkGxemO"
   },
   "outputs": [],
   "source": [
    "# Tokenizer for the raw input and target output\n",
    "tokenizer_raw_ip = Tokenizer(\n",
    "    char_level=True,\n",
    "    lower=False,\n",
    "    filters=None\n",
    ")\n",
    "\n",
    "tokenizer_target_ip = Tokenizer(\n",
    "    char_level=True,\n",
    "    lower=False,\n",
    "    filters=None\n",
    ")"
   ]
  },
  {
   "cell_type": "code",
   "execution_count": 21,
   "metadata": {
    "id": "B6VhrB0BxkS_"
   },
   "outputs": [],
   "source": [
    "tokenizer_raw_ip.fit_on_texts(train['input'].values)\n",
    "tokenizer_target_ip.fit_on_texts(train['target_ip'].values)"
   ]
  },
  {
   "cell_type": "code",
   "execution_count": 22,
   "metadata": {
    "id": "_OMsgwWd72wz"
   },
   "outputs": [],
   "source": [
    "# Replacing the vocabulary of the trained index to a vocabulary mentioned in the research paper\n",
    "tokenizer_target_ip.word_index = vocabulary\n",
    "tokenizer_raw_ip.word_index = vocabulary"
   ]
  },
  {
   "cell_type": "code",
   "execution_count": 23,
   "metadata": {
    "colab": {
     "base_uri": "https://localhost:8080/"
    },
    "id": "jCobtx0TDkqS",
    "outputId": "8c0ef8c4-e9cf-4026-e2c9-0a57910f1233"
   },
   "outputs": [
    {
     "name": "stdout",
     "output_type": "stream",
     "text": [
      "96\n",
      "96\n"
     ]
    }
   ],
   "source": [
    "target_vocab_size=len(tokenizer_target_ip.word_index.keys())\n",
    "print(target_vocab_size)\n",
    "input_vocab_size=len(tokenizer_raw_ip.word_index.keys())\n",
    "print(input_vocab_size)"
   ]
  },
  {
   "cell_type": "code",
   "execution_count": 66,
   "metadata": {
    "id": "NbS-j6zFDZTk"
   },
   "outputs": [],
   "source": [
    "# Encoder class with Embedding layer and LSTM layer.\n",
    "class Encoder(tf.keras.layers.Layer):\n",
    "    def __init__(self, vocab_size, embedding_dim, input_length, enc_units):\n",
    "        super().__init__()\n",
    "        self.vocab_size = vocab_size\n",
    "        self.embedding_dim = embedding_dim\n",
    "        self.input_length = input_length\n",
    "        self.enc_units= enc_units\n",
    "        self.lstm_output = 0\n",
    "        self.lstm_state_h=0\n",
    "        self.lstm_state_c=0\n",
    "        \n",
    "    def build(self, input_shape):\n",
    "        self.embedding = Embedding(input_dim=self.vocab_size, output_dim=self.embedding_dim, input_length=self.input_length, mask_zero=True, name=\"Embedding_Layer_Encoder\")\n",
    "        self.lstm = LSTM(self.enc_units, return_state=True, name=\"Encoder_LSTM\")\n",
    "        # self.lstm_2 = LSTM(self.enc_units, return_state=True, name=\"Encoder_LSTM_2\")\n",
    "        # self.lstm_3 = LSTM(self.enc_units, return_state=True, name=\"Encoder_LSTM_3\")\n",
    "        # self.lstm_4 = LSTM(self.enc_units, return_state=True, name=\"Encoder_LSTM_4\")\n",
    "\n",
    "        \n",
    "    def call(self, input_sentances, training=True):\n",
    "        \n",
    "        self.lstm_output, self.lstm_state_h,self.lstm_state_c = self.lstm(input_sentances)\n",
    "#         self.lstm_output, self.lstm_state_h,self.lstm_state_c = self.lstm_2(self.lstm_output)\n",
    "#         self.lstm_output, self.lstm_state_h,self.lstm_state_c = self.lstm_3(self.lstm_output)\n",
    "#         self.lstm_output, self.lstm_state_h,self.lstm_state_c = self.lstm_4(self.lstm_output)\n",
    "\n",
    "\n",
    "        return self.lstm_output, self.lstm_state_h,self.lstm_state_c\n",
    "\n",
    "    def get_states(self):\n",
    "        return self.lstm_state_h,self.lstm_state_c\n",
    "    \n",
    "# Decoder class with embedding and LSTM layer.    \n",
    "class Decoder(tf.keras.layers.Layer):\n",
    "    def __init__(self, vocab_size, embedding_dim, input_length, dec_units):\n",
    "        super().__init__()\n",
    "        self.vocab_size = vocab_size\n",
    "        self.embedding_dim = embedding_dim\n",
    "        self.dec_units = dec_units\n",
    "        self.input_length = input_length\n",
    "        # we are using embedding_matrix and not training the embedding layer\n",
    "        self.embedding = Embedding(input_dim=self.vocab_size, output_dim=self.embedding_dim, input_length=self.input_length, mask_zero=True, name=\"Embedding_Layer_Decoder\",)\n",
    "        self.lstm = LSTM(self.dec_units, return_sequences=True, return_state=True, name=\"Decoder_LSTM\")\n",
    "        # self.lstm_2 = LSTM(self.dec_units, return_sequences=True, return_state=True, name=\"Decoder_LSTM_2\")\n",
    "        # self.lstm_3 = LSTM(self.dec_units, return_sequences=True, return_state=True, name=\"Decoder_LSTM_3\")\n",
    "        # self.lstm_4 = LSTM(self.dec_units, return_sequences=True, return_state=True, name=\"Decoder_LSTM_4\")\n",
    "    \n",
    "    def call(self, target_sentences, state_h, state_c):\n",
    "        \n",
    "        lstm_output, _,_        = self.lstm(target_sentences, initial_state=[state_h, state_c])\n",
    "        # lstm_output, _,_        = self.lstm_2(lstm_output, initial_state=[state_h, state_c])\n",
    "        # lstm_output, _,_        = self.lstm_3(lstm_output, initial_state=[state_h, state_c])\n",
    "        # lstm_output, _,_        = self.lstm_4(lstm_output, initial_state=[state_h, state_c])\n",
    "\n",
    "        return lstm_output"
   ]
  },
  {
   "cell_type": "code",
   "execution_count": 25,
   "metadata": {
    "id": "bdPsfdMTDcUa"
   },
   "outputs": [],
   "source": [
    "# Creating a data pipeline\n",
    "class Dataset:\n",
    "    def __init__(self, data, tokenizer_raw_ip, tokenizer_target_ip, max_length_encoder,max_length_decoder):\n",
    "        self.encoder_inps = data['input'].values\n",
    "        self.decoder_inps = data['target_ip'].values\n",
    "        self.decoder_outs = data['target_op'].values\n",
    "        self.tokenizer_target_ip = tokenizer_target_ip\n",
    "        self.tokenizer_raw_ip = tokenizer_raw_ip\n",
    "        self.max_length_encoder = max_length_encoder\n",
    "        self.max_length_decoder = max_length_decoder\n",
    "\n",
    "    def __getitem__(self, i):\n",
    "        self.encoder_seq = self.tokenizer_raw_ip.texts_to_sequences([self.encoder_inps[i]]) # need to pass list of values\n",
    "        self.decoder_inp_seq = self.tokenizer_target_ip.texts_to_sequences([self.decoder_inps[i]])\n",
    "        self.decoder_out_seq = self.tokenizer_target_ip.texts_to_sequences([self.decoder_outs[i]])\n",
    "\n",
    "        self.encoder_seq = pad_sequences(self.encoder_seq, maxlen=self.max_length_encoder, dtype='int32', padding='post')\n",
    "        self.decoder_inp_seq = pad_sequences(self.decoder_inp_seq, maxlen=self.max_length_decoder, dtype='int32', padding='post')\n",
    "        self.decoder_out_seq = pad_sequences(self.decoder_out_seq, maxlen=self.max_length_decoder, dtype='int32', padding='post')\n",
    "\n",
    "        self.encoder_seq = tf.keras.utils.to_categorical(self.encoder_seq, num_classes=len(tokenizer_raw_ip.word_index.keys())+1)\n",
    "        self.decoder_inp_seq = tf.keras.utils.to_categorical(self.decoder_inp_seq, num_classes=len(tokenizer_target_ip.word_index.keys())+1)\n",
    "        self.decoder_out_seq = tf.keras.utils.to_categorical(self.decoder_out_seq, num_classes=len(tokenizer_target_ip.word_index.keys())+1)\n",
    "\n",
    "        return self.encoder_seq, self.decoder_inp_seq, self.decoder_out_seq\n",
    "\n",
    "    def __len__(self): # your model.fit_gen requires this function\n",
    "        return len(self.encoder_inps)\n",
    "\n",
    "    \n",
    "class Dataloder(tf.keras.utils.Sequence):    \n",
    "    def __init__(self, dataset, batch_size=1):\n",
    "        self.dataset = dataset\n",
    "        self.batch_size = batch_size\n",
    "        self.indexes = np.arange(len(self.dataset.encoder_inps))\n",
    "\n",
    "\n",
    "    def __getitem__(self, i):\n",
    "        start = i * self.batch_size\n",
    "        stop = (i + 1) * self.batch_size\n",
    "        data = []\n",
    "        for j in range(start, stop):\n",
    "            data.append(self.dataset[j])\n",
    "            \n",
    "        batch = [np.squeeze(np.stack(samples, axis=1), axis=0) for samples in zip(*data)]\n",
    "        # we are creating data like ([italian, english_inp], english_out) these are already converted into seq\n",
    "        return tuple([[batch[0],batch[1]],batch[2]])\n",
    "\n",
    "    def __len__(self):  # your model.fit_gen requires this function\n",
    "        return len(self.indexes) // self.batch_size\n",
    "\n",
    "    def on_epoch_end(self):\n",
    "        self.indexes = np.random.permutation(self.indexes)"
   ]
  },
  {
   "cell_type": "code",
   "execution_count": 26,
   "metadata": {
    "id": "9dmaj0EADi5a"
   },
   "outputs": [],
   "source": [
    "train_dataset = Dataset(train, tokenizer_raw_ip, tokenizer_target_ip, max_length_encoder, max_length_decoder)\n",
    "test_dataset  = Dataset(test, tokenizer_raw_ip, tokenizer_target_ip, max_length_encoder, max_length_decoder)"
   ]
  },
  {
   "cell_type": "code",
   "execution_count": 27,
   "metadata": {
    "colab": {
     "base_uri": "https://localhost:8080/"
    },
    "id": "Ti9VvFy7YE8a",
    "outputId": "bef6f204-4bf6-4b77-8a0c-2c04f1f74d2e"
   },
   "outputs": [
    {
     "name": "stdout",
     "output_type": "stream",
     "text": [
      "(64, 161, 97) (64, 200, 97) (64, 200, 97)\n"
     ]
    }
   ],
   "source": [
    "train_dataloader = Dataloder(train_dataset, batch_size=64)\n",
    "test_dataloader = Dataloder(test_dataset, batch_size=20)\n",
    "\n",
    "print(train_dataloader[1][0][0].shape, train_dataloader[0][0][1].shape, train_dataloader[0][1].shape)"
   ]
  },
  {
   "cell_type": "code",
   "execution_count": 41,
   "metadata": {
    "id": "TSWOLZxfES-T"
   },
   "outputs": [],
   "source": [
    "# Model 1 - 1 layer LSTM model for each encoder and decoder\n",
    "class Model1(Model):\n",
    "    def __init__(self, encoder_inputs_length,decoder_inputs_length, output_vocab_size):\n",
    "        super().__init__() # https://stackoverflow.com/a/27134600/4084039\n",
    "        self.encoder = Encoder(vocab_size=input_vocab_size+1, embedding_dim=50, input_length=encoder_inputs_length, enc_units=100)\n",
    "        self.decoder = Decoder(vocab_size=target_vocab_size+1, embedding_dim=50, input_length=decoder_inputs_length, dec_units=100)\n",
    "        self.dense   = Dense(output_vocab_size+1, activation='softmax')\n",
    "        \n",
    "    def call(self, data):\n",
    "        input,output = data[0], data[1]\n",
    "        encoder_output, encoder_h, encoder_c = self.encoder(input)\n",
    "        decoder_output                       = self.decoder(output, encoder_h, encoder_c)\n",
    "        output                               = self.dense(decoder_output)\n",
    "        return output        "
   ]
  },
  {
   "cell_type": "code",
   "execution_count": 47,
   "metadata": {
    "id": "JdhEtfL4mpIo"
   },
   "outputs": [],
   "source": [
    "# Reduce learning rate based on the validation loss\n",
    "reduce_lr = ReduceLROnPlateau(monitor='val_loss', factor=0.99, verbose=1, mode='min', min_lr=0.0001)"
   ]
  },
  {
   "cell_type": "code",
   "execution_count": 48,
   "metadata": {
    "id": "pJCvd660V1we"
   },
   "outputs": [],
   "source": [
    "checkpoint_filepath = 'model_1'\n",
    "model_checkpoint_callback = tf.keras.callbacks.ModelCheckpoint(\n",
    "    filepath=checkpoint_filepath,\n",
    "    save_weights_only=True,\n",
    "    monitor='val_loss',\n",
    "    mode='min',\n",
    "    save_best_only=True)"
   ]
  },
  {
   "cell_type": "code",
   "execution_count": 52,
   "metadata": {
    "id": "h54iCsvQElOp"
   },
   "outputs": [],
   "source": [
    "model  = Model1(encoder_inputs_length=max_length_encoder,decoder_inputs_length=max_length_decoder,output_vocab_size=target_vocab_size)"
   ]
  },
  {
   "cell_type": "code",
   "execution_count": null,
   "metadata": {
    "id": "4AuSPsHDFvhI"
   },
   "outputs": [],
   "source": [
    "# Do once normal loss function works\n",
    "loss_object = tf.keras.losses.SparseCategoricalCrossentropy(from_logits=True, reduction='none')\n",
    "\n",
    "def custom_lossfunction(real, pred):\n",
    "\n",
    "  # Custom loss function that will not consider the loss for padded zeros.\n",
    "  # Refer https://www.tensorflow.org/tutorials/text/nmt_with_attention#define_the_optimizer_and_the_loss_function\n",
    "  \n",
    "  loss_object = tf.keras.losses.SparseCategoricalCrossentropy(from_logits=True, reduction='none')\n",
    "\n",
    "  mask = tf.math.logical_not(tf.math.equal(real, 0))\n",
    "  loss_ = loss_object(real, pred)\n",
    "\n",
    "  mask = tf.cast(mask, dtype=loss_.dtype)\n",
    "  loss_ *= mask\n",
    "\n",
    "  return tf.reduce_mean(loss_)\n"
   ]
  },
  {
   "cell_type": "code",
   "execution_count": 53,
   "metadata": {
    "id": "Bcix47d-L2Ap"
   },
   "outputs": [],
   "source": [
    "# Using Adam and Gradient clipping to prevent gradient explosion as mentioned in the research paper\n",
    "optimizer = tf.keras.optimizers.Adam(lr=0.001)\n",
    "model.compile(optimizer=optimizer,loss='categorical_crossentropy')\n",
    "train_steps=train.shape[0]//64\n",
    "valid_steps=test.shape[0]//20 \n"
   ]
  },
  {
   "cell_type": "code",
   "execution_count": 54,
   "metadata": {
    "colab": {
     "base_uri": "https://localhost:8080/"
    },
    "id": "aV6gpE1iE5a7",
    "outputId": "0744ca70-a22f-40a9-b9e7-f16bb940a3e6"
   },
   "outputs": [
    {
     "name": "stdout",
     "output_type": "stream",
     "text": [
      "Epoch 1/200\n",
      "30/30 [==============================] - 4s 60ms/step - loss: 3.7757 - val_loss: 1.3952\n",
      "Epoch 2/200\n",
      "30/30 [==============================] - 1s 39ms/step - loss: 1.6538 - val_loss: 1.0314\n",
      "Epoch 3/200\n",
      "30/30 [==============================] - 1s 39ms/step - loss: 1.2648 - val_loss: 0.9008\n",
      "Epoch 4/200\n",
      "30/30 [==============================] - 1s 40ms/step - loss: 1.1970 - val_loss: 0.8636\n",
      "Epoch 5/200\n",
      "30/30 [==============================] - 1s 40ms/step - loss: 1.1760 - val_loss: 0.8459\n",
      "Epoch 6/200\n",
      "30/30 [==============================] - 1s 39ms/step - loss: 1.1676 - val_loss: 0.8293\n",
      "Epoch 7/200\n",
      "30/30 [==============================] - 1s 40ms/step - loss: 1.1295 - val_loss: 0.8153\n",
      "Epoch 8/200\n",
      "30/30 [==============================] - 1s 40ms/step - loss: 1.1308 - val_loss: 0.7995\n",
      "Epoch 9/200\n",
      "30/30 [==============================] - 1s 40ms/step - loss: 1.1125 - val_loss: 0.7821\n",
      "Epoch 10/200\n",
      "30/30 [==============================] - 1s 40ms/step - loss: 1.1086 - val_loss: 0.7621\n",
      "Epoch 11/200\n",
      "30/30 [==============================] - 1s 39ms/step - loss: 1.0370 - val_loss: 0.7401\n",
      "Epoch 12/200\n",
      "30/30 [==============================] - 1s 40ms/step - loss: 1.0344 - val_loss: 0.7167\n",
      "Epoch 13/200\n",
      "30/30 [==============================] - 1s 39ms/step - loss: 0.9907 - val_loss: 0.6932\n",
      "Epoch 14/200\n",
      "30/30 [==============================] - 1s 40ms/step - loss: 0.9835 - val_loss: 0.6717\n",
      "Epoch 15/200\n",
      "30/30 [==============================] - 1s 39ms/step - loss: 0.9495 - val_loss: 0.6538\n",
      "Epoch 16/200\n",
      "30/30 [==============================] - 1s 39ms/step - loss: 0.9224 - val_loss: 0.6381\n",
      "Epoch 17/200\n",
      "30/30 [==============================] - 1s 39ms/step - loss: 0.9268 - val_loss: 0.6254\n",
      "Epoch 18/200\n",
      "30/30 [==============================] - 1s 40ms/step - loss: 0.9026 - val_loss: 0.6149\n",
      "Epoch 19/200\n",
      "30/30 [==============================] - 1s 40ms/step - loss: 0.8798 - val_loss: 0.6061\n",
      "Epoch 20/200\n",
      "30/30 [==============================] - 1s 39ms/step - loss: 0.8869 - val_loss: 0.5969\n",
      "Epoch 21/200\n",
      "30/30 [==============================] - 1s 40ms/step - loss: 0.8629 - val_loss: 0.5910\n",
      "Epoch 22/200\n",
      "30/30 [==============================] - 1s 39ms/step - loss: 0.8337 - val_loss: 0.5844\n",
      "Epoch 23/200\n",
      "30/30 [==============================] - 1s 39ms/step - loss: 0.8235 - val_loss: 0.5789\n",
      "Epoch 24/200\n",
      "30/30 [==============================] - 1s 40ms/step - loss: 0.8324 - val_loss: 0.5740\n",
      "Epoch 25/200\n",
      "30/30 [==============================] - 1s 39ms/step - loss: 0.8195 - val_loss: 0.5681\n",
      "Epoch 26/200\n",
      "30/30 [==============================] - 1s 39ms/step - loss: 0.8158 - val_loss: 0.5628\n",
      "Epoch 27/200\n",
      "30/30 [==============================] - 1s 40ms/step - loss: 0.8099 - val_loss: 0.5593\n",
      "Epoch 28/200\n",
      "30/30 [==============================] - 1s 40ms/step - loss: 0.8057 - val_loss: 0.5538\n",
      "Epoch 29/200\n",
      "30/30 [==============================] - 1s 39ms/step - loss: 0.7877 - val_loss: 0.5503\n",
      "Epoch 30/200\n",
      "30/30 [==============================] - 1s 40ms/step - loss: 0.7859 - val_loss: 0.5475\n",
      "Epoch 31/200\n",
      "30/30 [==============================] - 1s 39ms/step - loss: 0.7895 - val_loss: 0.5439\n",
      "Epoch 32/200\n",
      "30/30 [==============================] - 1s 39ms/step - loss: 0.7810 - val_loss: 0.5409\n",
      "Epoch 33/200\n",
      "30/30 [==============================] - 1s 39ms/step - loss: 0.7684 - val_loss: 0.5380\n",
      "Epoch 34/200\n",
      "30/30 [==============================] - 1s 39ms/step - loss: 0.7742 - val_loss: 0.5347\n",
      "Epoch 35/200\n",
      "30/30 [==============================] - 1s 40ms/step - loss: 0.7681 - val_loss: 0.5311\n",
      "Epoch 36/200\n",
      "30/30 [==============================] - 1s 40ms/step - loss: 0.7742 - val_loss: 0.5294\n",
      "Epoch 37/200\n",
      "30/30 [==============================] - 1s 39ms/step - loss: 0.7468 - val_loss: 0.5262\n",
      "Epoch 38/200\n",
      "30/30 [==============================] - 1s 40ms/step - loss: 0.7648 - val_loss: 0.5249\n",
      "Epoch 39/200\n",
      "30/30 [==============================] - 1s 39ms/step - loss: 0.7431 - val_loss: 0.5214\n",
      "Epoch 40/200\n",
      "30/30 [==============================] - 1s 40ms/step - loss: 0.7592 - val_loss: 0.5187\n",
      "Epoch 41/200\n",
      "30/30 [==============================] - 1s 40ms/step - loss: 0.7359 - val_loss: 0.5166\n",
      "Epoch 42/200\n",
      "30/30 [==============================] - 1s 39ms/step - loss: 0.7394 - val_loss: 0.5143\n",
      "Epoch 43/200\n",
      "30/30 [==============================] - 1s 40ms/step - loss: 0.7453 - val_loss: 0.5125\n",
      "Epoch 44/200\n",
      "30/30 [==============================] - 1s 39ms/step - loss: 0.7454 - val_loss: 0.5097\n",
      "Epoch 45/200\n",
      "30/30 [==============================] - 1s 39ms/step - loss: 0.7409 - val_loss: 0.5073\n",
      "Epoch 46/200\n",
      "30/30 [==============================] - 1s 38ms/step - loss: 0.7385 - val_loss: 0.5063\n",
      "Epoch 47/200\n",
      "30/30 [==============================] - 1s 39ms/step - loss: 0.7368 - val_loss: 0.5047\n",
      "Epoch 48/200\n",
      "30/30 [==============================] - 1s 40ms/step - loss: 0.7356 - val_loss: 0.5013\n",
      "Epoch 49/200\n",
      "30/30 [==============================] - 1s 39ms/step - loss: 0.7071 - val_loss: 0.5017\n",
      "Epoch 50/200\n",
      "30/30 [==============================] - 1s 39ms/step - loss: 0.7185 - val_loss: 0.4990\n",
      "Epoch 51/200\n",
      "30/30 [==============================] - 1s 39ms/step - loss: 0.7066 - val_loss: 0.4971\n",
      "Epoch 52/200\n",
      "30/30 [==============================] - 1s 39ms/step - loss: 0.7195 - val_loss: 0.4949\n",
      "Epoch 53/200\n",
      "30/30 [==============================] - 1s 40ms/step - loss: 0.7194 - val_loss: 0.4929\n",
      "Epoch 54/200\n",
      "30/30 [==============================] - 1s 39ms/step - loss: 0.7077 - val_loss: 0.4918\n",
      "Epoch 55/200\n",
      "30/30 [==============================] - 1s 40ms/step - loss: 0.7057 - val_loss: 0.4893\n",
      "Epoch 56/200\n",
      "30/30 [==============================] - 1s 40ms/step - loss: 0.7045 - val_loss: 0.4878\n",
      "Epoch 57/200\n",
      "30/30 [==============================] - 1s 41ms/step - loss: 0.7014 - val_loss: 0.4876\n",
      "Epoch 58/200\n",
      "30/30 [==============================] - 1s 40ms/step - loss: 0.6971 - val_loss: 0.4844\n",
      "Epoch 59/200\n",
      "30/30 [==============================] - 1s 42ms/step - loss: 0.6936 - val_loss: 0.4838\n",
      "Epoch 60/200\n",
      "30/30 [==============================] - 1s 40ms/step - loss: 0.6957 - val_loss: 0.4811\n",
      "Epoch 61/200\n",
      "30/30 [==============================] - 1s 40ms/step - loss: 0.6833 - val_loss: 0.4817\n",
      "Epoch 62/200\n",
      "30/30 [==============================] - 1s 40ms/step - loss: 0.7081 - val_loss: 0.4799\n",
      "Epoch 63/200\n",
      "30/30 [==============================] - 1s 40ms/step - loss: 0.6983 - val_loss: 0.4771\n",
      "Epoch 64/200\n",
      "30/30 [==============================] - 1s 40ms/step - loss: 0.6821 - val_loss: 0.4763\n",
      "Epoch 65/200\n",
      "30/30 [==============================] - 1s 40ms/step - loss: 0.6887 - val_loss: 0.4753\n",
      "Epoch 66/200\n",
      "30/30 [==============================] - 1s 40ms/step - loss: 0.6822 - val_loss: 0.4732\n",
      "Epoch 67/200\n",
      "30/30 [==============================] - 1s 41ms/step - loss: 0.6660 - val_loss: 0.4717\n",
      "Epoch 68/200\n",
      "30/30 [==============================] - 1s 40ms/step - loss: 0.6682 - val_loss: 0.4708\n",
      "Epoch 69/200\n",
      "30/30 [==============================] - 1s 40ms/step - loss: 0.6802 - val_loss: 0.4706\n",
      "Epoch 70/200\n",
      "30/30 [==============================] - 1s 39ms/step - loss: 0.6770 - val_loss: 0.4684\n",
      "Epoch 71/200\n",
      "30/30 [==============================] - 1s 40ms/step - loss: 0.6813 - val_loss: 0.4677\n",
      "Epoch 72/200\n",
      "30/30 [==============================] - 1s 40ms/step - loss: 0.6685 - val_loss: 0.4649\n",
      "Epoch 73/200\n",
      "30/30 [==============================] - 1s 40ms/step - loss: 0.6532 - val_loss: 0.4650\n",
      "Epoch 74/200\n",
      "30/30 [==============================] - 1s 40ms/step - loss: 0.6575 - val_loss: 0.4616\n",
      "Epoch 75/200\n",
      "30/30 [==============================] - 1s 41ms/step - loss: 0.6659 - val_loss: 0.4606\n",
      "Epoch 76/200\n",
      "30/30 [==============================] - 1s 40ms/step - loss: 0.6719 - val_loss: 0.4593\n",
      "Epoch 77/200\n",
      "30/30 [==============================] - 1s 40ms/step - loss: 0.6446 - val_loss: 0.4601\n",
      "Epoch 78/200\n",
      "30/30 [==============================] - 1s 41ms/step - loss: 0.6481 - val_loss: 0.4573\n",
      "Epoch 79/200\n",
      "30/30 [==============================] - 1s 40ms/step - loss: 0.6548 - val_loss: 0.4555\n",
      "Epoch 80/200\n",
      "30/30 [==============================] - 1s 40ms/step - loss: 0.6560 - val_loss: 0.4545\n",
      "Epoch 81/200\n",
      "30/30 [==============================] - 1s 39ms/step - loss: 0.6506 - val_loss: 0.4537\n",
      "Epoch 82/200\n",
      "30/30 [==============================] - 1s 40ms/step - loss: 0.6525 - val_loss: 0.4537\n",
      "Epoch 83/200\n",
      "30/30 [==============================] - 1s 39ms/step - loss: 0.6629 - val_loss: 0.4511\n",
      "Epoch 84/200\n",
      "30/30 [==============================] - 1s 40ms/step - loss: 0.6511 - val_loss: 0.4503\n",
      "Epoch 85/200\n",
      "30/30 [==============================] - 1s 40ms/step - loss: 0.6433 - val_loss: 0.4497\n",
      "Epoch 86/200\n",
      "30/30 [==============================] - 1s 40ms/step - loss: 0.6448 - val_loss: 0.4489\n",
      "Epoch 87/200\n",
      "30/30 [==============================] - 1s 39ms/step - loss: 0.6698 - val_loss: 0.4478\n",
      "Epoch 88/200\n",
      "30/30 [==============================] - 1s 40ms/step - loss: 0.6260 - val_loss: 0.4470\n",
      "Epoch 89/200\n",
      "30/30 [==============================] - 1s 39ms/step - loss: 0.6542 - val_loss: 0.4440\n",
      "Epoch 90/200\n",
      "30/30 [==============================] - 1s 39ms/step - loss: 0.6356 - val_loss: 0.4456\n",
      "Epoch 91/200\n",
      "30/30 [==============================] - 1s 39ms/step - loss: 0.6380 - val_loss: 0.4437\n",
      "Epoch 92/200\n",
      "30/30 [==============================] - 1s 40ms/step - loss: 0.6401 - val_loss: 0.4428\n",
      "Epoch 93/200\n",
      "30/30 [==============================] - 1s 40ms/step - loss: 0.6352 - val_loss: 0.4412\n",
      "Epoch 94/200\n",
      "30/30 [==============================] - 1s 39ms/step - loss: 0.6356 - val_loss: 0.4409\n",
      "Epoch 95/200\n",
      "30/30 [==============================] - 1s 39ms/step - loss: 0.6454 - val_loss: 0.4398\n",
      "Epoch 96/200\n",
      "30/30 [==============================] - 1s 40ms/step - loss: 0.6369 - val_loss: 0.4396\n",
      "Epoch 97/200\n",
      "30/30 [==============================] - 1s 40ms/step - loss: 0.6356 - val_loss: 0.4366\n",
      "Epoch 98/200\n",
      "30/30 [==============================] - 1s 40ms/step - loss: 0.6334 - val_loss: 0.4363\n",
      "Epoch 99/200\n",
      "30/30 [==============================] - 1s 39ms/step - loss: 0.6147 - val_loss: 0.4361\n",
      "Epoch 100/200\n",
      "30/30 [==============================] - 1s 40ms/step - loss: 0.6343 - val_loss: 0.4332\n",
      "Epoch 101/200\n",
      "30/30 [==============================] - 1s 39ms/step - loss: 0.6168 - val_loss: 0.4331\n",
      "Epoch 102/200\n",
      "30/30 [==============================] - 1s 39ms/step - loss: 0.6154 - val_loss: 0.4316\n",
      "Epoch 103/200\n",
      "30/30 [==============================] - 1s 40ms/step - loss: 0.6236 - val_loss: 0.4298\n",
      "Epoch 104/200\n",
      "30/30 [==============================] - 1s 41ms/step - loss: 0.6158 - val_loss: 0.4297\n",
      "Epoch 105/200\n",
      "30/30 [==============================] - 1s 41ms/step - loss: 0.6043 - val_loss: 0.4277\n",
      "Epoch 106/200\n",
      "30/30 [==============================] - 1s 40ms/step - loss: 0.6105 - val_loss: 0.4246\n",
      "Epoch 107/200\n",
      "30/30 [==============================] - 1s 39ms/step - loss: 0.6030 - val_loss: 0.4240\n",
      "Epoch 108/200\n",
      "30/30 [==============================] - 1s 40ms/step - loss: 0.5998 - val_loss: 0.4230\n",
      "Epoch 109/200\n",
      "30/30 [==============================] - 1s 40ms/step - loss: 0.6043 - val_loss: 0.4218\n",
      "Epoch 110/200\n",
      "30/30 [==============================] - 1s 39ms/step - loss: 0.6062 - val_loss: 0.4207\n",
      "Epoch 111/200\n",
      "30/30 [==============================] - 1s 40ms/step - loss: 0.5975 - val_loss: 0.4188\n",
      "Epoch 112/200\n",
      "30/30 [==============================] - 1s 40ms/step - loss: 0.6121 - val_loss: 0.4172\n",
      "Epoch 113/200\n",
      "30/30 [==============================] - 1s 39ms/step - loss: 0.5867 - val_loss: 0.4177\n",
      "Epoch 114/200\n",
      "30/30 [==============================] - 1s 39ms/step - loss: 0.6019 - val_loss: 0.4177\n",
      "Epoch 115/200\n",
      "30/30 [==============================] - 1s 39ms/step - loss: 0.5953 - val_loss: 0.4149\n",
      "Epoch 116/200\n",
      "30/30 [==============================] - 1s 39ms/step - loss: 0.5926 - val_loss: 0.4163\n",
      "Epoch 117/200\n",
      "30/30 [==============================] - 1s 41ms/step - loss: 0.5831 - val_loss: 0.4153\n",
      "Epoch 118/200\n",
      "30/30 [==============================] - 1s 39ms/step - loss: 0.5986 - val_loss: 0.4149\n",
      "Epoch 119/200\n",
      "30/30 [==============================] - 1s 40ms/step - loss: 0.5826 - val_loss: 0.4125\n",
      "Epoch 120/200\n",
      "30/30 [==============================] - 1s 39ms/step - loss: 0.5793 - val_loss: 0.4128\n",
      "Epoch 121/200\n",
      "30/30 [==============================] - 1s 40ms/step - loss: 0.5873 - val_loss: 0.4121\n",
      "Epoch 122/200\n",
      "30/30 [==============================] - 1s 39ms/step - loss: 0.5945 - val_loss: 0.4097\n",
      "Epoch 123/200\n",
      "30/30 [==============================] - 1s 40ms/step - loss: 0.5792 - val_loss: 0.4105\n",
      "Epoch 124/200\n",
      "30/30 [==============================] - 1s 40ms/step - loss: 0.5889 - val_loss: 0.4079\n",
      "Epoch 125/200\n",
      "30/30 [==============================] - 1s 40ms/step - loss: 0.5887 - val_loss: 0.4081\n",
      "Epoch 126/200\n",
      "30/30 [==============================] - 1s 40ms/step - loss: 0.5840 - val_loss: 0.4069\n",
      "Epoch 127/200\n",
      "30/30 [==============================] - 1s 39ms/step - loss: 0.5794 - val_loss: 0.4070\n",
      "Epoch 128/200\n",
      "30/30 [==============================] - 1s 40ms/step - loss: 0.5790 - val_loss: 0.4074\n",
      "Epoch 129/200\n",
      "30/30 [==============================] - 1s 39ms/step - loss: 0.5850 - val_loss: 0.4059\n",
      "Epoch 130/200\n",
      "30/30 [==============================] - 1s 40ms/step - loss: 0.5670 - val_loss: 0.4054\n",
      "Epoch 131/200\n",
      "30/30 [==============================] - 1s 39ms/step - loss: 0.5690 - val_loss: 0.4049\n",
      "Epoch 132/200\n",
      "30/30 [==============================] - 1s 40ms/step - loss: 0.5754 - val_loss: 0.4051\n",
      "Epoch 133/200\n",
      "30/30 [==============================] - 1s 40ms/step - loss: 0.5777 - val_loss: 0.4026\n",
      "Epoch 134/200\n",
      "30/30 [==============================] - 1s 40ms/step - loss: 0.5675 - val_loss: 0.4028\n",
      "Epoch 135/200\n",
      "30/30 [==============================] - 1s 40ms/step - loss: 0.5727 - val_loss: 0.4029\n",
      "Epoch 136/200\n",
      "30/30 [==============================] - 1s 40ms/step - loss: 0.5671 - val_loss: 0.4023\n",
      "Epoch 137/200\n",
      "30/30 [==============================] - 1s 40ms/step - loss: 0.5725 - val_loss: 0.4005\n",
      "Epoch 138/200\n",
      "30/30 [==============================] - 1s 40ms/step - loss: 0.5666 - val_loss: 0.4012\n",
      "Epoch 139/200\n",
      "30/30 [==============================] - 1s 39ms/step - loss: 0.5590 - val_loss: 0.4014\n",
      "Epoch 140/200\n",
      "30/30 [==============================] - 1s 40ms/step - loss: 0.5728 - val_loss: 0.3990\n",
      "Epoch 141/200\n",
      "30/30 [==============================] - 1s 40ms/step - loss: 0.5649 - val_loss: 0.3978\n",
      "Epoch 142/200\n",
      "30/30 [==============================] - 1s 40ms/step - loss: 0.5503 - val_loss: 0.3988\n",
      "Epoch 143/200\n",
      "30/30 [==============================] - 1s 39ms/step - loss: 0.5554 - val_loss: 0.4003\n",
      "Epoch 144/200\n",
      "30/30 [==============================] - 1s 40ms/step - loss: 0.5651 - val_loss: 0.3978\n",
      "Epoch 145/200\n",
      "30/30 [==============================] - 1s 39ms/step - loss: 0.5638 - val_loss: 0.3961\n",
      "Epoch 146/200\n",
      "30/30 [==============================] - 1s 39ms/step - loss: 0.5613 - val_loss: 0.3987\n",
      "Epoch 147/200\n",
      "30/30 [==============================] - 1s 40ms/step - loss: 0.5487 - val_loss: 0.3968\n",
      "Epoch 148/200\n",
      "30/30 [==============================] - 1s 40ms/step - loss: 0.5625 - val_loss: 0.3962\n",
      "Epoch 149/200\n",
      "30/30 [==============================] - 1s 39ms/step - loss: 0.5518 - val_loss: 0.3953\n",
      "Epoch 150/200\n",
      "30/30 [==============================] - 1s 40ms/step - loss: 0.5378 - val_loss: 0.3944\n",
      "Epoch 151/200\n",
      "30/30 [==============================] - 1s 40ms/step - loss: 0.5610 - val_loss: 0.3941\n",
      "Epoch 152/200\n",
      "30/30 [==============================] - 1s 40ms/step - loss: 0.5584 - val_loss: 0.3951\n",
      "Epoch 153/200\n",
      "30/30 [==============================] - 1s 40ms/step - loss: 0.5443 - val_loss: 0.3936\n",
      "Epoch 154/200\n",
      "30/30 [==============================] - 1s 41ms/step - loss: 0.5297 - val_loss: 0.3925\n",
      "Epoch 155/200\n",
      "30/30 [==============================] - 1s 40ms/step - loss: 0.5410 - val_loss: 0.3914\n",
      "Epoch 156/200\n",
      "30/30 [==============================] - 1s 40ms/step - loss: 0.5614 - val_loss: 0.3902\n",
      "Epoch 157/200\n",
      "30/30 [==============================] - 1s 40ms/step - loss: 0.5516 - val_loss: 0.3899\n",
      "Epoch 158/200\n",
      "30/30 [==============================] - 1s 39ms/step - loss: 0.5456 - val_loss: 0.3914\n",
      "Epoch 159/200\n",
      "30/30 [==============================] - 1s 40ms/step - loss: 0.5481 - val_loss: 0.3909\n",
      "Epoch 160/200\n",
      "30/30 [==============================] - 1s 40ms/step - loss: 0.5351 - val_loss: 0.3894\n",
      "Epoch 161/200\n",
      "30/30 [==============================] - 1s 39ms/step - loss: 0.5472 - val_loss: 0.3887\n",
      "Epoch 162/200\n",
      "30/30 [==============================] - 1s 40ms/step - loss: 0.5357 - val_loss: 0.3897\n",
      "Epoch 163/200\n",
      "30/30 [==============================] - 1s 41ms/step - loss: 0.5331 - val_loss: 0.3890\n",
      "Epoch 164/200\n",
      "30/30 [==============================] - 1s 40ms/step - loss: 0.5415 - val_loss: 0.3876\n",
      "Epoch 165/200\n",
      "30/30 [==============================] - 1s 40ms/step - loss: 0.5471 - val_loss: 0.3866\n",
      "Epoch 166/200\n",
      "30/30 [==============================] - 1s 41ms/step - loss: 0.5200 - val_loss: 0.3883\n",
      "Epoch 167/200\n",
      "30/30 [==============================] - 1s 40ms/step - loss: 0.5358 - val_loss: 0.3873\n",
      "Epoch 168/200\n",
      "30/30 [==============================] - 1s 40ms/step - loss: 0.5404 - val_loss: 0.3855\n",
      "Epoch 169/200\n",
      "30/30 [==============================] - 1s 40ms/step - loss: 0.5272 - val_loss: 0.3857\n",
      "Epoch 170/200\n",
      "30/30 [==============================] - 1s 40ms/step - loss: 0.5342 - val_loss: 0.3870\n",
      "Epoch 171/200\n",
      "30/30 [==============================] - 1s 41ms/step - loss: 0.5398 - val_loss: 0.3866\n",
      "Epoch 172/200\n",
      "30/30 [==============================] - 1s 41ms/step - loss: 0.5280 - val_loss: 0.3863\n",
      "Epoch 173/200\n",
      "30/30 [==============================] - 1s 41ms/step - loss: 0.5421 - val_loss: 0.3853\n",
      "Epoch 174/200\n",
      "30/30 [==============================] - 1s 40ms/step - loss: 0.5398 - val_loss: 0.3841\n",
      "Epoch 175/200\n",
      "30/30 [==============================] - 1s 39ms/step - loss: 0.5226 - val_loss: 0.3845\n",
      "Epoch 176/200\n",
      "30/30 [==============================] - 1s 41ms/step - loss: 0.5215 - val_loss: 0.3843\n",
      "Epoch 177/200\n",
      "30/30 [==============================] - 1s 40ms/step - loss: 0.5238 - val_loss: 0.3850\n",
      "Epoch 178/200\n",
      "30/30 [==============================] - 1s 40ms/step - loss: 0.5342 - val_loss: 0.3839\n",
      "Epoch 179/200\n",
      "30/30 [==============================] - 1s 40ms/step - loss: 0.5288 - val_loss: 0.3823\n",
      "Epoch 180/200\n",
      "30/30 [==============================] - 1s 40ms/step - loss: 0.5288 - val_loss: 0.3828\n",
      "Epoch 181/200\n",
      "30/30 [==============================] - 1s 40ms/step - loss: 0.5387 - val_loss: 0.3847\n",
      "Epoch 182/200\n",
      "30/30 [==============================] - 1s 41ms/step - loss: 0.5212 - val_loss: 0.3833\n",
      "Epoch 183/200\n",
      "30/30 [==============================] - 1s 41ms/step - loss: 0.5328 - val_loss: 0.3819\n",
      "Epoch 184/200\n",
      "30/30 [==============================] - 1s 40ms/step - loss: 0.5196 - val_loss: 0.3816\n",
      "Epoch 185/200\n",
      "30/30 [==============================] - 1s 40ms/step - loss: 0.5216 - val_loss: 0.3822\n",
      "Epoch 186/200\n",
      "30/30 [==============================] - 1s 39ms/step - loss: 0.5079 - val_loss: 0.3843\n",
      "Epoch 187/200\n",
      "30/30 [==============================] - 1s 39ms/step - loss: 0.5214 - val_loss: 0.3822\n",
      "Epoch 188/200\n",
      "30/30 [==============================] - 1s 42ms/step - loss: 0.5121 - val_loss: 0.3808\n",
      "Epoch 189/200\n",
      "30/30 [==============================] - 1s 40ms/step - loss: 0.5169 - val_loss: 0.3804\n",
      "Epoch 190/200\n",
      "30/30 [==============================] - 1s 40ms/step - loss: 0.5167 - val_loss: 0.3822\n",
      "Epoch 191/200\n",
      "30/30 [==============================] - 1s 40ms/step - loss: 0.5007 - val_loss: 0.3832\n",
      "Epoch 192/200\n",
      "30/30 [==============================] - 1s 40ms/step - loss: 0.5153 - val_loss: 0.3804\n",
      "Epoch 193/200\n",
      "30/30 [==============================] - 1s 41ms/step - loss: 0.5172 - val_loss: 0.3803\n",
      "Epoch 194/200\n",
      "30/30 [==============================] - 1s 39ms/step - loss: 0.5150 - val_loss: 0.3803\n",
      "Epoch 195/200\n",
      "30/30 [==============================] - 1s 39ms/step - loss: 0.5206 - val_loss: 0.3798\n",
      "Epoch 196/200\n",
      "30/30 [==============================] - 1s 40ms/step - loss: 0.5128 - val_loss: 0.3794\n",
      "Epoch 197/200\n",
      "30/30 [==============================] - 1s 40ms/step - loss: 0.5081 - val_loss: 0.3807\n",
      "Epoch 198/200\n",
      "30/30 [==============================] - 1s 40ms/step - loss: 0.5127 - val_loss: 0.3789\n",
      "Epoch 199/200\n",
      "30/30 [==============================] - 1s 39ms/step - loss: 0.5016 - val_loss: 0.3785\n",
      "Epoch 200/200\n",
      "30/30 [==============================] - 1s 40ms/step - loss: 0.5174 - val_loss: 0.3796\n",
      "Model: \"model1_4\"\n",
      "_________________________________________________________________\n",
      "Layer (type)                 Output Shape              Param #   \n",
      "=================================================================\n",
      "encoder_4 (Encoder)          multiple                  79200     \n",
      "_________________________________________________________________\n",
      "decoder_4 (Decoder)          multiple                  79200     \n",
      "_________________________________________________________________\n",
      "dense_4 (Dense)              multiple                  9797      \n",
      "=================================================================\n",
      "Total params: 168,197\n",
      "Trainable params: 168,197\n",
      "Non-trainable params: 0\n",
      "_________________________________________________________________\n"
     ]
    }
   ],
   "source": [
    "model.fit(train_dataloader, steps_per_epoch=train_steps, epochs=200,  validation_data=test_dataloader, validation_steps=valid_steps, callbacks=[reduce_lr, model_checkpoint_callback])\n",
    "model.summary()"
   ]
  },
  {
   "cell_type": "code",
   "execution_count": 55,
   "metadata": {
    "colab": {
     "base_uri": "https://localhost:8080/"
    },
    "id": "dXHxPv5kb-R4",
    "outputId": "645e7952-c48c-4be6-85e8-bf4a03eaae8f"
   },
   "outputs": [
    {
     "name": "stdout",
     "output_type": "stream",
     "text": [
      "Epoch 1/200\n",
      "30/30 [==============================] - 1s 41ms/step - loss: 0.5117 - val_loss: 0.3777\n",
      "Epoch 2/200\n",
      "30/30 [==============================] - 1s 39ms/step - loss: 0.5104 - val_loss: 0.3776\n",
      "Epoch 3/200\n",
      "30/30 [==============================] - 1s 39ms/step - loss: 0.5099 - val_loss: 0.3776\n",
      "Epoch 4/200\n",
      "30/30 [==============================] - 1s 40ms/step - loss: 0.5092 - val_loss: 0.3773\n",
      "Epoch 5/200\n",
      "30/30 [==============================] - 1s 40ms/step - loss: 0.5090 - val_loss: 0.3757\n",
      "Epoch 6/200\n",
      "30/30 [==============================] - 1s 39ms/step - loss: 0.5083 - val_loss: 0.3774\n",
      "Epoch 7/200\n",
      "30/30 [==============================] - 1s 40ms/step - loss: 0.5071 - val_loss: 0.3756\n",
      "Epoch 8/200\n",
      "30/30 [==============================] - 1s 40ms/step - loss: 0.5059 - val_loss: 0.3764\n",
      "Epoch 9/200\n",
      "30/30 [==============================] - 1s 41ms/step - loss: 0.5056 - val_loss: 0.3765\n",
      "Epoch 10/200\n",
      "30/30 [==============================] - 1s 40ms/step - loss: 0.5050 - val_loss: 0.3764\n",
      "Epoch 11/200\n",
      "30/30 [==============================] - 1s 39ms/step - loss: 0.5040 - val_loss: 0.3760\n",
      "Epoch 12/200\n",
      "30/30 [==============================] - 1s 40ms/step - loss: 0.5032 - val_loss: 0.3751\n",
      "Epoch 13/200\n",
      "30/30 [==============================] - 1s 38ms/step - loss: 0.5024 - val_loss: 0.3770\n",
      "Epoch 14/200\n",
      "30/30 [==============================] - 1s 40ms/step - loss: 0.5022 - val_loss: 0.3754\n",
      "Epoch 15/200\n",
      "30/30 [==============================] - 1s 39ms/step - loss: 0.5014 - val_loss: 0.3760\n",
      "Epoch 16/200\n",
      "30/30 [==============================] - 1s 40ms/step - loss: 0.5009 - val_loss: 0.3766\n",
      "Epoch 17/200\n",
      "30/30 [==============================] - 1s 39ms/step - loss: 0.5001 - val_loss: 0.3746\n",
      "Epoch 18/200\n",
      "30/30 [==============================] - 1s 41ms/step - loss: 0.4991 - val_loss: 0.3745\n",
      "Epoch 19/200\n",
      "30/30 [==============================] - 1s 40ms/step - loss: 0.4985 - val_loss: 0.3746\n",
      "Epoch 20/200\n",
      "30/30 [==============================] - 1s 40ms/step - loss: 0.4979 - val_loss: 0.3763\n",
      "Epoch 21/200\n",
      "30/30 [==============================] - 1s 40ms/step - loss: 0.4978 - val_loss: 0.3744\n",
      "Epoch 22/200\n",
      "30/30 [==============================] - 1s 39ms/step - loss: 0.4968 - val_loss: 0.3760\n",
      "Epoch 23/200\n",
      "30/30 [==============================] - 1s 40ms/step - loss: 0.4961 - val_loss: 0.3748\n",
      "Epoch 24/200\n",
      "30/30 [==============================] - 1s 39ms/step - loss: 0.4951 - val_loss: 0.3739\n",
      "Epoch 25/200\n",
      "30/30 [==============================] - 1s 40ms/step - loss: 0.4946 - val_loss: 0.3747\n",
      "Epoch 26/200\n",
      "30/30 [==============================] - 1s 39ms/step - loss: 0.4938 - val_loss: 0.3747\n",
      "Epoch 27/200\n",
      "30/30 [==============================] - 1s 39ms/step - loss: 0.4930 - val_loss: 0.3741\n",
      "Epoch 28/200\n",
      "30/30 [==============================] - 1s 39ms/step - loss: 0.4927 - val_loss: 0.3747\n",
      "Epoch 29/200\n",
      "30/30 [==============================] - 1s 41ms/step - loss: 0.4924 - val_loss: 0.3743\n",
      "Epoch 30/200\n",
      "30/30 [==============================] - 1s 39ms/step - loss: 0.4916 - val_loss: 0.3745\n",
      "Epoch 31/200\n",
      "30/30 [==============================] - 1s 40ms/step - loss: 0.4909 - val_loss: 0.3727\n",
      "Epoch 32/200\n",
      "30/30 [==============================] - 1s 39ms/step - loss: 0.4899 - val_loss: 0.3727\n",
      "Epoch 33/200\n",
      "30/30 [==============================] - 1s 40ms/step - loss: 0.4894 - val_loss: 0.3751\n",
      "Epoch 34/200\n",
      "30/30 [==============================] - 1s 40ms/step - loss: 0.4888 - val_loss: 0.3739\n",
      "Epoch 35/200\n",
      "30/30 [==============================] - 1s 39ms/step - loss: 0.4881 - val_loss: 0.3756\n",
      "Epoch 36/200\n",
      "30/30 [==============================] - 1s 40ms/step - loss: 0.4876 - val_loss: 0.3727\n",
      "Epoch 37/200\n",
      "30/30 [==============================] - 1s 40ms/step - loss: 0.4867 - val_loss: 0.3737\n",
      "Epoch 38/200\n",
      "30/30 [==============================] - 1s 39ms/step - loss: 0.4870 - val_loss: 0.3746\n",
      "Epoch 39/200\n",
      "30/30 [==============================] - 1s 39ms/step - loss: 0.4857 - val_loss: 0.3727\n",
      "Epoch 40/200\n",
      "30/30 [==============================] - 1s 39ms/step - loss: 0.4850 - val_loss: 0.3741\n",
      "Epoch 41/200\n",
      "30/30 [==============================] - 1s 40ms/step - loss: 0.4847 - val_loss: 0.3724\n",
      "Epoch 42/200\n",
      "30/30 [==============================] - 1s 40ms/step - loss: 0.4841 - val_loss: 0.3741\n",
      "Epoch 43/200\n",
      "30/30 [==============================] - 1s 40ms/step - loss: 0.4831 - val_loss: 0.3730\n",
      "Epoch 44/200\n",
      "30/30 [==============================] - 1s 40ms/step - loss: 0.4829 - val_loss: 0.3737\n",
      "Epoch 45/200\n",
      "30/30 [==============================] - 1s 39ms/step - loss: 0.4821 - val_loss: 0.3727\n",
      "Epoch 46/200\n",
      "30/30 [==============================] - 1s 40ms/step - loss: 0.4819 - val_loss: 0.3746\n",
      "Epoch 47/200\n",
      "30/30 [==============================] - 1s 40ms/step - loss: 0.4816 - val_loss: 0.3724\n",
      "Epoch 48/200\n",
      "30/30 [==============================] - 1s 39ms/step - loss: 0.4804 - val_loss: 0.3748\n",
      "Epoch 49/200\n",
      "30/30 [==============================] - 1s 39ms/step - loss: 0.4798 - val_loss: 0.3733\n",
      "Epoch 50/200\n",
      "30/30 [==============================] - 1s 39ms/step - loss: 0.4791 - val_loss: 0.3741\n",
      "Epoch 51/200\n",
      "30/30 [==============================] - 1s 40ms/step - loss: 0.4785 - val_loss: 0.3729\n",
      "\n",
      "Epoch 00051: ReduceLROnPlateau reducing learning rate to 0.0009900000470224768.\n",
      "Epoch 52/200\n",
      "30/30 [==============================] - 1s 39ms/step - loss: 0.4779 - val_loss: 0.3742\n",
      "Epoch 53/200\n",
      "30/30 [==============================] - 1s 40ms/step - loss: 0.4779 - val_loss: 0.3720\n",
      "Epoch 54/200\n",
      "30/30 [==============================] - 1s 40ms/step - loss: 0.4766 - val_loss: 0.3733\n",
      "Epoch 55/200\n",
      "30/30 [==============================] - 1s 39ms/step - loss: 0.4760 - val_loss: 0.3739\n",
      "Epoch 56/200\n",
      "30/30 [==============================] - 1s 40ms/step - loss: 0.4754 - val_loss: 0.3722\n",
      "Epoch 57/200\n",
      "30/30 [==============================] - 1s 40ms/step - loss: 0.4750 - val_loss: 0.3736\n",
      "Epoch 58/200\n",
      "30/30 [==============================] - 1s 39ms/step - loss: 0.4745 - val_loss: 0.3732\n",
      "Epoch 59/200\n",
      "30/30 [==============================] - 1s 40ms/step - loss: 0.4742 - val_loss: 0.3740\n",
      "Epoch 60/200\n",
      "30/30 [==============================] - 1s 39ms/step - loss: 0.4735 - val_loss: 0.3740\n",
      "Epoch 61/200\n",
      "30/30 [==============================] - 1s 40ms/step - loss: 0.4728 - val_loss: 0.3738\n",
      "Epoch 62/200\n",
      "30/30 [==============================] - 1s 40ms/step - loss: 0.4721 - val_loss: 0.3748\n",
      "Epoch 63/200\n",
      "30/30 [==============================] - 1s 40ms/step - loss: 0.4717 - val_loss: 0.3738\n",
      "\n",
      "Epoch 00063: ReduceLROnPlateau reducing learning rate to 0.000980100086890161.\n",
      "Epoch 64/200\n",
      "30/30 [==============================] - 1s 39ms/step - loss: 0.4709 - val_loss: 0.3724\n",
      "Epoch 65/200\n",
      "30/30 [==============================] - 1s 39ms/step - loss: 0.4707 - val_loss: 0.3719\n",
      "Epoch 66/200\n",
      "30/30 [==============================] - 1s 39ms/step - loss: 0.4702 - val_loss: 0.3743\n",
      "Epoch 67/200\n",
      "30/30 [==============================] - 1s 39ms/step - loss: 0.4692 - val_loss: 0.3738\n",
      "Epoch 68/200\n",
      "30/30 [==============================] - 1s 41ms/step - loss: 0.4686 - val_loss: 0.3735\n",
      "Epoch 69/200\n",
      "30/30 [==============================] - 1s 40ms/step - loss: 0.4681 - val_loss: 0.3760\n",
      "Epoch 70/200\n",
      "30/30 [==============================] - 1s 40ms/step - loss: 0.4677 - val_loss: 0.3720\n",
      "Epoch 71/200\n",
      "30/30 [==============================] - 1s 40ms/step - loss: 0.4672 - val_loss: 0.3734\n",
      "Epoch 72/200\n",
      "30/30 [==============================] - 1s 41ms/step - loss: 0.4665 - val_loss: 0.3713\n",
      "Epoch 73/200\n",
      "30/30 [==============================] - 1s 41ms/step - loss: 0.4659 - val_loss: 0.3719\n",
      "Epoch 74/200\n",
      "30/30 [==============================] - 1s 39ms/step - loss: 0.4656 - val_loss: 0.3722\n",
      "Epoch 75/200\n",
      "30/30 [==============================] - 1s 40ms/step - loss: 0.4651 - val_loss: 0.3721\n",
      "Epoch 76/200\n",
      "30/30 [==============================] - 1s 40ms/step - loss: 0.4652 - val_loss: 0.3734\n",
      "Epoch 77/200\n",
      "30/30 [==============================] - 1s 40ms/step - loss: 0.4644 - val_loss: 0.3711\n",
      "Epoch 78/200\n",
      "30/30 [==============================] - 1s 40ms/step - loss: 0.4636 - val_loss: 0.3737\n",
      "Epoch 79/200\n",
      "30/30 [==============================] - 1s 40ms/step - loss: 0.4631 - val_loss: 0.3729\n",
      "Epoch 80/200\n",
      "30/30 [==============================] - 1s 41ms/step - loss: 0.4625 - val_loss: 0.3728\n",
      "Epoch 81/200\n",
      "30/30 [==============================] - 1s 40ms/step - loss: 0.4622 - val_loss: 0.3728\n",
      "Epoch 82/200\n",
      "30/30 [==============================] - 1s 39ms/step - loss: 0.4615 - val_loss: 0.3720\n",
      "Epoch 83/200\n",
      "30/30 [==============================] - 1s 40ms/step - loss: 0.4612 - val_loss: 0.3763\n",
      "Epoch 84/200\n",
      "30/30 [==============================] - 1s 39ms/step - loss: 0.4608 - val_loss: 0.3724\n",
      "Epoch 85/200\n",
      "30/30 [==============================] - 1s 40ms/step - loss: 0.4597 - val_loss: 0.3727\n",
      "Epoch 86/200\n",
      "30/30 [==============================] - 1s 40ms/step - loss: 0.4594 - val_loss: 0.3743\n",
      "Epoch 87/200\n",
      "30/30 [==============================] - 1s 39ms/step - loss: 0.4584 - val_loss: 0.3757\n",
      "\n",
      "Epoch 00087: ReduceLROnPlateau reducing learning rate to 0.0009702991275116801.\n",
      "Epoch 88/200\n",
      "30/30 [==============================] - 1s 39ms/step - loss: 0.4584 - val_loss: 0.3756\n",
      "Epoch 89/200\n",
      "30/30 [==============================] - 1s 40ms/step - loss: 0.4577 - val_loss: 0.3753\n",
      "Epoch 90/200\n",
      "30/30 [==============================] - 1s 39ms/step - loss: 0.4569 - val_loss: 0.3716\n",
      "Epoch 91/200\n",
      "30/30 [==============================] - 1s 40ms/step - loss: 0.4575 - val_loss: 0.3743\n",
      "Epoch 92/200\n",
      "30/30 [==============================] - 1s 39ms/step - loss: 0.4569 - val_loss: 0.3731\n",
      "Epoch 93/200\n",
      "30/30 [==============================] - 1s 40ms/step - loss: 0.4560 - val_loss: 0.3736\n",
      "Epoch 94/200\n",
      "30/30 [==============================] - 1s 40ms/step - loss: 0.4551 - val_loss: 0.3742\n",
      "Epoch 95/200\n",
      "30/30 [==============================] - 1s 39ms/step - loss: 0.4543 - val_loss: 0.3756\n",
      "Epoch 96/200\n",
      "30/30 [==============================] - 1s 40ms/step - loss: 0.4545 - val_loss: 0.3751\n",
      "Epoch 97/200\n",
      "30/30 [==============================] - 1s 40ms/step - loss: 0.4542 - val_loss: 0.3746\n",
      "\n",
      "Epoch 00097: ReduceLROnPlateau reducing learning rate to 0.0009605961316265165.\n",
      "Epoch 98/200\n",
      "30/30 [==============================] - 1s 39ms/step - loss: 0.4534 - val_loss: 0.3740\n",
      "Epoch 99/200\n",
      "30/30 [==============================] - 1s 40ms/step - loss: 0.4533 - val_loss: 0.3764\n",
      "Epoch 100/200\n",
      "30/30 [==============================] - 1s 39ms/step - loss: 0.4524 - val_loss: 0.3769\n",
      "Epoch 101/200\n",
      "30/30 [==============================] - 1s 40ms/step - loss: 0.4518 - val_loss: 0.3775\n",
      "Epoch 102/200\n",
      "30/30 [==============================] - 1s 39ms/step - loss: 0.4512 - val_loss: 0.3770\n",
      "Epoch 103/200\n",
      "30/30 [==============================] - 1s 39ms/step - loss: 0.4506 - val_loss: 0.3789\n",
      "Epoch 104/200\n",
      "30/30 [==============================] - 1s 39ms/step - loss: 0.4505 - val_loss: 0.3772\n",
      "Epoch 105/200\n",
      "30/30 [==============================] - 1s 40ms/step - loss: 0.4497 - val_loss: 0.3767\n",
      "Epoch 106/200\n",
      "30/30 [==============================] - 1s 40ms/step - loss: 0.4492 - val_loss: 0.3775\n",
      "Epoch 107/200\n",
      "30/30 [==============================] - 1s 40ms/step - loss: 0.4486 - val_loss: 0.3764\n",
      "\n",
      "Epoch 00107: ReduceLROnPlateau reducing learning rate to 0.0009509901772253215.\n",
      "Epoch 108/200\n",
      "30/30 [==============================] - 1s 40ms/step - loss: 0.4488 - val_loss: 0.3782\n",
      "Epoch 109/200\n",
      "30/30 [==============================] - 1s 39ms/step - loss: 0.4489 - val_loss: 0.3768\n",
      "Epoch 110/200\n",
      "30/30 [==============================] - 1s 40ms/step - loss: 0.4475 - val_loss: 0.3762\n",
      "Epoch 111/200\n",
      "30/30 [==============================] - 1s 40ms/step - loss: 0.4471 - val_loss: 0.3769\n",
      "Epoch 112/200\n",
      "30/30 [==============================] - 1s 39ms/step - loss: 0.4463 - val_loss: 0.3770\n",
      "Epoch 113/200\n",
      "30/30 [==============================] - 1s 39ms/step - loss: 0.4459 - val_loss: 0.3743\n",
      "Epoch 114/200\n",
      "30/30 [==============================] - 1s 40ms/step - loss: 0.4456 - val_loss: 0.3785\n",
      "Epoch 115/200\n",
      "30/30 [==============================] - 1s 39ms/step - loss: 0.4454 - val_loss: 0.3733\n",
      "Epoch 116/200\n",
      "30/30 [==============================] - 1s 40ms/step - loss: 0.4448 - val_loss: 0.3775\n",
      "Epoch 117/200\n",
      "30/30 [==============================] - 1s 40ms/step - loss: 0.4444 - val_loss: 0.3793\n",
      "\n",
      "Epoch 00117: ReduceLROnPlateau reducing learning rate to 0.0009414802846731617.\n",
      "Epoch 118/200\n",
      "30/30 [==============================] - 1s 40ms/step - loss: 0.4434 - val_loss: 0.3778\n",
      "Epoch 119/200\n",
      "30/30 [==============================] - 1s 39ms/step - loss: 0.4431 - val_loss: 0.3818\n",
      "Epoch 120/200\n",
      "30/30 [==============================] - 1s 39ms/step - loss: 0.4427 - val_loss: 0.3777\n",
      "Epoch 121/200\n",
      "30/30 [==============================] - 1s 40ms/step - loss: 0.4427 - val_loss: 0.3766\n",
      "Epoch 122/200\n",
      "30/30 [==============================] - 1s 40ms/step - loss: 0.4424 - val_loss: 0.3789\n",
      "Epoch 123/200\n",
      "30/30 [==============================] - 1s 40ms/step - loss: 0.4418 - val_loss: 0.3769\n",
      "Epoch 124/200\n",
      "30/30 [==============================] - 1s 40ms/step - loss: 0.4409 - val_loss: 0.3774\n",
      "Epoch 125/200\n",
      "30/30 [==============================] - 1s 40ms/step - loss: 0.4402 - val_loss: 0.3808\n",
      "Epoch 126/200\n",
      "30/30 [==============================] - 1s 39ms/step - loss: 0.4402 - val_loss: 0.3805\n",
      "Epoch 127/200\n",
      "30/30 [==============================] - 1s 41ms/step - loss: 0.4403 - val_loss: 0.3791\n",
      "\n",
      "Epoch 00127: ReduceLROnPlateau reducing learning rate to 0.0009320654743351042.\n",
      "Epoch 128/200\n",
      "30/30 [==============================] - 1s 40ms/step - loss: 0.4395 - val_loss: 0.3771\n",
      "Epoch 129/200\n",
      "30/30 [==============================] - 1s 40ms/step - loss: 0.4384 - val_loss: 0.3791\n",
      "Epoch 130/200\n",
      "30/30 [==============================] - 1s 39ms/step - loss: 0.4382 - val_loss: 0.3788\n",
      "Epoch 131/200\n",
      "30/30 [==============================] - 1s 40ms/step - loss: 0.4379 - val_loss: 0.3787\n",
      "Epoch 132/200\n",
      "30/30 [==============================] - 1s 39ms/step - loss: 0.4373 - val_loss: 0.3783\n",
      "Epoch 133/200\n",
      "30/30 [==============================] - 1s 39ms/step - loss: 0.4373 - val_loss: 0.3765\n",
      "Epoch 134/200\n",
      "30/30 [==============================] - 1s 39ms/step - loss: 0.4369 - val_loss: 0.3800\n",
      "Epoch 135/200\n",
      "30/30 [==============================] - 1s 39ms/step - loss: 0.4359 - val_loss: 0.3819\n",
      "Epoch 136/200\n",
      "30/30 [==============================] - 1s 40ms/step - loss: 0.4359 - val_loss: 0.3799\n",
      "Epoch 137/200\n",
      "30/30 [==============================] - 1s 40ms/step - loss: 0.4354 - val_loss: 0.3786\n",
      "\n",
      "Epoch 00137: ReduceLROnPlateau reducing learning rate to 0.0009227448242017999.\n",
      "Epoch 138/200\n",
      "30/30 [==============================] - 1s 39ms/step - loss: 0.4349 - val_loss: 0.3804\n",
      "Epoch 139/200\n",
      "30/30 [==============================] - 1s 40ms/step - loss: 0.4348 - val_loss: 0.3828\n",
      "Epoch 140/200\n",
      "30/30 [==============================] - 1s 40ms/step - loss: 0.4342 - val_loss: 0.3820\n",
      "Epoch 141/200\n",
      "30/30 [==============================] - 1s 40ms/step - loss: 0.4335 - val_loss: 0.3795\n",
      "Epoch 142/200\n",
      "30/30 [==============================] - 1s 40ms/step - loss: 0.4332 - val_loss: 0.3819\n",
      "Epoch 143/200\n",
      "30/30 [==============================] - 1s 39ms/step - loss: 0.4326 - val_loss: 0.3802\n",
      "Epoch 144/200\n",
      "30/30 [==============================] - 1s 40ms/step - loss: 0.4323 - val_loss: 0.3800\n",
      "Epoch 145/200\n",
      "30/30 [==============================] - 1s 40ms/step - loss: 0.4318 - val_loss: 0.3816\n",
      "Epoch 146/200\n",
      "30/30 [==============================] - 1s 40ms/step - loss: 0.4312 - val_loss: 0.3807\n",
      "Epoch 147/200\n",
      "30/30 [==============================] - 1s 40ms/step - loss: 0.4316 - val_loss: 0.3845\n",
      "\n",
      "Epoch 00147: ReduceLROnPlateau reducing learning rate to 0.0009135173546383158.\n",
      "Epoch 148/200\n",
      "30/30 [==============================] - 1s 40ms/step - loss: 0.4309 - val_loss: 0.3827\n",
      "Epoch 149/200\n",
      "30/30 [==============================] - 1s 40ms/step - loss: 0.4303 - val_loss: 0.3830\n",
      "Epoch 150/200\n",
      "30/30 [==============================] - 1s 40ms/step - loss: 0.4300 - val_loss: 0.3847\n",
      "Epoch 151/200\n",
      "30/30 [==============================] - 1s 40ms/step - loss: 0.4294 - val_loss: 0.3833\n",
      "Epoch 152/200\n",
      "30/30 [==============================] - 1s 40ms/step - loss: 0.4298 - val_loss: 0.3803\n",
      "Epoch 153/200\n",
      "30/30 [==============================] - 1s 39ms/step - loss: 0.4288 - val_loss: 0.3837\n",
      "Epoch 154/200\n",
      "30/30 [==============================] - 1s 40ms/step - loss: 0.4280 - val_loss: 0.3830\n",
      "Epoch 155/200\n",
      "30/30 [==============================] - 1s 40ms/step - loss: 0.4278 - val_loss: 0.3828\n",
      "Epoch 156/200\n",
      "30/30 [==============================] - 1s 40ms/step - loss: 0.4275 - val_loss: 0.3848\n",
      "Epoch 157/200\n",
      "30/30 [==============================] - 1s 40ms/step - loss: 0.4268 - val_loss: 0.3858\n",
      "\n",
      "Epoch 00157: ReduceLROnPlateau reducing learning rate to 0.0009043822012608871.\n",
      "Epoch 158/200\n",
      "30/30 [==============================] - 1s 40ms/step - loss: 0.4267 - val_loss: 0.3844\n",
      "Epoch 159/200\n",
      "30/30 [==============================] - 1s 39ms/step - loss: 0.4259 - val_loss: 0.3848\n",
      "Epoch 160/200\n",
      "30/30 [==============================] - 1s 40ms/step - loss: 0.4259 - val_loss: 0.3855\n",
      "Epoch 161/200\n",
      "30/30 [==============================] - 1s 39ms/step - loss: 0.4255 - val_loss: 0.3843\n",
      "Epoch 162/200\n",
      "30/30 [==============================] - 1s 40ms/step - loss: 0.4251 - val_loss: 0.3845\n",
      "Epoch 163/200\n",
      "30/30 [==============================] - 1s 39ms/step - loss: 0.4246 - val_loss: 0.3851\n",
      "Epoch 164/200\n",
      "30/30 [==============================] - 1s 39ms/step - loss: 0.4240 - val_loss: 0.3850\n",
      "Epoch 165/200\n",
      "30/30 [==============================] - 1s 40ms/step - loss: 0.4241 - val_loss: 0.3875\n",
      "Epoch 166/200\n",
      "30/30 [==============================] - 1s 40ms/step - loss: 0.4236 - val_loss: 0.3867\n",
      "Epoch 167/200\n",
      "30/30 [==============================] - 1s 40ms/step - loss: 0.4234 - val_loss: 0.3837\n",
      "\n",
      "Epoch 00167: ReduceLROnPlateau reducing learning rate to 0.0008953383844345808.\n",
      "Epoch 168/200\n",
      "30/30 [==============================] - 1s 40ms/step - loss: 0.4225 - val_loss: 0.3845\n",
      "Epoch 169/200\n",
      "30/30 [==============================] - 1s 40ms/step - loss: 0.4217 - val_loss: 0.3851\n",
      "Epoch 170/200\n",
      "30/30 [==============================] - 1s 40ms/step - loss: 0.4214 - val_loss: 0.3839\n",
      "Epoch 171/200\n",
      "30/30 [==============================] - 1s 40ms/step - loss: 0.4215 - val_loss: 0.3864\n",
      "Epoch 172/200\n",
      "30/30 [==============================] - 1s 40ms/step - loss: 0.4211 - val_loss: 0.3885\n",
      "Epoch 173/200\n",
      "30/30 [==============================] - 1s 39ms/step - loss: 0.4209 - val_loss: 0.3893\n",
      "Epoch 174/200\n",
      "30/30 [==============================] - 1s 40ms/step - loss: 0.4201 - val_loss: 0.3881\n",
      "Epoch 175/200\n",
      "30/30 [==============================] - 1s 41ms/step - loss: 0.4199 - val_loss: 0.3917\n",
      "Epoch 176/200\n",
      "30/30 [==============================] - 1s 40ms/step - loss: 0.4199 - val_loss: 0.3928\n",
      "Epoch 177/200\n",
      "30/30 [==============================] - 1s 39ms/step - loss: 0.4191 - val_loss: 0.3894\n",
      "\n",
      "Epoch 00177: ReduceLROnPlateau reducing learning rate to 0.000886384982150048.\n",
      "Epoch 178/200\n",
      "30/30 [==============================] - 1s 39ms/step - loss: 0.4184 - val_loss: 0.3890\n",
      "Epoch 179/200\n",
      "30/30 [==============================] - 1s 41ms/step - loss: 0.4180 - val_loss: 0.3869\n",
      "Epoch 180/200\n",
      "30/30 [==============================] - 1s 40ms/step - loss: 0.4186 - val_loss: 0.3876\n",
      "Epoch 181/200\n",
      "30/30 [==============================] - 1s 41ms/step - loss: 0.4182 - val_loss: 0.3883\n",
      "Epoch 182/200\n",
      "30/30 [==============================] - 1s 39ms/step - loss: 0.4177 - val_loss: 0.3878\n",
      "Epoch 183/200\n",
      "30/30 [==============================] - 1s 40ms/step - loss: 0.4167 - val_loss: 0.3887\n",
      "Epoch 184/200\n",
      "30/30 [==============================] - 1s 40ms/step - loss: 0.4164 - val_loss: 0.3906\n",
      "Epoch 185/200\n",
      "30/30 [==============================] - 1s 40ms/step - loss: 0.4167 - val_loss: 0.3900\n",
      "Epoch 186/200\n",
      "30/30 [==============================] - 1s 40ms/step - loss: 0.4157 - val_loss: 0.3901\n",
      "Epoch 187/200\n",
      "30/30 [==============================] - 1s 40ms/step - loss: 0.4155 - val_loss: 0.3899\n",
      "\n",
      "Epoch 00187: ReduceLROnPlateau reducing learning rate to 0.0008775211300235242.\n",
      "Epoch 188/200\n",
      "30/30 [==============================] - 1s 39ms/step - loss: 0.4149 - val_loss: 0.3908\n",
      "Epoch 189/200\n",
      "30/30 [==============================] - 1s 40ms/step - loss: 0.4149 - val_loss: 0.3910\n",
      "Epoch 190/200\n",
      "30/30 [==============================] - 1s 40ms/step - loss: 0.4147 - val_loss: 0.3920\n",
      "Epoch 191/200\n",
      "30/30 [==============================] - 1s 39ms/step - loss: 0.4141 - val_loss: 0.3932\n",
      "Epoch 192/200\n",
      "30/30 [==============================] - 1s 41ms/step - loss: 0.4140 - val_loss: 0.3923\n",
      "Epoch 193/200\n",
      "30/30 [==============================] - 1s 40ms/step - loss: 0.4131 - val_loss: 0.3918\n",
      "Epoch 194/200\n",
      "30/30 [==============================] - 1s 40ms/step - loss: 0.4136 - val_loss: 0.3902\n",
      "Epoch 195/200\n",
      "30/30 [==============================] - 1s 40ms/step - loss: 0.4129 - val_loss: 0.3929\n",
      "Epoch 196/200\n",
      "30/30 [==============================] - 1s 40ms/step - loss: 0.4123 - val_loss: 0.3944\n",
      "Epoch 197/200\n",
      "30/30 [==============================] - 1s 39ms/step - loss: 0.4119 - val_loss: 0.3943\n",
      "\n",
      "Epoch 00197: ReduceLROnPlateau reducing learning rate to 0.0008687459060456604.\n",
      "Epoch 198/200\n",
      "30/30 [==============================] - 1s 39ms/step - loss: 0.4111 - val_loss: 0.3928\n",
      "Epoch 199/200\n",
      "30/30 [==============================] - 1s 40ms/step - loss: 0.4107 - val_loss: 0.3882\n",
      "Epoch 200/200\n",
      "30/30 [==============================] - 1s 40ms/step - loss: 0.4109 - val_loss: 0.3938\n",
      "Model: \"model1_4\"\n",
      "_________________________________________________________________\n",
      "Layer (type)                 Output Shape              Param #   \n",
      "=================================================================\n",
      "encoder_4 (Encoder)          multiple                  79200     \n",
      "_________________________________________________________________\n",
      "decoder_4 (Decoder)          multiple                  79200     \n",
      "_________________________________________________________________\n",
      "dense_4 (Dense)              multiple                  9797      \n",
      "=================================================================\n",
      "Total params: 168,197\n",
      "Trainable params: 168,197\n",
      "Non-trainable params: 0\n",
      "_________________________________________________________________\n"
     ]
    }
   ],
   "source": [
    "model.fit(train_dataloader, steps_per_epoch=train_steps, epochs=200,  validation_data=test_dataloader, validation_steps=valid_steps, callbacks=[reduce_lr, model_checkpoint_callback])\n",
    "model.summary()"
   ]
  },
  {
   "cell_type": "code",
   "execution_count": 58,
   "metadata": {
    "colab": {
     "base_uri": "https://localhost:8080/"
    },
    "id": "U3YU1I_PeuTu",
    "outputId": "cfbd8db0-2225-4d74-c2ee-20b0cc742b54"
   },
   "outputs": [
    {
     "data": {
      "text/plain": [
       "<tensorflow.python.training.tracking.util.CheckpointLoadStatus at 0x7fe2a0025450>"
      ]
     },
     "execution_count": 58,
     "metadata": {
      "tags": []
     },
     "output_type": "execute_result"
    }
   ],
   "source": [
    "model.load_weights(\"model_1\")"
   ]
  },
  {
   "cell_type": "code",
   "execution_count": 59,
   "metadata": {
    "colab": {
     "base_uri": "https://localhost:8080/"
    },
    "id": "6f3mD2ytpkGS",
    "outputId": "d845a5a0-2ad5-4d3b-d697-5b1a7088ef91"
   },
   "outputs": [
    {
     "name": "stdout",
     "output_type": "stream",
     "text": [
      "1/1 [==============================] - 0s 47ms/step - loss: 0.3711\n"
     ]
    },
    {
     "data": {
      "text/plain": [
       "0.371053010225296"
      ]
     },
     "execution_count": 59,
     "metadata": {
      "tags": []
     },
     "output_type": "execute_result"
    }
   ],
   "source": [
    "model.evaluate(test_dataloader)"
   ]
  },
  {
   "cell_type": "code",
   "execution_count": null,
   "metadata": {
    "id": "gZH9LomGye4l"
   },
   "outputs": [],
   "source": [
    "model.save_weights('./model_1/model_novel_1')"
   ]
  },
  {
   "cell_type": "code",
   "execution_count": 60,
   "metadata": {
    "colab": {
     "base_uri": "https://localhost:8080/"
    },
    "id": "PaQQNo8EJD3h",
    "outputId": "07aa25ce-ba03-448b-861c-720b01891e83"
   },
   "outputs": [
    {
     "name": "stdout",
     "output_type": "stream",
     "text": [
      "The validation loss of the model 1 is: 0.3711\n",
      "The perplexity of the model 1 is: 1.2933385761793754\n"
     ]
    }
   ],
   "source": [
    "print(\"The validation loss of the model 1 is:\", 0.3711)\n",
    "print(\"The perplexity of the model 1 is:\", 2**(0.3711))"
   ]
  },
  {
   "cell_type": "code",
   "execution_count": 61,
   "metadata": {
    "id": "B8S2iljez9AW"
   },
   "outputs": [],
   "source": [
    "start_index = tokenizer_target_ip.word_index['\\t']\n",
    "end_index = tokenizer_target_ip.word_index['\\n']\n",
    "DECODER_SEQ_LEN = max_length_decoder\n",
    "max_len = max_length_decoder\n",
    "\n",
    "\n",
    "def predict(input_sentence):\n",
    "\n",
    "  encoder_seq = tokenizer_raw_ip.texts_to_sequences([input_sentence])\n",
    "\n",
    "  encoder_seq = pad_sequences(encoder_seq, maxlen=max_length_encoder, dtype='int32', padding='post')\n",
    "\n",
    "  encoder_seq = tf.keras.utils.to_categorical(encoder_seq, num_classes=len(tokenizer_raw_ip.word_index.keys())+1)\n",
    "\n",
    "  enc_output, enc_state_h, enc_state_c = model.layers[0](encoder_seq)\n",
    "  \n",
    "  # enc_output, enc_state_h, enc_state_c = model.layers[0].lstm_2(enc_output)\n",
    "  # enc_output, enc_state_h, enc_state_c = model.layers[0].lstm_3(enc_output)\n",
    "  # enc_output, enc_state_h, enc_state_c = model.layers[0].lstm_4(enc_output)\n",
    "\n",
    "  dec_input = np.zeros((1, 1, len(tokenizer_raw_ip.word_index.keys())+1))\n",
    "\n",
    "  dec_input[0, 0, tokenizer_target_ip.word_index['\\t']] = 1.\n",
    "\n",
    "  input_state = [enc_state_h, enc_state_c]\n",
    "\n",
    "  output_word = []\n",
    "\n",
    "  for i in range(DECODER_SEQ_LEN):\n",
    "      # cur_emb = model.layers[1].embedding(dec_input)\n",
    "\n",
    "      predicted_out, state_h, state_c = model.layers[1].lstm(dec_input, input_state)\n",
    "\n",
    "      # predicted_out, state_h, state_c = model.layers[1].lstm_2(predicted_out, input_state)\n",
    "      # predicted_out, state_h, state_c = model.layers[1].lstm_3(predicted_out, input_state)\n",
    "      # predicted_out, state_h, state_c = model.layers[1].lstm_4(predicted_out, input_state)\n",
    "\n",
    "      dense_layer_out = model.layers[2](predicted_out)\n",
    "\n",
    "      input_state = [state_h, state_c]\n",
    "  \n",
    "      output_word_index = np.argmax(dense_layer_out)\n",
    "\n",
    "      # print(output_word_index)\n",
    "\n",
    "      for key, value in tokenizer_target_ip.word_index.items():\n",
    "\n",
    "         if output_word_index == value:\n",
    "             output_word.append(key)\n",
    "\n",
    "      dec_input = np.reshape(output_word_index, (1, 1))\n",
    "\n",
    "      dec_input = np.zeros((1, 1, len(tokenizer_raw_ip.word_index.keys())+1))\n",
    "\n",
    "      dec_input[0, 0, output_word_index] = 1.\n",
    "\n",
    "\n",
    "      if output_word_index == tokenizer_target_ip.word_index['\\n']:\n",
    "        break\n",
    "  return output_word\n"
   ]
  },
  {
   "cell_type": "code",
   "execution_count": 62,
   "metadata": {
    "colab": {
     "base_uri": "https://localhost:8080/"
    },
    "id": "VQdlkAgYz9AZ",
    "outputId": "3da0840a-869c-42ee-d16f-21a8e930ffd0"
   },
   "outputs": [
    {
     "name": "stdout",
     "output_type": "stream",
     "text": [
      "Input Sentence: Mmm thats better now i got a roast down me! i'd b better if i had a few drinks down me 2! Good indian?\n",
      "Predicted Sentence: Hey, I want to go to chat with you to stay only to chat with you to come to come at 1:30pm. I haven't see you all the show?\n",
      "\n",
      "Original English sentence: That's better now, I got a roast down me! I'd be better if I had a few drinks down me too! Good Indian?\n",
      "\n",
      "******************************\n",
      "Input Sentence: Watch wat?\n",
      "Predicted Sentence: Haha. I am not going to see you.\n",
      "\n",
      "Original English sentence: Watch what?\n",
      "\n",
      "******************************\n",
      "Input Sentence: Oh dat.hehe.Why r u so interested?\n",
      "Predicted Sentence: Hey, I don't know where are you free tomorrow?\n",
      "\n",
      "Original English sentence: Oh that. Hehe. Why are you so interested?\n",
      "\n",
      "******************************\n",
      "Input Sentence: hai\n",
      "Predicted Sentence: Hey.\n",
      "\n",
      "Original English sentence: Hi.\n",
      "\n",
      "******************************\n",
      "Input Sentence: ask more abt me?\n",
      "Predicted Sentence: Hey, I want to go to see you.\n",
      "\n",
      "Original English sentence: Ask more about me?\n",
      "\n",
      "******************************\n",
      "Input Sentence: Hey jiayin. Can bring 10 bucks tmr, it's 4 wawa's bdae.\n",
      "Predicted Sentence: Hey, I don't know where are you free to chat with you to come to come at 12:30.\n",
      "\n",
      "Original English sentence: Hey Jiayin. Can you bring 10 bucks tomorrow? It's for Wawa's birthday.\n",
      "\n",
      "******************************\n",
      "Input Sentence: Wanna intro.Joey?\n",
      "Predicted Sentence: Hey, I want to go to see you.\n",
      "\n",
      "Original English sentence: Want to introduce, Joey?\n",
      "\n",
      "******************************\n",
      "Input Sentence: Hey call me when you are abt to reach? I'm going muji to see see look look\n",
      "Predicted Sentence: Hey, I don't know where are you free to chat with you to come to come at 1:30pm.\n",
      "\n",
      "Original English sentence: Hey, call me when you are about to reach? I'm going to muji to have a look.\n",
      "\n",
      "******************************\n",
      "Input Sentence: Contraction line .\n",
      "Predicted Sentence: Hey, I want to go to chat?\n",
      "\n",
      "Original English sentence: Contraction line.\n",
      "\n",
      "******************************\n",
      "Input Sentence: He say dun tink they need part timer.How? U go crepes n cream ask la.Hereen 1.\n",
      "Predicted Sentence: Hey, I want to go to chat with you to stay only to chat with you to come to come at 12:30.\n",
      "\n",
      "Original English sentence: He says he doesn't think they need part timer. How? Go Creps and Cream ask. The one in Hereen.\n",
      "\n",
      "******************************\n",
      "Input Sentence: Can i come in half an hr later. I nd to bath.Gee.\n",
      "Predicted Sentence: Hey, I want to go to chat with you to stay only to chat?\n",
      "\n",
      "Original English sentence: Can I come in half an hour later? I need to bath.\n",
      "\n",
      "******************************\n",
      "Input Sentence: Wat u doing?\n",
      "Predicted Sentence: Hey, you are going to see you.\n",
      "\n",
      "Original English sentence: What are you doing?\n",
      "\n",
      "******************************\n",
      "Input Sentence: Once i pick up it'll just cut off. SBS or something? are you a member of something? :)\n",
      "Predicted Sentence: Hey, I want to go to chat with you to stay only to chat with you to come to come at 1:30pm. I haven't see you?\n",
      "\n",
      "Original English sentence: Once I pick up it'll just cut off. SBS or something? Are you a member of something?\n",
      "\n",
      "******************************\n",
      "Input Sentence: Hey u will be in orchard right? I'm going to ask mei they all if they've bought the frame. If not we go ikea and buy one? Coz v few pieces left.can complete\n",
      "Predicted Sentence: Hey do you want to go to chat with you to stay only to chat with you to come to come at 1:30pm. I haven't see you all the bus already. I am not studying to see you to stay only.\n",
      "\n",
      "Original English sentence: Hey you will be in Orchard right? I'm going to ask Mei and the rest if they've bought the frame. If not we'll go to Ikea and buy one? Because there are very few pieces left. Can complete.\n",
      "\n",
      "******************************\n",
      "Input Sentence: But cun lah. go next wk? Act where u wanna go?\n",
      "Predicted Sentence: Hey, I want to go to chat with you to stay only to chat?\n",
      "\n",
      "Original English sentence: But please come. Are you going next week? Ask you where you want to go.\n",
      "\n",
      "******************************\n",
      "Input Sentence: ok!\n",
      "Predicted Sentence: Hey.\n",
      "\n",
      "Original English sentence: Ok!\n",
      "\n",
      "******************************\n",
      "Input Sentence: So where n wat time u wan meet?\n",
      "Predicted Sentence: Hey, I want to go to chat with you.\n",
      "\n",
      "Original English sentence: So where and what time do you want to meet?\n",
      "\n",
      "******************************\n",
      "Input Sentence: You want a not? I will go buy for you. I reached orchard already\n",
      "Predicted Sentence: Hey, I don't know where are you free to chat with you to come to come along with you.\n",
      "\n",
      "Original English sentence: You want or not? I will go to buy for you. I reached Orchard already.\n",
      "\n",
      "******************************\n",
      "Input Sentence: Hi, u male\n",
      "Predicted Sentence: Hey.\n",
      "\n",
      "Original English sentence: Hi, are you male?\n",
      "\n",
      "******************************\n",
      "Input Sentence: Where are you\n",
      "Predicted Sentence: Hey.\n",
      "\n",
      "Original English sentence: Where are you?\n",
      "\n",
      "******************************\n"
     ]
    }
   ],
   "source": [
    "predicted_sentences = []\n",
    "actual_sentences = []\n",
    "\n",
    "for i, row in test.iterrows():\n",
    "    output = predict(row['input'])\n",
    "    predicted_sentences.append(output)\n",
    "    english_out = row['target_op'].split()\n",
    "    actual_sentences.append(english_out)\n",
    "    sentence = ''.join(output)\n",
    "    print('Input Sentence:',row['input'])\n",
    "    print('Predicted Sentence:',sentence)\n",
    "    print('Original English sentence:', row['target_op'])\n",
    "    print('*'*30)"
   ]
  },
  {
   "cell_type": "code",
   "execution_count": 63,
   "metadata": {
    "colab": {
     "base_uri": "https://localhost:8080/"
    },
    "id": "g5bNFQyuz9Aa",
    "outputId": "d816b61b-55bc-4ae6-d889-dc282176c083"
   },
   "outputs": [
    {
     "name": "stderr",
     "output_type": "stream",
     "text": [
      "/usr/local/lib/python3.7/dist-packages/nltk/translate/bleu_score.py:490: UserWarning: \n",
      "Corpus/Sentence contains 0 counts of 2-gram overlaps.\n",
      "BLEU scores might be undesirable; use SmoothingFunction().\n",
      "  warnings.warn(_msg)\n"
     ]
    }
   ],
   "source": [
    "from nltk.translate.bleu_score import sentence_bleu\n",
    "avg_score = 0\n",
    "for i in range(len(actual_sentences)):\n",
    "    score = sentence_bleu([actual_sentences[i]], predicted_sentences[i])\n",
    "    avg_score += score"
   ]
  },
  {
   "cell_type": "code",
   "execution_count": 64,
   "metadata": {
    "colab": {
     "base_uri": "https://localhost:8080/"
    },
    "id": "1yUCr-G-z9Aa",
    "outputId": "b94d099b-c920-40f5-81b7-bd88c92dce39"
   },
   "outputs": [
    {
     "name": "stdout",
     "output_type": "stream",
     "text": [
      "Avg BLEU Score of Simple Encoder Decoder Model: 0.09079140153883539\n"
     ]
    }
   ],
   "source": [
    "print(\"Avg BLEU Score of Simple Encoder Decoder Model:\", (avg_score/(len(actual_sentences))))"
   ]
  }
 ],
 "metadata": {
  "accelerator": "GPU",
  "colab": {
   "collapsed_sections": [],
   "name": "CS2_Modelling_ohe (1).ipynb",
   "provenance": []
  },
  "kernelspec": {
   "display_name": "Python 3",
   "language": "python",
   "name": "python3"
  },
  "language_info": {
   "codemirror_mode": {
    "name": "ipython",
    "version": 3
   },
   "file_extension": ".py",
   "mimetype": "text/x-python",
   "name": "python",
   "nbconvert_exporter": "python",
   "pygments_lexer": "ipython3",
   "version": "3.7.9"
  }
 },
 "nbformat": 4,
 "nbformat_minor": 1
}
