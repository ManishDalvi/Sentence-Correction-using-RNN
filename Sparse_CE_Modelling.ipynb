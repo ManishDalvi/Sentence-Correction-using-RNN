{
 "cells": [
  {
   "cell_type": "code",
   "execution_count": 387,
   "metadata": {
    "id": "w6QSvoq2wWc9"
   },
   "outputs": [],
   "source": [
    "import pandas as pd\n",
    "import numpy as np\n",
    "import string\n",
    "import tensorflow as tf\n",
    "import seaborn as sns\n",
    "import matplotlib.pyplot as plt\n",
    "import re\n",
    "from sklearn.model_selection import train_test_split\n",
    "from tensorflow.keras.models import Sequential\n",
    "from tensorflow.keras.layers import Embedding, Input, Dense, Flatten, LSTM\n",
    "from tensorflow.compat.v1.keras.layers import CuDNNLSTM\n",
    "from tensorflow.keras import Model\n",
    "from tensorflow.keras.callbacks import ReduceLROnPlateau, LearningRateScheduler\n",
    "from tensorflow.keras.preprocessing.text import Tokenizer\n",
    "from tensorflow.keras.preprocessing.sequence import pad_sequences\n",
    "import csv"
   ]
  },
  {
   "cell_type": "code",
   "execution_count": 406,
   "metadata": {
    "colab": {
     "base_uri": "https://localhost:8080/",
     "height": 204
    },
    "id": "EDJOwl1zw3aG",
    "outputId": "086dfbde-2340-48f6-a44a-621c92b42e75"
   },
   "outputs": [
    {
     "data": {
      "text/html": [
       "<div>\n",
       "<style scoped>\n",
       "    .dataframe tbody tr th:only-of-type {\n",
       "        vertical-align: middle;\n",
       "    }\n",
       "\n",
       "    .dataframe tbody tr th {\n",
       "        vertical-align: top;\n",
       "    }\n",
       "\n",
       "    .dataframe thead th {\n",
       "        text-align: right;\n",
       "    }\n",
       "</style>\n",
       "<table border=\"1\" class=\"dataframe\">\n",
       "  <thead>\n",
       "    <tr style=\"text-align: right;\">\n",
       "      <th></th>\n",
       "      <th>input</th>\n",
       "      <th>target</th>\n",
       "    </tr>\n",
       "  </thead>\n",
       "  <tbody>\n",
       "    <tr>\n",
       "      <th>0</th>\n",
       "      <td>\"But u.. WILL knw it, WHEN I TELL YOU WOT happ...</td>\n",
       "      <td>\"But you will know it, when I tell you what ha...</td>\n",
       "    </tr>\n",
       "    <tr>\n",
       "      <th>1</th>\n",
       "      <td>Joey: hai! Care TO intro nw?</td>\n",
       "      <td>Joey: Hi! Care to introduce now?</td>\n",
       "    </tr>\n",
       "    <tr>\n",
       "      <th>2</th>\n",
       "      <td>Elizabeth's mind wuz nw... relieved fr a veri ...</td>\n",
       "      <td>Elizabeth's mind was now relieved from a very ...</td>\n",
       "    </tr>\n",
       "    <tr>\n",
       "      <th>3</th>\n",
       "      <td>Haha.. ok.. So s he handsum or nt? haha.</td>\n",
       "      <td>Haha. ok. So is he handsome or not? haha.</td>\n",
       "    </tr>\n",
       "    <tr>\n",
       "      <th>4</th>\n",
       "      <td>ILL Be TRG ON wednesday. Ill kp YOU informed a...</td>\n",
       "      <td>I'll be TRG on Wednesday. I'll keep you inform...</td>\n",
       "    </tr>\n",
       "  </tbody>\n",
       "</table>\n",
       "</div>"
      ],
      "text/plain": [
       "                                               input                                             target\n",
       "0  \"But u.. WILL knw it, WHEN I TELL YOU WOT happ...  \"But you will know it, when I tell you what ha...\n",
       "1                       Joey: hai! Care TO intro nw?                   Joey: Hi! Care to introduce now?\n",
       "2  Elizabeth's mind wuz nw... relieved fr a veri ...  Elizabeth's mind was now relieved from a very ...\n",
       "3           Haha.. ok.. So s he handsum or nt? haha.          Haha. ok. So is he handsome or not? haha.\n",
       "4  ILL Be TRG ON wednesday. Ill kp YOU informed a...  I'll be TRG on Wednesday. I'll keep you inform..."
      ]
     },
     "execution_count": 406,
     "metadata": {
      "tags": []
     },
     "output_type": "execute_result"
    }
   ],
   "source": [
    "train = pd.read_csv('train_novel.csv')\n",
    "test = pd.read_csv('test_novel.csv')\n",
    "\n",
    "train.head()"
   ]
  },
  {
   "cell_type": "code",
   "execution_count": 407,
   "metadata": {
    "id": "tm0tj7yC4tZw"
   },
   "outputs": [],
   "source": [
    "input_lengths = []\n",
    "target_lengths = []\n",
    "for i, row in train.iterrows():\n",
    "  input_lengths.append(len(row['input']))\n",
    "  target_lengths.append(len(row['target']))\n"
   ]
  },
  {
   "cell_type": "code",
   "execution_count": 408,
   "metadata": {
    "colab": {
     "base_uri": "https://localhost:8080/",
     "height": 266
    },
    "id": "AhCYQVkV5IBh",
    "outputId": "d55eba29-f60d-479e-91dc-37c572f67697"
   },
   "outputs": [
    {
     "data": {
      "image/png": "[encoded data removed]",
      "text/plain": [
       "<Figure size 432x288 with 1 Axes>"
      ]
     },
     "metadata": {
      "needs_background": "light",
      "tags": []
     },
     "output_type": "display_data"
    }
   ],
   "source": [
    "import matplotlib.pyplot as plt\n",
    "x_value = range(len(input_lengths))\n",
    "y_value = sorted(input_lengths)\n",
    "plt.plot(x_value , y_value)\n",
    "plt.ylabel('some numbers')\n",
    "plt.show()"
   ]
  },
  {
   "cell_type": "code",
   "execution_count": 409,
   "metadata": {
    "colab": {
     "base_uri": "https://localhost:8080/",
     "height": 265
    },
    "id": "3PiO7l6J5Id-",
    "outputId": "7600d7fc-31d3-494d-f849-288b6e5dbd14"
   },
   "outputs": [
    {
     "data": {
      "image/png": "[encoded data removed]",
      "text/plain": [
       "<Figure size 432x288 with 1 Axes>"
      ]
     },
     "metadata": {
      "needs_background": "light",
      "tags": []
     },
     "output_type": "display_data"
    }
   ],
   "source": [
    "x_value = range(len(target_lengths))\n",
    "y_value = sorted(target_lengths)\n",
    "plt.plot(x_value , y_value)\n",
    "plt.ylabel('some numbers')\n",
    "plt.show()"
   ]
  },
  {
   "cell_type": "code",
   "execution_count": 410,
   "metadata": {
    "id": "AJfz3D3E5-c3"
   },
   "outputs": [],
   "source": [
    "train['input_lengths'] = input_lengths\n",
    "train['target_lengths'] = target_lengths"
   ]
  },
  {
   "cell_type": "code",
   "execution_count": 411,
   "metadata": {
    "id": "XeqHauAI56yH"
   },
   "outputs": [],
   "source": [
    "train = train[train['input_lengths'] < 500]\n",
    "train = train[train['target_lengths'] < 500]"
   ]
  },
  {
   "cell_type": "code",
   "execution_count": 412,
   "metadata": {
    "id": "NZ17P68b77Ln"
   },
   "outputs": [],
   "source": [
    "train = train.drop(['input_lengths', 'target_lengths'], axis=1)\n"
   ]
  },
  {
   "cell_type": "code",
   "execution_count": 413,
   "metadata": {
    "colab": {
     "base_uri": "https://localhost:8080/"
    },
    "id": "TqnRGnG88LYy",
    "outputId": "eb198192-1199-4b3a-bedc-d604b7e82e74"
   },
   "outputs": [
    {
     "name": "stdout",
     "output_type": "stream",
     "text": [
      "94\n",
      "['0', '1', '2', '3', '4', '5', '6', '7', '8', '9', 'a', 'b', 'c', 'd', 'e', 'f', 'g', 'h', 'i', 'j', 'k', 'l', 'm', 'n', 'o', 'p', 'q', 'r', 's', 't', 'u', 'v', 'w', 'x', 'y', 'z', 'A', 'B', 'C', 'D', 'E', 'F', 'G', 'H', 'I', 'J', 'K', 'L', 'M', 'N', 'O', 'P', 'Q', 'R', 'S', 'T', 'U', 'V', 'W', 'X', 'Y', 'Z', '!', '\"', '#', '$', '%', '&', \"'\", '(', ')', '*', '+', ',', '-', '.', '/', ':', ';', '<', '=', '>', '?', '@', '[', '\\\\', ']', '^', '_', '`', '{', '|', '}', ' ']\n"
     ]
    }
   ],
   "source": [
    "required_chars = []\n",
    "for char in string.printable:\n",
    "  if ord(char) > 31 and ord(char) < 126:\n",
    "    required_chars.append(char)\n",
    "\n",
    "\n",
    "print(len(required_chars))\n",
    "print(required_chars)"
   ]
  },
  {
   "cell_type": "code",
   "execution_count": 414,
   "metadata": {
    "id": "xWM0cCmi7s5D"
   },
   "outputs": [],
   "source": [
    "# Create a dictionary of chars and index value from 1. 0 is reserved for padding by the tokenizer.\n",
    "vocabulary = dict()\n",
    "for i in range(len(required_chars)):\n",
    "  vocabulary[required_chars[i]] = i+1"
   ]
  },
  {
   "cell_type": "code",
   "execution_count": 415,
   "metadata": {
    "id": "WgItyynh7uWb"
   },
   "outputs": [],
   "source": [
    "# Use \\t as Start of Sentence and \\n as End of Sentence\n",
    "vocabulary['\\n'] = 95\n",
    "vocabulary['\\t'] = 96"
   ]
  },
  {
   "cell_type": "code",
   "execution_count": 416,
   "metadata": {
    "id": "a4nfKCXvyDC2"
   },
   "outputs": [],
   "source": [
    "# Characters that were found in train and test set and replaced with the normal english characters.\n",
    "replacements = {'£':'', 'É': 'E', 'Ñ': 'N', 'Ü': 'U', 'à': 'a', 'ä': 'a', 'å': 'a', 'è': 'e', 'é': 'e', 'ì': 'i', 'ñ': 'n', 'ò': 'o', 'ö': 'o', 'ø': 'o', 'ù': 'u', 'ü': 'u',  '“': '\"',  '”': '\"',   '，': ',',   '？': '?' }"
   ]
  },
  {
   "cell_type": "code",
   "execution_count": 417,
   "metadata": {
    "id": "2Oq7MzJqyKa2"
   },
   "outputs": [],
   "source": [
    "for old_char, new_char in replacements.items():\n",
    "  train = train.replace(old_char, new_char, regex=True)\n",
    "  test = test.replace(old_char, new_char, regex=True)"
   ]
  },
  {
   "cell_type": "code",
   "execution_count": null,
   "metadata": {
    "id": "uSmesdxqcuCz"
   },
   "outputs": [],
   "source": [
    "# gen_sen_train = []\n",
    "# target_sen_train = []\n",
    "# gen_sen_test = []\n",
    "# target_sen_test = []\n",
    "\n",
    "# from textblob import TextBlob\n",
    "# from tqdm import tqdm\n",
    "\n",
    "# for i, row in tqdm(train.iterrows()):\n",
    "#     textBlb = TextBlob(row['input'])\n",
    "#     textCorrected = textBlb.correct() \n",
    "#     gen_sen_train.append(str(textCorrected))\n",
    "#     target_sen_train.append(row['target'])\n",
    "\n",
    "# for i, row in tqdm(test.iterrows()):\n",
    "#     textBlb = TextBlob(row['input'])\n",
    "#     textCorrected = textBlb.correct() \n",
    "#     gen_sen_test.append(str(textCorrected))\n",
    "#     target_sen_test.append(row['target'])\n"
   ]
  },
  {
   "cell_type": "code",
   "execution_count": null,
   "metadata": {
    "id": "qGCYuhB_c1gd"
   },
   "outputs": [],
   "source": [
    "# train = pd.DataFrame({\n",
    "#     'input':gen_sen_train,\n",
    "#     'target':target_sen_train\n",
    "# })\n",
    "\n",
    "# test = pd.DataFrame({\n",
    "#     'input':gen_sen_test,\n",
    "#     'target':target_sen_test\n",
    "# })"
   ]
  },
  {
   "cell_type": "code",
   "execution_count": 418,
   "metadata": {
    "id": "CZSJAoC9dkTd"
   },
   "outputs": [],
   "source": [
    "train['input'] = train['input'].replace({'..':'.', '...':'.', '???':'?', '??':'?', '#':'', \"!!\":\"!\",\"!!!\":\"!\",\"@\":\"\",\"$\":\"\",\"%\":\"\",\"^\":\"\",\"&\":\"\",\"(\":\"\",\")\":\"\",\"_\":\"\", \";\":\"\"})"
   ]
  },
  {
   "cell_type": "code",
   "execution_count": 419,
   "metadata": {
    "id": "eHD0q5DDdRfK"
   },
   "outputs": [],
   "source": [
    "for i, row in train.iterrows():\n",
    "    value = row['input']\n",
    "    repl_value = re.sub(r'\\.+', \".\", value)\n",
    "    repl_value = re.sub(r'\\!+', \"!\", repl_value)\n",
    "    repl_value = re.sub(r'\\ +', \" \", repl_value)\n",
    "    train.at[i,'input'] = repl_value\n",
    "\n",
    "for i, row in test.iterrows():\n",
    "    value = row['input']\n",
    "    repl_value = re.sub(r'\\.+', \".\", value)\n",
    "    repl_value = re.sub(r'\\!+', \"!\", repl_value)\n",
    "    repl_value = re.sub(r'\\ +', \" \", repl_value)\n",
    "    test.at[i,'input'] = repl_value"
   ]
  },
  {
   "cell_type": "code",
   "execution_count": 420,
   "metadata": {
    "colab": {
     "base_uri": "https://localhost:8080/",
     "height": 204
    },
    "id": "R2UWkIQjS9s7",
    "outputId": "b7331248-9fae-40f1-ffe7-2374a1fbd12e"
   },
   "outputs": [
    {
     "data": {
      "text/html": [
       "<div>\n",
       "<style scoped>\n",
       "    .dataframe tbody tr th:only-of-type {\n",
       "        vertical-align: middle;\n",
       "    }\n",
       "\n",
       "    .dataframe tbody tr th {\n",
       "        vertical-align: top;\n",
       "    }\n",
       "\n",
       "    .dataframe thead th {\n",
       "        text-align: right;\n",
       "    }\n",
       "</style>\n",
       "<table border=\"1\" class=\"dataframe\">\n",
       "  <thead>\n",
       "    <tr style=\"text-align: right;\">\n",
       "      <th></th>\n",
       "      <th>input</th>\n",
       "      <th>target</th>\n",
       "    </tr>\n",
       "  </thead>\n",
       "  <tbody>\n",
       "    <tr>\n",
       "      <th>0</th>\n",
       "      <td>\"But u. WILL knw it, WHEN I TELL YOU WOT happe...</td>\n",
       "      <td>\"But you will know it, when I tell you what ha...</td>\n",
       "    </tr>\n",
       "    <tr>\n",
       "      <th>1</th>\n",
       "      <td>Joey: hai! Care TO intro nw?</td>\n",
       "      <td>Joey: Hi! Care to introduce now?</td>\n",
       "    </tr>\n",
       "    <tr>\n",
       "      <th>2</th>\n",
       "      <td>Elizabeth's mind wuz nw. relieved fr a veri he...</td>\n",
       "      <td>Elizabeth's mind was now relieved from a very ...</td>\n",
       "    </tr>\n",
       "    <tr>\n",
       "      <th>3</th>\n",
       "      <td>Haha. ok. So s he handsum or nt? haha.</td>\n",
       "      <td>Haha. ok. So is he handsome or not? haha.</td>\n",
       "    </tr>\n",
       "    <tr>\n",
       "      <th>4</th>\n",
       "      <td>ILL Be TRG ON wednesday. Ill kp YOU informed a...</td>\n",
       "      <td>I'll be TRG on Wednesday. I'll keep you inform...</td>\n",
       "    </tr>\n",
       "  </tbody>\n",
       "</table>\n",
       "</div>"
      ],
      "text/plain": [
       "                                               input                                             target\n",
       "0  \"But u. WILL knw it, WHEN I TELL YOU WOT happe...  \"But you will know it, when I tell you what ha...\n",
       "1                       Joey: hai! Care TO intro nw?                   Joey: Hi! Care to introduce now?\n",
       "2  Elizabeth's mind wuz nw. relieved fr a veri he...  Elizabeth's mind was now relieved from a very ...\n",
       "3             Haha. ok. So s he handsum or nt? haha.          Haha. ok. So is he handsome or not? haha.\n",
       "4  ILL Be TRG ON wednesday. Ill kp YOU informed a...  I'll be TRG on Wednesday. I'll keep you inform..."
      ]
     },
     "execution_count": 420,
     "metadata": {
      "tags": []
     },
     "output_type": "execute_result"
    }
   ],
   "source": [
    "train.head()"
   ]
  },
  {
   "cell_type": "code",
   "execution_count": 421,
   "metadata": {
    "id": "BrFuNLIs2owY"
   },
   "outputs": [],
   "source": [
    "# Adding the \\t and \\n as part of start and end of sentence\n",
    "train['target_ip'] = '\\t' + train['target'].astype(str)\n",
    "train['target_op'] =  train['target'].astype(str) + '\\n'\n",
    "\n",
    "test['target_ip'] = '\\t' + test['target'].astype(str)\n",
    "test['target_op'] =  test['target'].astype(str) + '\\n'"
   ]
  },
  {
   "cell_type": "code",
   "execution_count": 422,
   "metadata": {
    "id": "aG58E_dY3JaN"
   },
   "outputs": [],
   "source": [
    "train = train.drop(['target'], axis=1)\n",
    "test = test.drop(['target'], axis=1)"
   ]
  },
  {
   "cell_type": "code",
   "execution_count": 423,
   "metadata": {
    "colab": {
     "base_uri": "https://localhost:8080/",
     "height": 204
    },
    "id": "pn9P1Pl52rMl",
    "outputId": "cf96b5bf-87e2-4439-907f-3c16fe6ab155"
   },
   "outputs": [
    {
     "data": {
      "text/html": [
       "<div>\n",
       "<style scoped>\n",
       "    .dataframe tbody tr th:only-of-type {\n",
       "        vertical-align: middle;\n",
       "    }\n",
       "\n",
       "    .dataframe tbody tr th {\n",
       "        vertical-align: top;\n",
       "    }\n",
       "\n",
       "    .dataframe thead th {\n",
       "        text-align: right;\n",
       "    }\n",
       "</style>\n",
       "<table border=\"1\" class=\"dataframe\">\n",
       "  <thead>\n",
       "    <tr style=\"text-align: right;\">\n",
       "      <th></th>\n",
       "      <th>input</th>\n",
       "      <th>target_ip</th>\n",
       "      <th>target_op</th>\n",
       "    </tr>\n",
       "  </thead>\n",
       "  <tbody>\n",
       "    <tr>\n",
       "      <th>0</th>\n",
       "      <td>\"But u. WILL knw it, WHEN I TELL YOU WOT happe...</td>\n",
       "      <td>\\t\"But you will know it, when I tell you what ...</td>\n",
       "      <td>\"But you will know it, when I tell you what ha...</td>\n",
       "    </tr>\n",
       "    <tr>\n",
       "      <th>1</th>\n",
       "      <td>Joey: hai! Care TO intro nw?</td>\n",
       "      <td>\\tJoey: Hi! Care to introduce now?</td>\n",
       "      <td>Joey: Hi! Care to introduce now?\\n</td>\n",
       "    </tr>\n",
       "    <tr>\n",
       "      <th>2</th>\n",
       "      <td>Elizabeth's mind wuz nw. relieved fr a veri he...</td>\n",
       "      <td>\\tElizabeth's mind was now relieved from a ver...</td>\n",
       "      <td>Elizabeth's mind was now relieved from a very ...</td>\n",
       "    </tr>\n",
       "    <tr>\n",
       "      <th>3</th>\n",
       "      <td>Haha. ok. So s he handsum or nt? haha.</td>\n",
       "      <td>\\tHaha. ok. So is he handsome or not? haha.</td>\n",
       "      <td>Haha. ok. So is he handsome or not? haha.\\n</td>\n",
       "    </tr>\n",
       "    <tr>\n",
       "      <th>4</th>\n",
       "      <td>ILL Be TRG ON wednesday. Ill kp YOU informed a...</td>\n",
       "      <td>\\tI'll be TRG on Wednesday. I'll keep you info...</td>\n",
       "      <td>I'll be TRG on Wednesday. I'll keep you inform...</td>\n",
       "    </tr>\n",
       "  </tbody>\n",
       "</table>\n",
       "</div>"
      ],
      "text/plain": [
       "                                               input  ...                                          target_op\n",
       "0  \"But u. WILL knw it, WHEN I TELL YOU WOT happe...  ...  \"But you will know it, when I tell you what ha...\n",
       "1                       Joey: hai! Care TO intro nw?  ...                 Joey: Hi! Care to introduce now?\\n\n",
       "2  Elizabeth's mind wuz nw. relieved fr a veri he...  ...  Elizabeth's mind was now relieved from a very ...\n",
       "3             Haha. ok. So s he handsum or nt? haha.  ...        Haha. ok. So is he handsome or not? haha.\\n\n",
       "4  ILL Be TRG ON wednesday. Ill kp YOU informed a...  ...  I'll be TRG on Wednesday. I'll keep you inform...\n",
       "\n",
       "[5 rows x 3 columns]"
      ]
     },
     "execution_count": 423,
     "metadata": {
      "tags": []
     },
     "output_type": "execute_result"
    }
   ],
   "source": [
    "train.head()"
   ]
  },
  {
   "cell_type": "code",
   "execution_count": 424,
   "metadata": {
    "id": "dccV3FWe3IbF"
   },
   "outputs": [],
   "source": [
    "train.iloc[0]['target_ip']= str(train.iloc[0]['target_ip'])+'\\n'\n",
    "train.iloc[0]['target_op']= str(train.iloc[0]['target_op'])+'\\n'"
   ]
  },
  {
   "cell_type": "code",
   "execution_count": 425,
   "metadata": {
    "colab": {
     "base_uri": "https://localhost:8080/"
    },
    "id": "93Ub9wTxyymO",
    "outputId": "c8064486-876d-4f3e-bdc2-9dae66382442"
   },
   "outputs": [
    {
     "name": "stdout",
     "output_type": "stream",
     "text": [
      "480\n"
     ]
    }
   ],
   "source": [
    "# Calculating the maximum length of among all the sentences which will be useful for padding.\n",
    "max_length_encoder = train['input'].map(len).max()\n",
    "\n",
    "print(max_length_encoder)"
   ]
  },
  {
   "cell_type": "code",
   "execution_count": 426,
   "metadata": {
    "colab": {
     "base_uri": "https://localhost:8080/"
    },
    "id": "i1M6VC2ixr6J",
    "outputId": "c4e81756-94ed-4bb5-c0e4-845409cbc129"
   },
   "outputs": [
    {
     "name": "stdout",
     "output_type": "stream",
     "text": [
      "499\n"
     ]
    }
   ],
   "source": [
    "max_length_decoder = max( train['target_ip'].map(len).max(), train['target_op'].map(len).max())\n",
    "print(max_length_decoder)"
   ]
  },
  {
   "cell_type": "code",
   "execution_count": 427,
   "metadata": {
    "id": "brw3mDkGxemO"
   },
   "outputs": [],
   "source": [
    "# Tokenizer for the raw input and target output\n",
    "tokenizer_raw_ip = Tokenizer(\n",
    "    char_level=True,\n",
    "    lower=False,\n",
    "    filters=None\n",
    ")\n",
    "\n",
    "tokenizer_target_ip = Tokenizer(\n",
    "    char_level=True,\n",
    "    lower=False,\n",
    "    filters=None\n",
    ")"
   ]
  },
  {
   "cell_type": "code",
   "execution_count": 428,
   "metadata": {
    "id": "B6VhrB0BxkS_"
   },
   "outputs": [],
   "source": [
    "tokenizer_raw_ip.fit_on_texts(train['input'].values)\n",
    "tokenizer_target_ip.fit_on_texts(train['target_ip'].values)"
   ]
  },
  {
   "cell_type": "code",
   "execution_count": 429,
   "metadata": {
    "id": "_OMsgwWd72wz"
   },
   "outputs": [],
   "source": [
    "# Replacing the vocabulary of the trained index to a vocabulary mentioned in the research paper\n",
    "tokenizer_target_ip.word_index = vocabulary\n",
    "tokenizer_raw_ip.word_index = vocabulary"
   ]
  },
  {
   "cell_type": "code",
   "execution_count": 430,
   "metadata": {
    "colab": {
     "base_uri": "https://localhost:8080/"
    },
    "id": "jCobtx0TDkqS",
    "outputId": "bafce143-7434-4cc9-82f5-89b0e21b2fc3"
   },
   "outputs": [
    {
     "name": "stdout",
     "output_type": "stream",
     "text": [
      "96\n",
      "96\n"
     ]
    }
   ],
   "source": [
    "target_vocab_size=len(tokenizer_target_ip.word_index.keys())\n",
    "print(target_vocab_size)\n",
    "input_vocab_size=len(tokenizer_raw_ip.word_index.keys())\n",
    "print(input_vocab_size)"
   ]
  },
  {
   "cell_type": "code",
   "execution_count": 431,
   "metadata": {
    "id": "NbS-j6zFDZTk"
   },
   "outputs": [],
   "source": [
    "# Encoder class with Embedding layer and LSTM layer.\n",
    "class Encoder(tf.keras.layers.Layer):\n",
    "    def __init__(self, vocab_size, embedding_dim, input_length, enc_units):\n",
    "        super().__init__()\n",
    "        self.vocab_size = vocab_size\n",
    "        self.embedding_dim = embedding_dim\n",
    "        self.input_length = input_length\n",
    "        self.enc_units= enc_units\n",
    "        self.lstm_output = 0\n",
    "        self.lstm_state_h=0\n",
    "        self.lstm_state_c=0\n",
    "        \n",
    "    def build(self, input_shape):\n",
    "        self.embedding = Embedding(input_dim=self.vocab_size, output_dim=self.embedding_dim, input_length=self.input_length, mask_zero=True, name=\"Embedding_Layer_Encoder\")\n",
    "        self.lstm = LSTM(self.enc_units, return_state=True, name=\"Encoder_LSTM\")\n",
    "        \n",
    "    def call(self, input_sentances, training=True):\n",
    "        \n",
    "        input_embedded = self.embedding(input_sentances)\n",
    "        self.lstm_output, self.lstm_state_h,self.lstm_state_c = self.lstm(input_embedded)\n",
    "        return self.lstm_output, self.lstm_state_h,self.lstm_state_c\n",
    "\n",
    "    def get_states(self):\n",
    "        return self.lstm_state_h,self.lstm_state_c\n",
    "    \n",
    "# Decoder class with embedding and LSTM layer.    \n",
    "class Decoder(tf.keras.layers.Layer):\n",
    "    def __init__(self, vocab_size, embedding_dim, input_length, dec_units):\n",
    "        super().__init__()\n",
    "        self.vocab_size = vocab_size\n",
    "        self.embedding_dim = embedding_dim\n",
    "        self.dec_units = dec_units\n",
    "        self.input_length = input_length\n",
    "        # we are using embedding_matrix and not training the embedding layer\n",
    "        self.embedding = Embedding(input_dim=self.vocab_size, output_dim=self.embedding_dim, input_length=self.input_length, mask_zero=True, name=\"Embedding_Layer_Decoder\",)\n",
    "        self.lstm = LSTM(self.dec_units, return_sequences=True, return_state=True, name=\"Decoder_LSTM\")\n",
    "    \n",
    "    def call(self, target_sentences, state_h, state_c):\n",
    "        target_embedded           = self.embedding(target_sentences)\n",
    "        lstm_output, _,_        = self.lstm(target_embedded, initial_state=[state_h, state_c])\n",
    "        return lstm_output"
   ]
  },
  {
   "cell_type": "code",
   "execution_count": 432,
   "metadata": {
    "id": "bdPsfdMTDcUa"
   },
   "outputs": [],
   "source": [
    "# Creating a data pipeline\n",
    "class Dataset:\n",
    "    def __init__(self, data, tokenizer_raw_ip, tokenizer_target_ip, max_length_encoder,max_length_decoder):\n",
    "        self.encoder_inps = data['input'].values\n",
    "        self.decoder_inps = data['target_ip'].values\n",
    "        self.decoder_outs = data['target_op'].values\n",
    "        self.tokenizer_target_ip = tokenizer_target_ip\n",
    "        self.tokenizer_raw_ip = tokenizer_raw_ip\n",
    "        self.max_length_encoder = max_length_encoder\n",
    "        self.max_length_decoder = max_length_decoder\n",
    "\n",
    "    def __getitem__(self, i):\n",
    "        self.encoder_seq = self.tokenizer_raw_ip.texts_to_sequences([self.encoder_inps[i]]) # need to pass list of values\n",
    "        self.decoder_inp_seq = self.tokenizer_target_ip.texts_to_sequences([self.decoder_inps[i]])\n",
    "        self.decoder_out_seq = self.tokenizer_target_ip.texts_to_sequences([self.decoder_outs[i]])\n",
    "\n",
    "        self.encoder_seq = pad_sequences(self.encoder_seq, maxlen=self.max_length_encoder, dtype='int32', padding='post')\n",
    "        self.decoder_inp_seq = pad_sequences(self.decoder_inp_seq, maxlen=self.max_length_decoder, dtype='int32', padding='post')\n",
    "        self.decoder_out_seq = pad_sequences(self.decoder_out_seq, maxlen=self.max_length_decoder, dtype='int32', padding='post')\n",
    "        return self.encoder_seq, self.decoder_inp_seq, self.decoder_out_seq\n",
    "\n",
    "    def __len__(self): # your model.fit_gen requires this function\n",
    "        return len(self.encoder_inps)\n",
    "\n",
    "    \n",
    "class Dataloder(tf.keras.utils.Sequence):    \n",
    "    def __init__(self, dataset, batch_size=1):\n",
    "        self.dataset = dataset\n",
    "        self.batch_size = batch_size\n",
    "        self.indexes = np.arange(len(self.dataset.encoder_inps))\n",
    "\n",
    "\n",
    "    def __getitem__(self, i):\n",
    "        start = i * self.batch_size\n",
    "        stop = (i + 1) * self.batch_size\n",
    "        data = []\n",
    "        for j in range(start, stop):\n",
    "            data.append(self.dataset[j])\n",
    "\n",
    "        batch = [np.squeeze(np.stack(samples, axis=1), axis=0) for samples in zip(*data)]\n",
    "        # we are creating data like ([italian, english_inp], english_out) these are already converted into seq\n",
    "        return tuple([[batch[0],batch[1]],batch[2]])\n",
    "\n",
    "    def __len__(self):  # your model.fit_gen requires this function\n",
    "        return len(self.indexes) // self.batch_size\n",
    "\n",
    "    def on_epoch_end(self):\n",
    "        self.indexes = np.random.permutation(self.indexes)"
   ]
  },
  {
   "cell_type": "code",
   "execution_count": 433,
   "metadata": {
    "colab": {
     "base_uri": "https://localhost:8080/"
    },
    "id": "9dmaj0EADi5a",
    "outputId": "10e82189-e8e4-4afd-8a36-341c1b4080f6"
   },
   "outputs": [
    {
     "name": "stdout",
     "output_type": "stream",
     "text": [
      "(64, 480) (64, 499) (64, 499)\n"
     ]
    }
   ],
   "source": [
    "train_dataset = Dataset(train, tokenizer_raw_ip, tokenizer_target_ip, max_length_encoder, max_length_decoder)\n",
    "test_dataset  = Dataset(test, tokenizer_raw_ip, tokenizer_target_ip, max_length_encoder, max_length_decoder)\n",
    "\n",
    "train_dataloader = Dataloder(train_dataset, batch_size=64)\n",
    "test_dataloader = Dataloder(test_dataset, batch_size=20)\n",
    "\n",
    "print(train_dataloader[1][0][0].shape, train_dataloader[0][0][1].shape, train_dataloader[0][1].shape)"
   ]
  },
  {
   "cell_type": "code",
   "execution_count": 434,
   "metadata": {
    "colab": {
     "base_uri": "https://localhost:8080/"
    },
    "id": "YvuHmyIS4BGB",
    "outputId": "56744920-5e25-4031-a9bf-3f56fca91cbf"
   },
   "outputs": [
    {
     "data": {
      "text/plain": [
       "(20, 480)"
      ]
     },
     "execution_count": 434,
     "metadata": {
      "tags": []
     },
     "output_type": "execute_result"
    }
   ],
   "source": [
    "test_dataloader[0][0][0].shape"
   ]
  },
  {
   "cell_type": "code",
   "execution_count": 436,
   "metadata": {
    "id": "TSWOLZxfES-T"
   },
   "outputs": [],
   "source": [
    "# Model 1 - 1 layer LSTM model for each encoder and decoder\n",
    "class Model1(Model):\n",
    "    def __init__(self, encoder_inputs_length,decoder_inputs_length, output_vocab_size):\n",
    "        super().__init__() # https://stackoverflow.com/a/27134600/4084039\n",
    "        self.encoder = Encoder(vocab_size=input_vocab_size+1, embedding_dim=50, input_length=encoder_inputs_length, enc_units=500)\n",
    "        self.decoder = Decoder(vocab_size=target_vocab_size+1, embedding_dim=50, input_length=decoder_inputs_length, dec_units=500)\n",
    "        self.dense   = Dense(output_vocab_size, activation='softmax')\n",
    "        \n",
    "    def call(self, data):\n",
    "        input,output = data[0], data[1]\n",
    "        encoder_output, encoder_h, encoder_c = self.encoder(input)\n",
    "        decoder_output                       = self.decoder(output, encoder_h, encoder_c)\n",
    "        output                               = self.dense(decoder_output)\n",
    "        return output        "
   ]
  },
  {
   "cell_type": "code",
   "execution_count": 437,
   "metadata": {
    "id": "JdhEtfL4mpIo"
   },
   "outputs": [],
   "source": [
    "# Reduce learning rate based on the validation loss\n",
    "reduce_lr = ReduceLROnPlateau(monitor='val_loss', factor=0.8, verbose=1, mode='min', min_lr=0.001)"
   ]
  },
  {
   "cell_type": "code",
   "execution_count": 438,
   "metadata": {
    "id": "pJCvd660V1we"
   },
   "outputs": [],
   "source": [
    "checkpoint_filepath = 'model_1'\n",
    "model_checkpoint_callback = tf.keras.callbacks.ModelCheckpoint(\n",
    "    filepath=checkpoint_filepath,\n",
    "    save_weights_only=True,\n",
    "    monitor='val_loss',\n",
    "    mode='min',\n",
    "    save_best_only=True)"
   ]
  },
  {
   "cell_type": "code",
   "execution_count": 443,
   "metadata": {
    "id": "h54iCsvQElOp"
   },
   "outputs": [],
   "source": [
    "model  = Model1(encoder_inputs_length=max_length_encoder,decoder_inputs_length=max_length_decoder,output_vocab_size=target_vocab_size)"
   ]
  },
  {
   "cell_type": "code",
   "execution_count": 444,
   "metadata": {
    "id": "4AuSPsHDFvhI"
   },
   "outputs": [],
   "source": [
    "# Do once normal loss function works\n",
    "loss_object = tf.keras.losses.SparseCategoricalCrossentropy(from_logits=True, reduction='none')\n",
    "\n",
    "def custom_lossfunction(real, pred):\n",
    "\n",
    "  # Custom loss function that will not consider the loss for padded zeros.\n",
    "  # Refer https://www.tensorflow.org/tutorials/text/nmt_with_attention#define_the_optimizer_and_the_loss_function\n",
    "  \n",
    "  loss_object = tf.keras.losses.SparseCategoricalCrossentropy(from_logits=True, reduction='none')\n",
    "\n",
    "  mask = tf.math.logical_not(tf.math.equal(real, 0))\n",
    "  loss_ = loss_object(real, pred)\n",
    "\n",
    "  mask = tf.cast(mask, dtype=loss_.dtype)\n",
    "  loss_ *= mask\n",
    "\n",
    "  return tf.reduce_mean(loss_)\n"
   ]
  },
  {
   "cell_type": "code",
   "execution_count": 445,
   "metadata": {
    "id": "Bcix47d-L2Ap"
   },
   "outputs": [],
   "source": [
    "# Using Adam and Gradient clipping to prevent gradient explosion as mentioned in the research paper\n",
    "optimizer = tf.keras.optimizers.Adam(lr=0.001)\n",
    "model.compile(optimizer=optimizer,loss='sparse_categorical_crossentropy')\n",
    "train_steps=train.shape[0]//64\n",
    "valid_steps=test.shape[0]//20 \n"
   ]
  },
  {
   "cell_type": "code",
   "execution_count": 446,
   "metadata": {
    "colab": {
     "base_uri": "https://localhost:8080/"
    },
    "id": "aV6gpE1iE5a7",
    "outputId": "a73ddc10-c69c-4c92-e4bf-aa0f80facbdc"
   },
   "outputs": [
    {
     "name": "stdout",
     "output_type": "stream",
     "text": [
      "Epoch 1/20\n",
      "203/203 [==============================] - 34s 140ms/step - loss: 0.7440 - val_loss: 0.2410\n",
      "Epoch 2/20\n",
      "203/203 [==============================] - 26s 130ms/step - loss: 0.5362 - val_loss: 0.2081\n",
      "Epoch 3/20\n",
      "203/203 [==============================] - 26s 130ms/step - loss: 0.4630 - val_loss: 0.1861\n",
      "Epoch 4/20\n",
      "203/203 [==============================] - 26s 130ms/step - loss: 0.4239 - val_loss: 0.1711\n",
      "Epoch 5/20\n",
      "203/203 [==============================] - 27s 130ms/step - loss: 0.3785 - val_loss: 0.1600\n",
      "Epoch 6/20\n",
      "203/203 [==============================] - 26s 130ms/step - loss: 0.3556 - val_loss: 0.1518\n",
      "Epoch 7/20\n",
      "203/203 [==============================] - 27s 131ms/step - loss: 0.3311 - val_loss: 0.1462\n",
      "Epoch 8/20\n",
      "203/203 [==============================] - 27s 131ms/step - loss: 0.3175 - val_loss: 0.1413\n",
      "Epoch 9/20\n",
      "203/203 [==============================] - 26s 130ms/step - loss: 0.3002 - val_loss: 0.1393\n",
      "Epoch 10/20\n",
      "203/203 [==============================] - 26s 130ms/step - loss: 0.2879 - val_loss: 0.1374\n",
      "Epoch 11/20\n",
      "203/203 [==============================] - 26s 130ms/step - loss: 0.2763 - val_loss: 0.1359\n",
      "Epoch 12/20\n",
      "203/203 [==============================] - 26s 130ms/step - loss: 0.2641 - val_loss: 0.1359\n",
      "Epoch 13/20\n",
      "203/203 [==============================] - 27s 131ms/step - loss: 0.2580 - val_loss: 0.1378\n",
      "Epoch 14/20\n",
      "203/203 [==============================] - 26s 130ms/step - loss: 0.2498 - val_loss: 0.1386\n",
      "Epoch 15/20\n",
      "203/203 [==============================] - 27s 131ms/step - loss: 0.2352 - val_loss: 0.1407\n",
      "Epoch 16/20\n",
      "203/203 [==============================] - 27s 131ms/step - loss: 0.2299 - val_loss: 0.1395\n",
      "Epoch 17/20\n",
      "203/203 [==============================] - 26s 130ms/step - loss: 0.2242 - val_loss: 0.1406\n",
      "Epoch 18/20\n",
      "203/203 [==============================] - 26s 130ms/step - loss: 0.2122 - val_loss: 0.1445\n",
      "Epoch 19/20\n",
      "203/203 [==============================] - 26s 130ms/step - loss: 0.2024 - val_loss: 0.1471\n",
      "Epoch 20/20\n",
      "203/203 [==============================] - 26s 130ms/step - loss: 0.1933 - val_loss: 0.1495\n",
      "Model: \"model1_14\"\n",
      "_________________________________________________________________\n",
      "Layer (type)                 Output Shape              Param #   \n",
      "=================================================================\n",
      "encoder_14 (Encoder)         multiple                  1106850   \n",
      "_________________________________________________________________\n",
      "decoder_14 (Decoder)         multiple                  1106850   \n",
      "_________________________________________________________________\n",
      "dense_17 (Dense)             multiple                  48096     \n",
      "=================================================================\n",
      "Total params: 2,261,796\n",
      "Trainable params: 2,261,796\n",
      "Non-trainable params: 0\n",
      "_________________________________________________________________\n"
     ]
    }
   ],
   "source": [
    "model.fit(train_dataloader, steps_per_epoch=train_steps, epochs=20,  validation_data=test_dataloader, validation_steps=valid_steps, callbacks=[reduce_lr, model_checkpoint_callback])\n",
    "model.summary()"
   ]
  },
  {
   "cell_type": "code",
   "execution_count": 447,
   "metadata": {
    "colab": {
     "base_uri": "https://localhost:8080/"
    },
    "id": "U3YU1I_PeuTu",
    "outputId": "4740f1e9-7046-4637-fa4f-1e800afb006c"
   },
   "outputs": [
    {
     "data": {
      "text/plain": [
       "<tensorflow.python.training.tracking.util.CheckpointLoadStatus at 0x7fa22540d310>"
      ]
     },
     "execution_count": 447,
     "metadata": {
      "tags": []
     },
     "output_type": "execute_result"
    }
   ],
   "source": [
    "model.load_weights(\"model_1\")"
   ]
  },
  {
   "cell_type": "code",
   "execution_count": 448,
   "metadata": {
    "colab": {
     "base_uri": "https://localhost:8080/"
    },
    "id": "6f3mD2ytpkGS",
    "outputId": "46a8b6b8-9b39-4156-e363-df4748f22e21"
   },
   "outputs": [
    {
     "name": "stdout",
     "output_type": "stream",
     "text": [
      "1/1 [==============================] - 0s 49ms/step - loss: 0.1359\n"
     ]
    },
    {
     "data": {
      "text/plain": [
       "0.13589681684970856"
      ]
     },
     "execution_count": 448,
     "metadata": {
      "tags": []
     },
     "output_type": "execute_result"
    }
   ],
   "source": [
    "model.evaluate(test_dataloader)"
   ]
  },
  {
   "cell_type": "code",
   "execution_count": 449,
   "metadata": {
    "id": "gZH9LomGye4l"
   },
   "outputs": [],
   "source": [
    "model.save_weights('./model_1/model_novel_1')"
   ]
  },
  {
   "cell_type": "code",
   "execution_count": 450,
   "metadata": {
    "colab": {
     "base_uri": "https://localhost:8080/"
    },
    "id": "PaQQNo8EJD3h",
    "outputId": "2fe0bec7-c832-4d80-8f45-5a109337766e"
   },
   "outputs": [
    {
     "name": "stdout",
     "output_type": "stream",
     "text": [
      "The validation loss of the model 1 is: 0.1359\n",
      "The perplexity of the model 1 is: 1.0987780534462817\n"
     ]
    }
   ],
   "source": [
    "print(\"The validation loss of the model 1 is:\", 0.1359)\n",
    "print(\"The perplexity of the model 1 is:\", 2**(0.1359))"
   ]
  },
  {
   "cell_type": "code",
   "execution_count": 451,
   "metadata": {
    "id": "B8S2iljez9AW"
   },
   "outputs": [],
   "source": [
    "start_index = tokenizer_target_ip.word_index['\\t']\n",
    "end_index = tokenizer_target_ip.word_index['\\n']\n",
    "DECODER_SEQ_LEN = max_length_decoder\n",
    "max_len = max_length_decoder\n",
    "\n",
    "\n",
    "def predict(input_sentence):\n",
    "\n",
    "  encoder_seq = tokenizer_raw_ip.texts_to_sequences([input_sentence])\n",
    "\n",
    "  encoder_seq = pad_sequences(encoder_seq, maxlen=max_length_encoder, dtype='int32', padding='post')\n",
    "\n",
    "  enc_output, enc_state_h, enc_state_c = model.layers[0](encoder_seq)\n",
    "\n",
    "  dec_input = np.zeros((1, 1))\n",
    "\n",
    "  # Start of sentence\n",
    "  dec_input[0][0] = tokenizer_target_ip.word_index['\\t']\n",
    "\n",
    "  input_state = [enc_state_h, enc_state_c]\n",
    "\n",
    "  output_word = []\n",
    "\n",
    "  for i in range(DECODER_SEQ_LEN):\n",
    "      cur_emb = model.layers[1].embedding(dec_input)\n",
    "\n",
    "      predicted_out, state_h, state_c = model.layers[1].lstm(cur_emb, input_state)\n",
    "\n",
    "      dense_layer_out = model.layers[2](predicted_out)\n",
    "\n",
    "      input_state = [state_h, state_c]\n",
    "  \n",
    "      output_word_index = np.argmax(dense_layer_out)\n",
    "\n",
    "      # print(output_word_index)\n",
    "\n",
    "      for key, value in tokenizer_target_ip.word_index.items():\n",
    "\n",
    "         if output_word_index == value:\n",
    "             output_word.append(key)\n",
    "\n",
    "      dec_input = np.reshape(output_word_index, (1, 1))\n",
    "\n",
    "      if dec_input == tokenizer_target_ip.word_index['\\n']:\n",
    "        break\n",
    "  return output_word\n"
   ]
  },
  {
   "cell_type": "code",
   "execution_count": 452,
   "metadata": {
    "colab": {
     "base_uri": "https://localhost:8080/"
    },
    "id": "VQdlkAgYz9AZ",
    "outputId": "e0eb3d36-c3e2-4de2-a201-64d4c570c72f"
   },
   "outputs": [
    {
     "name": "stdout",
     "output_type": "stream",
     "text": [
      "Input Sentence: Mmm thats better now i got a roast down me! i'd b better if i had a few drinks down me 2! Good indian?\n",
      "Predicted Sentence: My dear the good and the best then I will be late. I will be late. I will be late. I will be late. I will be late.\n",
      "\n",
      "Original English sentence: That's better now, I got a roast down me! I'd be better if I had a few drinks down me too! Good Indian?\n",
      "\n",
      "******************************\n",
      "Input Sentence: Watch wat?\n",
      "Predicted Sentence: What are you?\n",
      "\n",
      "Original English sentence: Watch what?\n",
      "\n",
      "******************************\n",
      "Input Sentence: Oh dat.hehe.Why r u so interested?\n",
      "Predicted Sentence: Oh. I don't know where to go to see you?\n",
      "\n",
      "Original English sentence: Oh that. Hehe. Why are you so interested?\n",
      "\n",
      "******************************\n",
      "Input Sentence: hai\n",
      "Predicted Sentence: Ok.\n",
      "\n",
      "Original English sentence: Hi.\n",
      "\n",
      "******************************\n",
      "Input Sentence: ask more abt me?\n",
      "Predicted Sentence: Joey: Hi! Have you doing?\n",
      "\n",
      "Original English sentence: Ask more about me?\n",
      "\n",
      "******************************\n",
      "Input Sentence: Hey jiayin. Can bring 10 bucks tmr, it's 4 wawa's bdae.\n",
      "Predicted Sentence: Hey, I have a good late. I have a good late. So I can go to come.\n",
      "\n",
      "Original English sentence: Hey Jiayin. Can you bring 10 bucks tomorrow? It's for Wawa's birthday.\n",
      "\n",
      "******************************\n",
      "Input Sentence: Wanna intro.Joey?\n",
      "Predicted Sentence: What are you doing?\n",
      "\n",
      "Original English sentence: Want to introduce, Joey?\n",
      "\n",
      "******************************\n",
      "Input Sentence: Hey call me when you are abt to reach? I'm going muji to see see look look\n",
      "Predicted Sentence: Hey, I am not off to be a little study for you. I have a good later to you to come.\n",
      "\n",
      "Original English sentence: Hey, call me when you are about to reach? I'm going to muji to have a look.\n",
      "\n",
      "******************************\n",
      "Input Sentence: Contraction line .\n",
      "Predicted Sentence: Can you stay at 1:45.\n",
      "\n",
      "Original English sentence: Contraction line.\n",
      "\n",
      "******************************\n",
      "Input Sentence: He say dun tink they need part timer.How? U go crepes n cream ask la.Hereen 1.\n",
      "Predicted Sentence: He is all the best complete the pool computer to the back to confirm to the back.\n",
      "\n",
      "Original English sentence: He says he doesn't think they need part timer. How? Go Creps and Cream ask. The one in Hereen.\n",
      "\n",
      "******************************\n",
      "Input Sentence: Can i come in half an hr later. I nd to bath.Gee.\n",
      "Predicted Sentence: Can you stay and the best then I will be late. So where are you doing?\n",
      "\n",
      "Original English sentence: Can I come in half an hour later? I need to bath.\n",
      "\n",
      "******************************\n",
      "Input Sentence: Wat u doing?\n",
      "Predicted Sentence: What are you?\n",
      "\n",
      "Original English sentence: What are you doing?\n",
      "\n",
      "******************************\n",
      "Input Sentence: Once i pick up it'll just cut off. SBS or something? are you a member of something? :)\n",
      "Predicted Sentence: Hello, how are you all the bus stop of the past of the past of the past of the past of you. Haha.\n",
      "\n",
      "Original English sentence: Once I pick up it'll just cut off. SBS or something? Are you a member of something?\n",
      "\n",
      "******************************\n",
      "Input Sentence: Hey u will be in orchard right? I'm going to ask mei they all if they've bought the frame. If not we go ikea and buy one? Coz v few pieces left.can complete\n",
      "Predicted Sentence: Hey, I have a good time. I have a good later to you the poor off to be a little start to you. I have a good later to you the back to confirm to have the past for you. Haha.\n",
      "\n",
      "Original English sentence: Hey you will be in Orchard right? I'm going to ask Mei and the rest if they've bought the frame. If not we'll go to Ikea and buy one? Because there are very few pieces left. Can complete.\n",
      "\n",
      "******************************\n",
      "Input Sentence: But cun lah. go next wk? Act where u wanna go?\n",
      "Predicted Sentence: I'll be a good time. I have a good later to you?\n",
      "\n",
      "Original English sentence: But please come. Are you going next week? Ask you where you want to go.\n",
      "\n",
      "******************************\n",
      "Input Sentence: ok!\n",
      "Predicted Sentence: Ok.\n",
      "\n",
      "Original English sentence: Ok!\n",
      "\n",
      "******************************\n",
      "Input Sentence: So where n wat time u wan meet?\n",
      "Predicted Sentence: So what time is it? I think I will be late?\n",
      "\n",
      "Original English sentence: So where and what time do you want to meet?\n",
      "\n",
      "******************************\n",
      "Input Sentence: You want a not? I will go buy for you. I reached orchard already\n",
      "Predicted Sentence: Yup. I will be late. I will be late. I will be late. I will be late.\n",
      "\n",
      "Original English sentence: You want or not? I will go to buy for you. I reached Orchard already.\n",
      "\n",
      "******************************\n",
      "Input Sentence: Hi, u male\n",
      "Predicted Sentence: Hi, I am not.\n",
      "\n",
      "Original English sentence: Hi, are you male?\n",
      "\n",
      "******************************\n",
      "Input Sentence: Where are you\n",
      "Predicted Sentence: Where are you?\n",
      "\n",
      "Original English sentence: Where are you?\n",
      "\n",
      "******************************\n"
     ]
    }
   ],
   "source": [
    "predicted_sentences = []\n",
    "actual_sentences = []\n",
    "\n",
    "for i, row in test.iterrows():\n",
    "    output = predict(row['input'])\n",
    "    predicted_sentences.append(output)\n",
    "    english_out = row['target_op'].split()\n",
    "    actual_sentences.append(english_out)\n",
    "    sentence = ''.join(output)\n",
    "    print('Input Sentence:',row['input'])\n",
    "    print('Predicted Sentence:',sentence)\n",
    "    print('Original English sentence:', row['target_op'])\n",
    "    print('*'*30)"
   ]
  },
  {
   "cell_type": "code",
   "execution_count": 453,
   "metadata": {
    "colab": {
     "base_uri": "https://localhost:8080/"
    },
    "id": "g5bNFQyuz9Aa",
    "outputId": "a3daf3aa-db10-468b-f8c6-02b590bc99ec"
   },
   "outputs": [
    {
     "name": "stderr",
     "output_type": "stream",
     "text": [
      "/usr/local/lib/python3.7/dist-packages/nltk/translate/bleu_score.py:490: UserWarning: \n",
      "Corpus/Sentence contains 0 counts of 2-gram overlaps.\n",
      "BLEU scores might be undesirable; use SmoothingFunction().\n",
      "  warnings.warn(_msg)\n"
     ]
    }
   ],
   "source": [
    "from nltk.translate.bleu_score import sentence_bleu\n",
    "avg_score = 0\n",
    "for i in range(len(actual_sentences)):\n",
    "    score = sentence_bleu([actual_sentences[i]], predicted_sentences[i])\n",
    "    avg_score += score"
   ]
  },
  {
   "cell_type": "code",
   "execution_count": 454,
   "metadata": {
    "colab": {
     "base_uri": "https://localhost:8080/"
    },
    "id": "1yUCr-G-z9Aa",
    "outputId": "e1e1a988-2883-4113-9099-c9c7afb9232c"
   },
   "outputs": [
    {
     "name": "stdout",
     "output_type": "stream",
     "text": [
      "Avg BLEU Score of Simple Encoder Decoder Model: 0.09185575759054612\n"
     ]
    }
   ],
   "source": [
    "print(\"Avg BLEU Score of Simple Encoder Decoder Model:\", (avg_score/(len(actual_sentences))))"
   ]
  },
  {
   "cell_type": "markdown",
   "metadata": {
    "id": "WxjJh85mvRH6"
   },
   "source": [
    "# Model 2 - 2 layer - Char embedding"
   ]
  },
  {
   "cell_type": "code",
   "execution_count": 455,
   "metadata": {
    "colab": {
     "base_uri": "https://localhost:8080/",
     "height": 204
    },
    "id": "6wSmTYsRUb-6",
    "outputId": "cd9e81d0-a791-4155-b343-dc985a8ada08"
   },
   "outputs": [
    {
     "data": {
      "text/html": [
       "<div>\n",
       "<style scoped>\n",
       "    .dataframe tbody tr th:only-of-type {\n",
       "        vertical-align: middle;\n",
       "    }\n",
       "\n",
       "    .dataframe tbody tr th {\n",
       "        vertical-align: top;\n",
       "    }\n",
       "\n",
       "    .dataframe thead th {\n",
       "        text-align: right;\n",
       "    }\n",
       "</style>\n",
       "<table border=\"1\" class=\"dataframe\">\n",
       "  <thead>\n",
       "    <tr style=\"text-align: right;\">\n",
       "      <th></th>\n",
       "      <th>input</th>\n",
       "      <th>target</th>\n",
       "    </tr>\n",
       "  </thead>\n",
       "  <tbody>\n",
       "    <tr>\n",
       "      <th>0</th>\n",
       "      <td>\"But u.. WILL knw it, WHEN I TELL YOU WOT happ...</td>\n",
       "      <td>\"But you will know it, when I tell you what ha...</td>\n",
       "    </tr>\n",
       "    <tr>\n",
       "      <th>1</th>\n",
       "      <td>Joey: hai! Care TO intro nw?</td>\n",
       "      <td>Joey: Hi! Care to introduce now?</td>\n",
       "    </tr>\n",
       "    <tr>\n",
       "      <th>2</th>\n",
       "      <td>Elizabeth's mind wuz nw... relieved fr a veri ...</td>\n",
       "      <td>Elizabeth's mind was now relieved from a very ...</td>\n",
       "    </tr>\n",
       "    <tr>\n",
       "      <th>3</th>\n",
       "      <td>Haha.. ok.. So s he handsum or nt? haha.</td>\n",
       "      <td>Haha. ok. So is he handsome or not? haha.</td>\n",
       "    </tr>\n",
       "    <tr>\n",
       "      <th>4</th>\n",
       "      <td>ILL Be TRG ON wednesday. Ill kp YOU informed a...</td>\n",
       "      <td>I'll be TRG on Wednesday. I'll keep you inform...</td>\n",
       "    </tr>\n",
       "  </tbody>\n",
       "</table>\n",
       "</div>"
      ],
      "text/plain": [
       "                                               input                                             target\n",
       "0  \"But u.. WILL knw it, WHEN I TELL YOU WOT happ...  \"But you will know it, when I tell you what ha...\n",
       "1                       Joey: hai! Care TO intro nw?                   Joey: Hi! Care to introduce now?\n",
       "2  Elizabeth's mind wuz nw... relieved fr a veri ...  Elizabeth's mind was now relieved from a very ...\n",
       "3           Haha.. ok.. So s he handsum or nt? haha.          Haha. ok. So is he handsome or not? haha.\n",
       "4  ILL Be TRG ON wednesday. Ill kp YOU informed a...  I'll be TRG on Wednesday. I'll keep you inform..."
      ]
     },
     "execution_count": 455,
     "metadata": {
      "tags": []
     },
     "output_type": "execute_result"
    }
   ],
   "source": [
    "train = pd.read_csv('train_novel.csv')\n",
    "test = pd.read_csv('test_novel.csv')\n",
    "\n",
    "train.head()"
   ]
  },
  {
   "cell_type": "code",
   "execution_count": 456,
   "metadata": {
    "id": "MypsPSi7Ub_Z"
   },
   "outputs": [],
   "source": [
    "input_lengths = []\n",
    "target_lengths = []\n",
    "for i, row in train.iterrows():\n",
    "  input_lengths.append(len(row['input']))\n",
    "  target_lengths.append(len(row['target']))\n"
   ]
  },
  {
   "cell_type": "code",
   "execution_count": 457,
   "metadata": {
    "colab": {
     "base_uri": "https://localhost:8080/",
     "height": 266
    },
    "id": "5UJ-OQGEUb_a",
    "outputId": "62090439-99a7-4df5-9f4d-9dcc7aeca619"
   },
   "outputs": [
    {
     "data": {
      "image/png": "[encoded data removed]",
      "text/plain": [
       "<Figure size 432x288 with 1 Axes>"
      ]
     },
     "metadata": {
      "needs_background": "light",
      "tags": []
     },
     "output_type": "display_data"
    }
   ],
   "source": [
    "import matplotlib.pyplot as plt\n",
    "x_value = range(len(input_lengths))\n",
    "y_value = sorted(input_lengths)\n",
    "plt.plot(x_value , y_value)\n",
    "plt.ylabel('some numbers')\n",
    "plt.show()"
   ]
  },
  {
   "cell_type": "code",
   "execution_count": 458,
   "metadata": {
    "colab": {
     "base_uri": "https://localhost:8080/",
     "height": 265
    },
    "id": "CbxdhBq0Ub_b",
    "outputId": "8d4c36e9-804e-4e30-b9f5-7b8a738cc087"
   },
   "outputs": [
    {
     "data": {
      "image/png": "[encoded data removed]",
      "text/plain": [
       "<Figure size 432x288 with 1 Axes>"
      ]
     },
     "metadata": {
      "needs_background": "light",
      "tags": []
     },
     "output_type": "display_data"
    }
   ],
   "source": [
    "x_value = range(len(target_lengths))\n",
    "y_value = sorted(target_lengths)\n",
    "plt.plot(x_value , y_value)\n",
    "plt.ylabel('some numbers')\n",
    "plt.show()"
   ]
  },
  {
   "cell_type": "code",
   "execution_count": 459,
   "metadata": {
    "id": "n5hX3MvIUb_b"
   },
   "outputs": [],
   "source": [
    "train['input_lengths'] = input_lengths\n",
    "train['target_lengths'] = target_lengths"
   ]
  },
  {
   "cell_type": "code",
   "execution_count": 460,
   "metadata": {
    "id": "XGobf0TVUb_c"
   },
   "outputs": [],
   "source": [
    "train = train[train['input_lengths'] < 500]\n",
    "train = train[train['target_lengths'] < 500]"
   ]
  },
  {
   "cell_type": "code",
   "execution_count": 461,
   "metadata": {
    "id": "XhCfh4jbUb_c"
   },
   "outputs": [],
   "source": [
    "train = train.drop(['input_lengths', 'target_lengths'], axis=1)\n"
   ]
  },
  {
   "cell_type": "code",
   "execution_count": 462,
   "metadata": {
    "colab": {
     "base_uri": "https://localhost:8080/"
    },
    "id": "28QwpReBUb_c",
    "outputId": "8f255bfe-bfc7-40d6-ad9e-1efd61875baa"
   },
   "outputs": [
    {
     "name": "stdout",
     "output_type": "stream",
     "text": [
      "94\n",
      "['0', '1', '2', '3', '4', '5', '6', '7', '8', '9', 'a', 'b', 'c', 'd', 'e', 'f', 'g', 'h', 'i', 'j', 'k', 'l', 'm', 'n', 'o', 'p', 'q', 'r', 's', 't', 'u', 'v', 'w', 'x', 'y', 'z', 'A', 'B', 'C', 'D', 'E', 'F', 'G', 'H', 'I', 'J', 'K', 'L', 'M', 'N', 'O', 'P', 'Q', 'R', 'S', 'T', 'U', 'V', 'W', 'X', 'Y', 'Z', '!', '\"', '#', '$', '%', '&', \"'\", '(', ')', '*', '+', ',', '-', '.', '/', ':', ';', '<', '=', '>', '?', '@', '[', '\\\\', ']', '^', '_', '`', '{', '|', '}', ' ']\n"
     ]
    }
   ],
   "source": [
    "required_chars = []\n",
    "for char in string.printable:\n",
    "  if ord(char) > 31 and ord(char) < 126:\n",
    "    required_chars.append(char)\n",
    "\n",
    "\n",
    "print(len(required_chars))\n",
    "print(required_chars)"
   ]
  },
  {
   "cell_type": "code",
   "execution_count": 463,
   "metadata": {
    "id": "OVyUceXXUb_d"
   },
   "outputs": [],
   "source": [
    "# Create a dictionary of chars and index value from 1. 0 is reserved for padding by the tokenizer.\n",
    "vocabulary = dict()\n",
    "for i in range(len(required_chars)):\n",
    "  vocabulary[required_chars[i]] = i+1"
   ]
  },
  {
   "cell_type": "code",
   "execution_count": 464,
   "metadata": {
    "id": "-ay7Fda-Ub_d"
   },
   "outputs": [],
   "source": [
    "# Use \\t as Start of Sentence and \\n as End of Sentence\n",
    "vocabulary['\\n'] = 95\n",
    "vocabulary['\\t'] = 96"
   ]
  },
  {
   "cell_type": "code",
   "execution_count": 465,
   "metadata": {
    "id": "44L-QMBHUb_d"
   },
   "outputs": [],
   "source": [
    "# Characters that were found in train and test set and replaced with the normal english characters.\n",
    "replacements = {'£':'', 'É': 'E', 'Ñ': 'N', 'Ü': 'U', 'à': 'a', 'ä': 'a', 'å': 'a', 'è': 'e', 'é': 'e', 'ì': 'i', 'ñ': 'n', 'ò': 'o', 'ö': 'o', 'ø': 'o', 'ù': 'u', 'ü': 'u',  '“': '\"',  '”': '\"',   '，': ',',   '？': '?' }"
   ]
  },
  {
   "cell_type": "code",
   "execution_count": 466,
   "metadata": {
    "id": "00xmYrQFUb_e"
   },
   "outputs": [],
   "source": [
    "for old_char, new_char in replacements.items():\n",
    "  train = train.replace(old_char, new_char, regex=True)\n",
    "  test = test.replace(old_char, new_char, regex=True)"
   ]
  },
  {
   "cell_type": "code",
   "execution_count": 467,
   "metadata": {
    "id": "x98FsXMDUb_f"
   },
   "outputs": [],
   "source": [
    "train['input'] = train['input'].replace({'..':'.', '...':'.', '???':'?', '??':'?', '#':'', \"!!\":\"!\",\"!!!\":\"!\",\"@\":\"\",\"$\":\"\",\"%\":\"\",\"^\":\"\",\"&\":\"\",\"(\":\"\",\")\":\"\",\"_\":\"\", \";\":\"\"})"
   ]
  },
  {
   "cell_type": "code",
   "execution_count": 468,
   "metadata": {
    "id": "EhKZHDleUb_f"
   },
   "outputs": [],
   "source": [
    "for i, row in train.iterrows():\n",
    "    value = row['input']\n",
    "    repl_value = re.sub(r'\\.+', \".\", value)\n",
    "    repl_value = re.sub(r'\\!+', \"!\", repl_value)\n",
    "    repl_value = re.sub(r'\\ +', \" \", repl_value)\n",
    "    train.at[i,'input'] = repl_value\n",
    "\n",
    "for i, row in test.iterrows():\n",
    "    value = row['input']\n",
    "    repl_value = re.sub(r'\\.+', \".\", value)\n",
    "    repl_value = re.sub(r'\\!+', \"!\", repl_value)\n",
    "    repl_value = re.sub(r'\\ +', \" \", repl_value)\n",
    "    test.at[i,'input'] = repl_value"
   ]
  },
  {
   "cell_type": "code",
   "execution_count": 469,
   "metadata": {
    "colab": {
     "base_uri": "https://localhost:8080/",
     "height": 204
    },
    "id": "XbJSfNvpUb_g",
    "outputId": "2e04658e-31a9-4378-dbd4-07312bb29158"
   },
   "outputs": [
    {
     "data": {
      "text/html": [
       "<div>\n",
       "<style scoped>\n",
       "    .dataframe tbody tr th:only-of-type {\n",
       "        vertical-align: middle;\n",
       "    }\n",
       "\n",
       "    .dataframe tbody tr th {\n",
       "        vertical-align: top;\n",
       "    }\n",
       "\n",
       "    .dataframe thead th {\n",
       "        text-align: right;\n",
       "    }\n",
       "</style>\n",
       "<table border=\"1\" class=\"dataframe\">\n",
       "  <thead>\n",
       "    <tr style=\"text-align: right;\">\n",
       "      <th></th>\n",
       "      <th>input</th>\n",
       "      <th>target</th>\n",
       "    </tr>\n",
       "  </thead>\n",
       "  <tbody>\n",
       "    <tr>\n",
       "      <th>0</th>\n",
       "      <td>\"But u. WILL knw it, WHEN I TELL YOU WOT happe...</td>\n",
       "      <td>\"But you will know it, when I tell you what ha...</td>\n",
       "    </tr>\n",
       "    <tr>\n",
       "      <th>1</th>\n",
       "      <td>Joey: hai! Care TO intro nw?</td>\n",
       "      <td>Joey: Hi! Care to introduce now?</td>\n",
       "    </tr>\n",
       "    <tr>\n",
       "      <th>2</th>\n",
       "      <td>Elizabeth's mind wuz nw. relieved fr a veri he...</td>\n",
       "      <td>Elizabeth's mind was now relieved from a very ...</td>\n",
       "    </tr>\n",
       "    <tr>\n",
       "      <th>3</th>\n",
       "      <td>Haha. ok. So s he handsum or nt? haha.</td>\n",
       "      <td>Haha. ok. So is he handsome or not? haha.</td>\n",
       "    </tr>\n",
       "    <tr>\n",
       "      <th>4</th>\n",
       "      <td>ILL Be TRG ON wednesday. Ill kp YOU informed a...</td>\n",
       "      <td>I'll be TRG on Wednesday. I'll keep you inform...</td>\n",
       "    </tr>\n",
       "  </tbody>\n",
       "</table>\n",
       "</div>"
      ],
      "text/plain": [
       "                                               input                                             target\n",
       "0  \"But u. WILL knw it, WHEN I TELL YOU WOT happe...  \"But you will know it, when I tell you what ha...\n",
       "1                       Joey: hai! Care TO intro nw?                   Joey: Hi! Care to introduce now?\n",
       "2  Elizabeth's mind wuz nw. relieved fr a veri he...  Elizabeth's mind was now relieved from a very ...\n",
       "3             Haha. ok. So s he handsum or nt? haha.          Haha. ok. So is he handsome or not? haha.\n",
       "4  ILL Be TRG ON wednesday. Ill kp YOU informed a...  I'll be TRG on Wednesday. I'll keep you inform..."
      ]
     },
     "execution_count": 469,
     "metadata": {
      "tags": []
     },
     "output_type": "execute_result"
    }
   ],
   "source": [
    "train.head()"
   ]
  },
  {
   "cell_type": "code",
   "execution_count": 470,
   "metadata": {
    "id": "8nqp3zADUb_g"
   },
   "outputs": [],
   "source": [
    "# Adding the \\t and \\n as part of start and end of sentence\n",
    "train['target_ip'] = '\\t' + train['target'].astype(str)\n",
    "train['target_op'] =  train['target'].astype(str) + '\\n'\n",
    "\n",
    "test['target_ip'] = '\\t' + test['target'].astype(str)\n",
    "test['target_op'] =  test['target'].astype(str) + '\\n'"
   ]
  },
  {
   "cell_type": "code",
   "execution_count": 471,
   "metadata": {
    "id": "eiuNYLK5Ub_g"
   },
   "outputs": [],
   "source": [
    "train = train.drop(['target'], axis=1)\n",
    "test = test.drop(['target'], axis=1)"
   ]
  },
  {
   "cell_type": "code",
   "execution_count": 472,
   "metadata": {
    "colab": {
     "base_uri": "https://localhost:8080/",
     "height": 204
    },
    "id": "rNnqgNJjUb_g",
    "outputId": "ecdcef91-833f-4828-cfc8-f86aec0309de"
   },
   "outputs": [
    {
     "data": {
      "text/html": [
       "<div>\n",
       "<style scoped>\n",
       "    .dataframe tbody tr th:only-of-type {\n",
       "        vertical-align: middle;\n",
       "    }\n",
       "\n",
       "    .dataframe tbody tr th {\n",
       "        vertical-align: top;\n",
       "    }\n",
       "\n",
       "    .dataframe thead th {\n",
       "        text-align: right;\n",
       "    }\n",
       "</style>\n",
       "<table border=\"1\" class=\"dataframe\">\n",
       "  <thead>\n",
       "    <tr style=\"text-align: right;\">\n",
       "      <th></th>\n",
       "      <th>input</th>\n",
       "      <th>target_ip</th>\n",
       "      <th>target_op</th>\n",
       "    </tr>\n",
       "  </thead>\n",
       "  <tbody>\n",
       "    <tr>\n",
       "      <th>0</th>\n",
       "      <td>\"But u. WILL knw it, WHEN I TELL YOU WOT happe...</td>\n",
       "      <td>\\t\"But you will know it, when I tell you what ...</td>\n",
       "      <td>\"But you will know it, when I tell you what ha...</td>\n",
       "    </tr>\n",
       "    <tr>\n",
       "      <th>1</th>\n",
       "      <td>Joey: hai! Care TO intro nw?</td>\n",
       "      <td>\\tJoey: Hi! Care to introduce now?</td>\n",
       "      <td>Joey: Hi! Care to introduce now?\\n</td>\n",
       "    </tr>\n",
       "    <tr>\n",
       "      <th>2</th>\n",
       "      <td>Elizabeth's mind wuz nw. relieved fr a veri he...</td>\n",
       "      <td>\\tElizabeth's mind was now relieved from a ver...</td>\n",
       "      <td>Elizabeth's mind was now relieved from a very ...</td>\n",
       "    </tr>\n",
       "    <tr>\n",
       "      <th>3</th>\n",
       "      <td>Haha. ok. So s he handsum or nt? haha.</td>\n",
       "      <td>\\tHaha. ok. So is he handsome or not? haha.</td>\n",
       "      <td>Haha. ok. So is he handsome or not? haha.\\n</td>\n",
       "    </tr>\n",
       "    <tr>\n",
       "      <th>4</th>\n",
       "      <td>ILL Be TRG ON wednesday. Ill kp YOU informed a...</td>\n",
       "      <td>\\tI'll be TRG on Wednesday. I'll keep you info...</td>\n",
       "      <td>I'll be TRG on Wednesday. I'll keep you inform...</td>\n",
       "    </tr>\n",
       "  </tbody>\n",
       "</table>\n",
       "</div>"
      ],
      "text/plain": [
       "                                               input  ...                                          target_op\n",
       "0  \"But u. WILL knw it, WHEN I TELL YOU WOT happe...  ...  \"But you will know it, when I tell you what ha...\n",
       "1                       Joey: hai! Care TO intro nw?  ...                 Joey: Hi! Care to introduce now?\\n\n",
       "2  Elizabeth's mind wuz nw. relieved fr a veri he...  ...  Elizabeth's mind was now relieved from a very ...\n",
       "3             Haha. ok. So s he handsum or nt? haha.  ...        Haha. ok. So is he handsome or not? haha.\\n\n",
       "4  ILL Be TRG ON wednesday. Ill kp YOU informed a...  ...  I'll be TRG on Wednesday. I'll keep you inform...\n",
       "\n",
       "[5 rows x 3 columns]"
      ]
     },
     "execution_count": 472,
     "metadata": {
      "tags": []
     },
     "output_type": "execute_result"
    }
   ],
   "source": [
    "train.head()"
   ]
  },
  {
   "cell_type": "code",
   "execution_count": 473,
   "metadata": {
    "id": "oo4mvzdKUb_h"
   },
   "outputs": [],
   "source": [
    "train.iloc[0]['target_ip']= str(train.iloc[0]['target_ip'])+'\\n'\n",
    "train.iloc[0]['target_op']= str(train.iloc[0]['target_op'])+'\\n'"
   ]
  },
  {
   "cell_type": "code",
   "execution_count": 474,
   "metadata": {
    "colab": {
     "base_uri": "https://localhost:8080/"
    },
    "id": "VrP9__4dUb_h",
    "outputId": "1423f462-3bc6-4ade-f11d-a225f79a3a12"
   },
   "outputs": [
    {
     "name": "stdout",
     "output_type": "stream",
     "text": [
      "480\n"
     ]
    }
   ],
   "source": [
    "# Calculating the maximum length of among all the sentences which will be useful for padding.\n",
    "max_length_encoder = train['input'].map(len).max()\n",
    "\n",
    "print(max_length_encoder)"
   ]
  },
  {
   "cell_type": "code",
   "execution_count": 475,
   "metadata": {
    "colab": {
     "base_uri": "https://localhost:8080/"
    },
    "id": "4r9BW8-lUb_h",
    "outputId": "5627533a-961b-407d-e23f-f79b6614a54a"
   },
   "outputs": [
    {
     "name": "stdout",
     "output_type": "stream",
     "text": [
      "499\n"
     ]
    }
   ],
   "source": [
    "max_length_decoder = max( train['target_ip'].map(len).max(), train['target_op'].map(len).max())\n",
    "print(max_length_decoder)"
   ]
  },
  {
   "cell_type": "code",
   "execution_count": 476,
   "metadata": {
    "id": "46bm-Vh5Ub_h"
   },
   "outputs": [],
   "source": [
    "# Tokenizer for the raw input and target output\n",
    "tokenizer_raw_ip = Tokenizer(\n",
    "    char_level=True,\n",
    "    lower=False,\n",
    "    filters=None\n",
    ")\n",
    "\n",
    "tokenizer_target_ip = Tokenizer(\n",
    "    char_level=True,\n",
    "    lower=False,\n",
    "    filters=None\n",
    ")"
   ]
  },
  {
   "cell_type": "code",
   "execution_count": 477,
   "metadata": {
    "id": "d1fdFCTXUb_i"
   },
   "outputs": [],
   "source": [
    "tokenizer_raw_ip.fit_on_texts(train['input'].values)\n",
    "tokenizer_target_ip.fit_on_texts(train['target_ip'].values)"
   ]
  },
  {
   "cell_type": "code",
   "execution_count": 478,
   "metadata": {
    "id": "IplGsIjpUb_i"
   },
   "outputs": [],
   "source": [
    "# Replacing the vocabulary of the trained index to a vocabulary mentioned in the research paper\n",
    "tokenizer_target_ip.word_index = vocabulary\n",
    "tokenizer_raw_ip.word_index = vocabulary"
   ]
  },
  {
   "cell_type": "code",
   "execution_count": 479,
   "metadata": {
    "colab": {
     "base_uri": "https://localhost:8080/"
    },
    "id": "d0HQiYs1Ub_i",
    "outputId": "4b4afac0-ab7b-4c0a-b8ce-4121c553d14e"
   },
   "outputs": [
    {
     "name": "stdout",
     "output_type": "stream",
     "text": [
      "96\n",
      "96\n"
     ]
    }
   ],
   "source": [
    "target_vocab_size=len(tokenizer_target_ip.word_index.keys())\n",
    "print(target_vocab_size)\n",
    "input_vocab_size=len(tokenizer_raw_ip.word_index.keys())\n",
    "print(input_vocab_size)"
   ]
  },
  {
   "cell_type": "code",
   "execution_count": 480,
   "metadata": {
    "id": "geqFI6vhvLFs"
   },
   "outputs": [],
   "source": [
    "# Encoder class with Embedding layer and 2 LSTM layers.\n",
    "class Encoder_2_Layer(tf.keras.layers.Layer):\n",
    "    def __init__(self, vocab_size, embedding_dim, input_length, enc_units):\n",
    "        super().__init__()\n",
    "        self.vocab_size = vocab_size\n",
    "        self.embedding_dim = embedding_dim\n",
    "        self.input_length = input_length\n",
    "        self.enc_units= enc_units\n",
    "        self.lstm_output = 0\n",
    "        self.lstm_state_h=0\n",
    "        self.lstm_state_c=0\n",
    "        \n",
    "    def build(self, input_shape):\n",
    "        self.embedding = Embedding(input_dim=self.vocab_size, output_dim=self.embedding_dim, input_length=self.input_length,\n",
    "                           mask_zero=True, name=\"embedding_layer_encoder\")\n",
    "        self.lstm_1 = LSTM(self.enc_units, return_state=True, return_sequences=True, name=\"Encoder_LSTM_1\")\n",
    "        self.lstm_2 = LSTM(self.enc_units, return_state=True, return_sequences=True, name=\"Encoder_LSTM_2\")\n",
    "        \n",
    "    def call(self, input_sentences, training=True):\n",
    "        input_embedded                           = self.embedding(input_sentences)\n",
    "        self.lstm_output_1, lstm_state_h_1,self.lstm_state_c_1 = self.lstm_1(input_embedded)\n",
    "        self.lstm_output_2, self.lstm_state_h_2,self.lstm_state_c_2 = self.lstm_2(self.lstm_output_1)\n",
    "\n",
    "        return  self.lstm_output_1, lstm_state_h_1, self.lstm_state_c_1, self.lstm_output_2, self.lstm_state_h_2, self.lstm_state_c_2\n",
    "        \n",
    "    def get_states(self):\n",
    "        return self.lstm_state_h, self.lstm_state_c\n",
    "    \n",
    "# Decoder class with Embedding layer and 2 LSTM layers.    \n",
    "class Decoder_2_Layer(tf.keras.layers.Layer):\n",
    "    def __init__(self, vocab_size, embedding_dim, input_length, dec_units):\n",
    "        super().__init__()\n",
    "        self.vocab_size = vocab_size\n",
    "        self.embedding_dim = embedding_dim\n",
    "        self.dec_units = dec_units\n",
    "        self.input_length = input_length\n",
    "        # we are using embedding_matrix and not training the embedding layer\n",
    "        self.embedding = Embedding(input_dim=self.vocab_size, output_dim=self.embedding_dim, input_length=self.input_length,\n",
    "                           mask_zero=True, name=\"embedding_layer_decoder\",)\n",
    "        self.lstm_1 = LSTM(self.dec_units, return_sequences=True, return_state=True, name=\"Decoder_LSTM_1\")\n",
    "        self.lstm_2 = LSTM(self.dec_units, return_sequences=True, return_state=True, name=\"Decoder_LSTM_2\")\n",
    "    \n",
    "    def call(self, target_sentances, state_h_1, state_c_1, state_h_2, state_c_2):\n",
    "        target_embedd           = self.embedding(target_sentances)\n",
    "        lstm_output_1, decoder_state_h_1, decoder_state_c_1      = self.lstm_1(target_embedd, initial_state=[state_h_1, state_c_1])\n",
    "        lstm_output, _,_        = self.lstm_2(lstm_output_1, initial_state=[state_h_2, state_c_2])\n",
    "        return lstm_output"
   ]
  },
  {
   "cell_type": "code",
   "execution_count": 481,
   "metadata": {
    "id": "Llc-_ijHxTWl"
   },
   "outputs": [],
   "source": [
    "# Creating a data pipeline\n",
    "class Dataset:\n",
    "    def __init__(self, data, tokenizer_raw_ip, tokenizer_target_ip, max_length_encoder,max_length_decoder):\n",
    "        self.encoder_inps = data['input'].values\n",
    "        self.decoder_inps = data['target_ip'].values\n",
    "        self.decoder_outs = data['target_op'].values\n",
    "        self.tokenizer_target_ip = tokenizer_target_ip\n",
    "        self.tokenizer_raw_ip = tokenizer_raw_ip\n",
    "        self.max_length_encoder = max_length_encoder\n",
    "        self.max_length_decoder = max_length_decoder\n",
    "\n",
    "    def __getitem__(self, i):\n",
    "        self.encoder_seq = self.tokenizer_raw_ip.texts_to_sequences([self.encoder_inps[i]]) # need to pass list of values\n",
    "        self.decoder_inp_seq = self.tokenizer_target_ip.texts_to_sequences([self.decoder_inps[i]])\n",
    "        self.decoder_out_seq = self.tokenizer_target_ip.texts_to_sequences([self.decoder_outs[i]])\n",
    "\n",
    "        self.encoder_seq = pad_sequences(self.encoder_seq, maxlen=self.max_length_encoder, dtype='int32', padding='post')\n",
    "        self.decoder_inp_seq = pad_sequences(self.decoder_inp_seq, maxlen=self.max_length_decoder, dtype='int32', padding='post')\n",
    "        self.decoder_out_seq = pad_sequences(self.decoder_out_seq, maxlen=self.max_length_decoder, dtype='int32', padding='post')\n",
    "        return self.encoder_seq, self.decoder_inp_seq, self.decoder_out_seq\n",
    "\n",
    "    def __len__(self): # your model.fit_gen requires this function\n",
    "        return len(self.encoder_inps)\n",
    "\n",
    "    \n",
    "class Dataloder(tf.keras.utils.Sequence):    \n",
    "    def __init__(self, dataset, batch_size=1):\n",
    "        self.dataset = dataset\n",
    "        self.batch_size = batch_size\n",
    "        self.indexes = np.arange(len(self.dataset.encoder_inps))\n",
    "\n",
    "\n",
    "    def __getitem__(self, i):\n",
    "        start = i * self.batch_size\n",
    "        stop = (i + 1) * self.batch_size\n",
    "        data = []\n",
    "        for j in range(start, stop):\n",
    "            data.append(self.dataset[j])\n",
    "\n",
    "        batch = [np.squeeze(np.stack(samples, axis=1), axis=0) for samples in zip(*data)]\n",
    "        # we are creating data like ([italian, english_inp], english_out) these are already converted into seq\n",
    "        return tuple([[batch[0],batch[1]],batch[2]])\n",
    "\n",
    "    def __len__(self):  # your model.fit_gen requires this function\n",
    "        return len(self.indexes) // self.batch_size\n",
    "\n",
    "    def on_epoch_end(self):\n",
    "        self.indexes = np.random.permutation(self.indexes)"
   ]
  },
  {
   "cell_type": "code",
   "execution_count": 482,
   "metadata": {
    "colab": {
     "base_uri": "https://localhost:8080/"
    },
    "id": "2LVonU9wxTWm",
    "outputId": "3e174ff2-755a-47bb-97cd-ed23960587a4"
   },
   "outputs": [
    {
     "name": "stdout",
     "output_type": "stream",
     "text": [
      "(64, 480) (64, 499) (64, 499)\n"
     ]
    }
   ],
   "source": [
    "train_dataset = Dataset(train, tokenizer_raw_ip, tokenizer_target_ip, max_length_encoder, max_length_decoder)\n",
    "test_dataset  = Dataset(test, tokenizer_raw_ip, tokenizer_target_ip, max_length_encoder, max_length_decoder)\n",
    "\n",
    "train_dataloader = Dataloder(train_dataset, batch_size=64)\n",
    "test_dataloader = Dataloder(test_dataset, batch_size=20)\n",
    "\n",
    "\n",
    "print(train_dataloader[0][0][0].shape, train_dataloader[0][0][1].shape, train_dataloader[0][1].shape)"
   ]
  },
  {
   "cell_type": "code",
   "execution_count": 483,
   "metadata": {
    "colab": {
     "base_uri": "https://localhost:8080/"
    },
    "id": "TM8_-p4AxTWn",
    "outputId": "f960a38e-37c2-426f-ff0b-0f54f03a0a2b"
   },
   "outputs": [
    {
     "name": "stdout",
     "output_type": "stream",
     "text": [
      "96\n",
      "96\n"
     ]
    }
   ],
   "source": [
    "input_vocab_size=len(tokenizer_raw_ip.word_index.keys())\n",
    "print(input_vocab_size)\n",
    "target_vocab_size=len(tokenizer_target_ip.word_index.keys())\n",
    "print(target_vocab_size)"
   ]
  },
  {
   "cell_type": "code",
   "execution_count": 496,
   "metadata": {
    "id": "Vmk1Z5YzwjpN"
   },
   "outputs": [],
   "source": [
    "# Model 2 - 2 layer LSTM model for each encoder and decoder\n",
    "class Model2(Model):\n",
    "    def __init__(self, encoder_inputs_length,decoder_inputs_length, output_vocab_size):\n",
    "        super().__init__()\n",
    "        self.encoder = Encoder_2_Layer(vocab_size=input_vocab_size+1, embedding_dim=50, input_length=encoder_inputs_length, enc_units=200)\n",
    "        self.decoder = Decoder_2_Layer(vocab_size=target_vocab_size+1, embedding_dim=50, input_length=decoder_inputs_length, dec_units=200)\n",
    "        self.dense   = Dense(output_vocab_size, activation='softmax')\n",
    "        \n",
    "        \n",
    "    def call(self, data):\n",
    "        input,output = data[0], data[1]\n",
    "        encoder_output_1, encoder_h_1, encoder_c_1, encoder_output_2, encoder_h_2, encoder_c_2 = self.encoder(input)\n",
    "        decoder_output                       = self.decoder(output, encoder_h_1, encoder_c_1, encoder_h_2, encoder_c_2)\n",
    "        output                               = self.dense(decoder_output)\n",
    "        return output"
   ]
  },
  {
   "cell_type": "code",
   "execution_count": 497,
   "metadata": {
    "id": "fh2a4ISnxaU1"
   },
   "outputs": [],
   "source": [
    "reduce_lr = ReduceLROnPlateau(monitor='val_loss', factor=0.9, min_lr=0.0001, verbose=1)"
   ]
  },
  {
   "cell_type": "code",
   "execution_count": 498,
   "metadata": {
    "id": "I50j-naYtf6t"
   },
   "outputs": [],
   "source": [
    "checkpoint_filepath = 'model_2'\n",
    "model_checkpoint_callback = tf.keras.callbacks.ModelCheckpoint(\n",
    "    filepath=checkpoint_filepath,\n",
    "    save_weights_only=True,\n",
    "    monitor='val_loss',\n",
    "    mode='min',\n",
    "    save_best_only=True)"
   ]
  },
  {
   "cell_type": "code",
   "execution_count": 499,
   "metadata": {
    "id": "J9fhT-bZwl_R"
   },
   "outputs": [],
   "source": [
    "model  = Model2(encoder_inputs_length=max_length_encoder, decoder_inputs_length=max_length_decoder, output_vocab_size=target_vocab_size)\n",
    "optimizer = tf.keras.optimizers.Adam(lr=0.001)\n",
    "model.compile(optimizer=optimizer,loss='sparse_categorical_crossentropy')\n",
    "train_steps=train.shape[0]//64\n",
    "valid_steps=test.shape[0]//20"
   ]
  },
  {
   "cell_type": "code",
   "execution_count": 500,
   "metadata": {
    "colab": {
     "base_uri": "https://localhost:8080/"
    },
    "id": "WzffOmIAxpKU",
    "outputId": "08e19a43-1fa0-41f4-bea0-c7f90db58fc8"
   },
   "outputs": [
    {
     "name": "stdout",
     "output_type": "stream",
     "text": [
      "Epoch 1/50\n",
      "203/203 [==============================] - 40s 135ms/step - loss: 0.7707 - val_loss: 0.2870\n",
      "Epoch 2/50\n",
      "203/203 [==============================] - 24s 117ms/step - loss: 0.6174 - val_loss: 0.2407\n",
      "Epoch 3/50\n",
      "203/203 [==============================] - 24s 117ms/step - loss: 0.5426 - val_loss: 0.2217\n",
      "Epoch 4/50\n",
      "203/203 [==============================] - 24s 118ms/step - loss: 0.5011 - val_loss: 0.2095\n",
      "Epoch 5/50\n",
      "203/203 [==============================] - 24s 118ms/step - loss: 0.4726 - val_loss: 0.1961\n",
      "Epoch 6/50\n",
      "203/203 [==============================] - 24s 117ms/step - loss: 0.4449 - val_loss: 0.1849\n",
      "Epoch 7/50\n",
      "203/203 [==============================] - 24s 117ms/step - loss: 0.4288 - val_loss: 0.1757\n",
      "Epoch 8/50\n",
      "203/203 [==============================] - 24s 117ms/step - loss: 0.4050 - val_loss: 0.1694\n",
      "Epoch 9/50\n",
      "203/203 [==============================] - 24s 117ms/step - loss: 0.3910 - val_loss: 0.1637\n",
      "Epoch 10/50\n",
      "203/203 [==============================] - 24s 117ms/step - loss: 0.3734 - val_loss: 0.1592\n",
      "Epoch 11/50\n",
      "203/203 [==============================] - 24s 118ms/step - loss: 0.3663 - val_loss: 0.1544\n",
      "Epoch 12/50\n",
      "203/203 [==============================] - 24s 117ms/step - loss: 0.3558 - val_loss: 0.1509\n",
      "Epoch 13/50\n",
      "203/203 [==============================] - 24s 118ms/step - loss: 0.3479 - val_loss: 0.1489\n",
      "Epoch 14/50\n",
      "203/203 [==============================] - 24s 118ms/step - loss: 0.3347 - val_loss: 0.1453\n",
      "Epoch 15/50\n",
      "203/203 [==============================] - 24s 118ms/step - loss: 0.3324 - val_loss: 0.1426\n",
      "Epoch 16/50\n",
      "203/203 [==============================] - 24s 118ms/step - loss: 0.3211 - val_loss: 0.1413\n",
      "Epoch 17/50\n",
      "203/203 [==============================] - 24s 118ms/step - loss: 0.3194 - val_loss: 0.1391\n",
      "Epoch 18/50\n",
      "203/203 [==============================] - 24s 118ms/step - loss: 0.3144 - val_loss: 0.1369\n",
      "Epoch 19/50\n",
      "203/203 [==============================] - 24s 118ms/step - loss: 0.3012 - val_loss: 0.1364\n",
      "Epoch 20/50\n",
      "203/203 [==============================] - 24s 118ms/step - loss: 0.3000 - val_loss: 0.1359\n",
      "Epoch 21/50\n",
      "203/203 [==============================] - 24s 118ms/step - loss: 0.2979 - val_loss: 0.1352\n",
      "Epoch 22/50\n",
      "203/203 [==============================] - 24s 118ms/step - loss: 0.2950 - val_loss: 0.1339\n",
      "Epoch 23/50\n",
      "203/203 [==============================] - 24s 118ms/step - loss: 0.2853 - val_loss: 0.1332\n",
      "Epoch 24/50\n",
      "203/203 [==============================] - 24s 118ms/step - loss: 0.2793 - val_loss: 0.1319\n",
      "Epoch 25/50\n",
      "203/203 [==============================] - 24s 118ms/step - loss: 0.2800 - val_loss: 0.1335\n",
      "Epoch 26/50\n",
      "203/203 [==============================] - 24s 118ms/step - loss: 0.2797 - val_loss: 0.1335\n",
      "Epoch 27/50\n",
      "203/203 [==============================] - 24s 118ms/step - loss: 0.2723 - val_loss: 0.1328\n",
      "Epoch 28/50\n",
      "203/203 [==============================] - 24s 118ms/step - loss: 0.2673 - val_loss: 0.1330\n",
      "Epoch 29/50\n",
      "203/203 [==============================] - 24s 118ms/step - loss: 0.2672 - val_loss: 0.1330\n",
      "Epoch 30/50\n",
      "203/203 [==============================] - 24s 118ms/step - loss: 0.2657 - val_loss: 0.1342\n",
      "Epoch 31/50\n",
      "203/203 [==============================] - 24s 118ms/step - loss: 0.2622 - val_loss: 0.1328\n",
      "Epoch 32/50\n",
      "203/203 [==============================] - 24s 118ms/step - loss: 0.2555 - val_loss: 0.1342\n",
      "Epoch 33/50\n",
      "203/203 [==============================] - 24s 118ms/step - loss: 0.2585 - val_loss: 0.1340\n",
      "Epoch 34/50\n",
      "203/203 [==============================] - 24s 118ms/step - loss: 0.2500 - val_loss: 0.1342\n",
      "\n",
      "Epoch 00034: ReduceLROnPlateau reducing learning rate to 0.0009000000427477062.\n",
      "Epoch 35/50\n",
      "203/203 [==============================] - 24s 118ms/step - loss: 0.2497 - val_loss: 0.1355\n",
      "Epoch 36/50\n",
      "203/203 [==============================] - 24s 118ms/step - loss: 0.2466 - val_loss: 0.1337\n",
      "Epoch 37/50\n",
      "203/203 [==============================] - 24s 118ms/step - loss: 0.2463 - val_loss: 0.1354\n",
      "Epoch 38/50\n",
      "203/203 [==============================] - 24s 118ms/step - loss: 0.2419 - val_loss: 0.1361\n",
      "Epoch 39/50\n",
      "203/203 [==============================] - 24s 119ms/step - loss: 0.2411 - val_loss: 0.1364\n",
      "Epoch 40/50\n",
      "203/203 [==============================] - 24s 118ms/step - loss: 0.2424 - val_loss: 0.1376\n",
      "Epoch 41/50\n",
      "203/203 [==============================] - 24s 118ms/step - loss: 0.2373 - val_loss: 0.1370\n",
      "Epoch 42/50\n",
      "203/203 [==============================] - 24s 118ms/step - loss: 0.2323 - val_loss: 0.1373\n",
      "Epoch 43/50\n",
      "203/203 [==============================] - 24s 118ms/step - loss: 0.2340 - val_loss: 0.1394\n",
      "Epoch 44/50\n",
      "203/203 [==============================] - 24s 118ms/step - loss: 0.2296 - val_loss: 0.1400\n",
      "\n",
      "Epoch 00044: ReduceLROnPlateau reducing learning rate to 0.0008100000384729356.\n",
      "Epoch 45/50\n",
      "203/203 [==============================] - 24s 118ms/step - loss: 0.2275 - val_loss: 0.1409\n",
      "Epoch 46/50\n",
      "203/203 [==============================] - 24s 118ms/step - loss: 0.2245 - val_loss: 0.1413\n",
      "Epoch 47/50\n",
      "203/203 [==============================] - 24s 118ms/step - loss: 0.2187 - val_loss: 0.1410\n",
      "Epoch 48/50\n",
      "203/203 [==============================] - 24s 118ms/step - loss: 0.2202 - val_loss: 0.1422\n",
      "Epoch 49/50\n",
      "203/203 [==============================] - 24s 118ms/step - loss: 0.2138 - val_loss: 0.1444\n",
      "Epoch 50/50\n",
      "203/203 [==============================] - 24s 118ms/step - loss: 0.2148 - val_loss: 0.1450\n",
      "Model: \"model2_6\"\n",
      "_________________________________________________________________\n",
      "Layer (type)                 Output Shape              Param #   \n",
      "=================================================================\n",
      "encoder_2__layer_6 (Encoder_ multiple                  526450    \n",
      "_________________________________________________________________\n",
      "decoder_2__layer_6 (Decoder_ multiple                  526450    \n",
      "_________________________________________________________________\n",
      "dense_21 (Dense)             multiple                  19296     \n",
      "=================================================================\n",
      "Total params: 1,072,196\n",
      "Trainable params: 1,072,196\n",
      "Non-trainable params: 0\n",
      "_________________________________________________________________\n"
     ]
    }
   ],
   "source": [
    "model.fit(train_dataloader, steps_per_epoch=train_steps, epochs=50, callbacks=[reduce_lr, model_checkpoint_callback], validation_data=test_dataloader, validation_steps=valid_steps)\n",
    "model.summary()"
   ]
  },
  {
   "cell_type": "code",
   "execution_count": 501,
   "metadata": {
    "colab": {
     "base_uri": "https://localhost:8080/"
    },
    "id": "bRc8xe--tq3L",
    "outputId": "0a562f5f-a234-4003-a68d-e9e032916f6f"
   },
   "outputs": [
    {
     "data": {
      "text/plain": [
       "<tensorflow.python.training.tracking.util.CheckpointLoadStatus at 0x7fa2128cae50>"
      ]
     },
     "execution_count": 501,
     "metadata": {
      "tags": []
     },
     "output_type": "execute_result"
    }
   ],
   "source": [
    "model.load_weights(\"model_2\")"
   ]
  },
  {
   "cell_type": "code",
   "execution_count": 502,
   "metadata": {
    "colab": {
     "base_uri": "https://localhost:8080/"
    },
    "id": "fmlQjiWQtq3M",
    "outputId": "a94114e6-4e40-4ec1-9e76-bb50240b1dc2"
   },
   "outputs": [
    {
     "name": "stdout",
     "output_type": "stream",
     "text": [
      "1/1 [==============================] - 0s 49ms/step - loss: 0.1319\n"
     ]
    },
    {
     "data": {
      "text/plain": [
       "0.13190841674804688"
      ]
     },
     "execution_count": 502,
     "metadata": {
      "tags": []
     },
     "output_type": "execute_result"
    }
   ],
   "source": [
    "model.evaluate(test_dataloader)"
   ]
  },
  {
   "cell_type": "code",
   "execution_count": 503,
   "metadata": {
    "id": "lhvI3jJhzph1"
   },
   "outputs": [],
   "source": [
    "model.save_weights('./model_2/model_novel_2')"
   ]
  },
  {
   "cell_type": "code",
   "execution_count": 504,
   "metadata": {
    "colab": {
     "base_uri": "https://localhost:8080/"
    },
    "id": "b3JUrZ7iLmnB",
    "outputId": "56983996-bfc9-43ea-f367-6f03edc0e2b4"
   },
   "outputs": [
    {
     "name": "stdout",
     "output_type": "stream",
     "text": [
      "The Validation Loss of the model 2 is: 0.1319\n",
      "The perplexity of the model 2 is: 1.0957358131964265\n"
     ]
    }
   ],
   "source": [
    "print(\"The Validation Loss of the model 2 is:\", 0.1319)\n",
    "print(\"The perplexity of the model 2 is:\", 2**(0.1319))"
   ]
  },
  {
   "cell_type": "code",
   "execution_count": 505,
   "metadata": {
    "id": "EpnQYlPdzbqS"
   },
   "outputs": [],
   "source": [
    "start_index = tokenizer_target_ip.word_index['\\t']\n",
    "end_index = tokenizer_target_ip.word_index['\\n']\n",
    "DECODER_SEQ_LEN = max_length_decoder\n",
    "max_len = max_length_decoder\n",
    "\n",
    "\n",
    "def predict(input_sentence):\n",
    "\n",
    "  encoder_seq = tokenizer_raw_ip.texts_to_sequences([input_sentence])\n",
    "\n",
    "  encoder_seq = pad_sequences(encoder_seq, maxlen=max_length_encoder, dtype='int32', padding='post')\n",
    "\n",
    "  encoder_output_1, encoder_h_1, encoder_c_1, encoder_output_2, encoder_h_2, encoder_c_2 = model.layers[0](encoder_seq)\n",
    "\n",
    "  dec_input = np.zeros((1, 1))\n",
    "  dec_input[0][0] = start_index\n",
    "\n",
    "  input_state_1 = [encoder_h_1, encoder_c_1]\n",
    "  input_state_2 = [encoder_h_2, encoder_c_2]\n",
    "  output_word = []\n",
    "\n",
    "  for i in range(DECODER_SEQ_LEN):\n",
    "      cur_emb = model.layers[1].embedding(dec_input)\n",
    "\n",
    "      predicted_out_1, state_h_1, state_c_1 = model.layers[1].lstm_1(cur_emb, input_state_1)\n",
    "\n",
    "      predicted_out, state_h_2, state_c_2 = model.layers[1].lstm_2(predicted_out_1, input_state_2)\n",
    "\n",
    "      dense_layer_out = model.layers[2](predicted_out)\n",
    "\n",
    "      input_state_1 = [state_h_1, state_c_1]\n",
    "      input_state_2 = [state_h_2, state_c_2]\n",
    "  \n",
    "      output_word_index = np.argmax(dense_layer_out)\n",
    "\n",
    "      for key, value in tokenizer_target_ip.word_index.items():\n",
    "\n",
    "         if output_word_index == value:\n",
    "             output_word.append(key)\n",
    "\n",
    "      dec_input = np.reshape(output_word_index, (1, 1))\n",
    "\n",
    "      if dec_input == tokenizer_target_ip.word_index['\\n']:\n",
    "        break\n",
    "  return output_word\n"
   ]
  },
  {
   "cell_type": "code",
   "execution_count": 506,
   "metadata": {
    "colab": {
     "base_uri": "https://localhost:8080/"
    },
    "id": "JvywTLWyzdeu",
    "outputId": "7e4b8285-f877-46dd-9652-a443619a165d"
   },
   "outputs": [
    {
     "name": "stdout",
     "output_type": "stream",
     "text": [
      "Input Sentence: Mmm thats better now i got a roast down me! i'd b better if i had a few drinks down me 2! Good indian?\n",
      "Predicted Sentence: Some to meet you at the place to meet you at the place to meet you at the place to meet you at the place to see you all.\n",
      "\n",
      "Original English sentence: That's better now, I got a roast down me! I'd be better if I had a few drinks down me too! Good Indian?\n",
      "\n",
      "******************************\n",
      "Input Sentence: Watch wat?\n",
      "Predicted Sentence: Watch are you?\n",
      "\n",
      "Original English sentence: Watch what?\n",
      "\n",
      "******************************\n",
      "Input Sentence: Oh dat.hehe.Why r u so interested?\n",
      "Predicted Sentence: On the passed at the passes already.\n",
      "\n",
      "Original English sentence: Oh that. Hehe. Why are you so interested?\n",
      "\n",
      "******************************\n",
      "Input Sentence: hai\n",
      "Predicted Sentence: CHii.\n",
      "\n",
      "Original English sentence: Hi.\n",
      "\n",
      "******************************\n",
      "Input Sentence: ask more abt me?\n",
      "Predicted Sentence: All you been a bit?\n",
      "\n",
      "Original English sentence: Ask more about me?\n",
      "\n",
      "******************************\n",
      "Input Sentence: Hey jiayin. Can bring 10 bucks tmr, it's 4 wawa's bdae.\n",
      "Predicted Sentence: Hey line't later than you are at the place to meet you all at 96456595.\n",
      "\n",
      "Original English sentence: Hey Jiayin. Can you bring 10 bucks tomorrow? It's for Wawa's birthday.\n",
      "\n",
      "******************************\n",
      "Input Sentence: Wanna intro.Joey?\n",
      "Predicted Sentence: Want to both of the passes.\n",
      "\n",
      "Original English sentence: Want to introduce, Joey?\n",
      "\n",
      "******************************\n",
      "Input Sentence: Hey call me when you are abt to reach? I'm going muji to see see look look\n",
      "Predicted Sentence: Hey girl, what are you going to see you at the place to meet you at the place to see you.\n",
      "\n",
      "Original English sentence: Hey, call me when you are about to reach? I'm going to muji to have a look.\n",
      "\n",
      "******************************\n",
      "Input Sentence: Contraction line .\n",
      "Predicted Sentence: Coningant. Haha.\n",
      "\n",
      "Original English sentence: Contraction line.\n",
      "\n",
      "******************************\n",
      "Input Sentence: He say dun tink they need part timer.How? U go crepes n cream ask la.Hereen 1.\n",
      "Predicted Sentence: He this is not start of the passes. I am still want to see you at the passes. Haha.\n",
      "\n",
      "Original English sentence: He says he doesn't think they need part timer. How? Go Creps and Cream ask. The one in Hereen.\n",
      "\n",
      "******************************\n",
      "Input Sentence: Can i come in half an hr later. I nd to bath.Gee.\n",
      "Predicted Sentence: Can you are going to see you at the place to see you already.\n",
      "\n",
      "Original English sentence: Can I come in half an hour later? I need to bath.\n",
      "\n",
      "******************************\n",
      "Input Sentence: Wat u doing?\n",
      "Predicted Sentence: What are you doing?\n",
      "\n",
      "Original English sentence: What are you doing?\n",
      "\n",
      "******************************\n",
      "Input Sentence: Once i pick up it'll just cut off. SBS or something? are you a member of something? :)\n",
      "Predicted Sentence: On so want to go to see you at the place to meet you at the place to meet you at the place to see you.\n",
      "\n",
      "Original English sentence: Once I pick up it'll just cut off. SBS or something? Are you a member of something?\n",
      "\n",
      "******************************\n",
      "Input Sentence: Hey u will be in orchard right? I'm going to ask mei they all if they've bought the frame. If not we go ikea and buy one? Coz v few pieces left.can complete\n",
      "Predicted Sentence: Hey I am I can go to see you at the place to meet you at the place to meet you at the passes. I am not all the bus to see you at the passes. I am not all the books.\n",
      "\n",
      "Original English sentence: Hey you will be in Orchard right? I'm going to ask Mei and the rest if they've bought the frame. If not we'll go to Ikea and buy one? Because there are very few pieces left. Can complete.\n",
      "\n",
      "******************************\n",
      "Input Sentence: But cun lah. go next wk? Act where u wanna go?\n",
      "Predicted Sentence: But I don't know what time to go to see you at 1:30.\n",
      "\n",
      "Original English sentence: But please come. Are you going next week? Ask you where you want to go.\n",
      "\n",
      "******************************\n",
      "Input Sentence: ok!\n",
      "Predicted Sentence: Ny.\n",
      "\n",
      "Original English sentence: Ok!\n",
      "\n",
      "******************************\n",
      "Input Sentence: So where n wat time u wan meet?\n",
      "Predicted Sentence: So when I want to go to see you.\n",
      "\n",
      "Original English sentence: So where and what time do you want to meet?\n",
      "\n",
      "******************************\n",
      "Input Sentence: You want a not? I will go buy for you. I reached orchard already\n",
      "Predicted Sentence: You want to go to see you at the place to meet you at the place to see you.\n",
      "\n",
      "Original English sentence: You want or not? I will go to buy for you. I reached Orchard already.\n",
      "\n",
      "******************************\n",
      "Input Sentence: Hi, u male\n",
      "Predicted Sentence: Hi, no need.\n",
      "\n",
      "Original English sentence: Hi, are you male?\n",
      "\n",
      "******************************\n",
      "Input Sentence: Where are you\n",
      "Predicted Sentence: Where are you?\n",
      "\n",
      "Original English sentence: Where are you?\n",
      "\n",
      "******************************\n"
     ]
    }
   ],
   "source": [
    "predicted_sentences = []\n",
    "actual_sentences = []\n",
    "\n",
    "for i, row in test.iterrows():\n",
    "    output = predict(row['input'])\n",
    "    predicted_sentences.append(output)\n",
    "    english_out = row['target_op'].split()\n",
    "    actual_sentences.append(english_out)\n",
    "    sentence = ''.join(output)\n",
    "    print('Input Sentence:',row['input'])\n",
    "    print('Predicted Sentence:',sentence)\n",
    "    print('Original English sentence:', row['target_op'])\n",
    "    print('*'*30)"
   ]
  },
  {
   "cell_type": "code",
   "execution_count": 507,
   "metadata": {
    "colab": {
     "base_uri": "https://localhost:8080/"
    },
    "id": "M_WnjXqNzex2",
    "outputId": "a11772b7-4618-4ca8-dd2e-636bb6cefbe9"
   },
   "outputs": [
    {
     "name": "stderr",
     "output_type": "stream",
     "text": [
      "/usr/local/lib/python3.7/dist-packages/nltk/translate/bleu_score.py:490: UserWarning: \n",
      "Corpus/Sentence contains 0 counts of 2-gram overlaps.\n",
      "BLEU scores might be undesirable; use SmoothingFunction().\n",
      "  warnings.warn(_msg)\n"
     ]
    }
   ],
   "source": [
    "from nltk.translate.bleu_score import sentence_bleu\n",
    "avg_score = 0\n",
    "for i in range(len(actual_sentences)):\n",
    "    score = sentence_bleu([actual_sentences[i]], predicted_sentences[i])\n",
    "    avg_score += score"
   ]
  },
  {
   "cell_type": "code",
   "execution_count": 508,
   "metadata": {
    "colab": {
     "base_uri": "https://localhost:8080/"
    },
    "id": "2n-SofC8zf44",
    "outputId": "18a1bd98-2510-4931-bfd7-31c20235661a"
   },
   "outputs": [
    {
     "name": "stdout",
     "output_type": "stream",
     "text": [
      "Avg BLEU Score of Model 2 with 2 LSTM layers for Encoder and Decoder: 0.049856345111032416\n"
     ]
    }
   ],
   "source": [
    "print(\"Avg BLEU Score of Model 2 with 2 LSTM layers for Encoder and Decoder:\", (avg_score/(len(actual_sentences))))"
   ]
  },
  {
   "cell_type": "code",
   "execution_count": 512,
   "metadata": {
    "colab": {
     "base_uri": "https://localhost:8080/"
    },
    "id": "yT9BvNd50iNn",
    "outputId": "09408bf9-c2db-4b1a-e80d-135136673efd"
   },
   "outputs": [
    {
     "name": "stdout",
     "output_type": "stream",
     "text": [
      "updating: content/model_1/ (stored 0%)\n",
      "updating: content/model_1/model_novel_1.index (deflated 66%)\n",
      "updating: content/model_1/model_novel_1.data-00000-of-00001 (deflated 6%)\n",
      "updating: content/model_1/checkpoint (deflated 43%)\n"
     ]
    }
   ],
   "source": [
    "!zip -r /content/model_1.zip /content/model_1"
   ]
  },
  {
   "cell_type": "code",
   "execution_count": 513,
   "metadata": {
    "colab": {
     "base_uri": "https://localhost:8080/",
     "height": 17
    },
    "id": "MtSB4X9d0kBJ",
    "outputId": "b120e3dc-b123-4f54-cc83-f2612c32eb45"
   },
   "outputs": [
    {
     "data": {
      "application/javascript": [
       "\n",
       "    async function download(id, filename, size) {\n",
       "      if (!google.colab.kernel.accessAllowed) {\n",
       "        return;\n",
       "      }\n",
       "      const div = document.createElement('div');\n",
       "      const label = document.createElement('label');\n",
       "      label.textContent = `Downloading \"${filename}\": `;\n",
       "      div.appendChild(label);\n",
       "      const progress = document.createElement('progress');\n",
       "      progress.max = size;\n",
       "      div.appendChild(progress);\n",
       "      document.body.appendChild(div);\n",
       "\n",
       "      const buffers = [];\n",
       "      let downloaded = 0;\n",
       "\n",
       "      const channel = await google.colab.kernel.comms.open(id);\n",
       "      // Send a message to notify the kernel that we're ready.\n",
       "      channel.send({})\n",
       "\n",
       "      for await (const message of channel.messages) {\n",
       "        // Send a message to notify the kernel that we're ready.\n",
       "        channel.send({})\n",
       "        if (message.buffers) {\n",
       "          for (const buffer of message.buffers) {\n",
       "            buffers.push(buffer);\n",
       "            downloaded += buffer.byteLength;\n",
       "            progress.value = downloaded;\n",
       "          }\n",
       "        }\n",
       "      }\n",
       "      const blob = new Blob(buffers, {type: 'application/binary'});\n",
       "      const a = document.createElement('a');\n",
       "      a.href = window.URL.createObjectURL(blob);\n",
       "      a.download = filename;\n",
       "      div.appendChild(a);\n",
       "      a.click();\n",
       "      div.remove();\n",
       "    }\n",
       "  "
      ],
      "text/plain": [
       "<IPython.core.display.Javascript object>"
      ]
     },
     "metadata": {
      "tags": []
     },
     "output_type": "display_data"
    },
    {
     "data": {
      "application/javascript": [
       "download(\"download_c33bfd00-1155-4bc4-9daf-1d3b02a0c2c0\", \"model_1.zip\", 25487765)"
      ],
      "text/plain": [
       "<IPython.core.display.Javascript object>"
      ]
     },
     "metadata": {
      "tags": []
     },
     "output_type": "display_data"
    }
   ],
   "source": [
    "from google.colab import files\n",
    "files.download(\"/content/model_1.zip\")"
   ]
  }
 ],
 "metadata": {
  "accelerator": "GPU",
  "colab": {
   "collapsed_sections": [],
   "name": "CS2_Modelling.ipynb",
   "provenance": []
  },
  "kernelspec": {
   "display_name": "Python 3",
   "language": "python",
   "name": "python3"
  },
  "language_info": {
   "codemirror_mode": {
    "name": "ipython",
    "version": 3
   },
   "file_extension": ".py",
   "mimetype": "text/x-python",
   "name": "python",
   "nbconvert_exporter": "python",
   "pygments_lexer": "ipython3",
   "version": "3.7.9"
  }
 },
 "nbformat": 4,
 "nbformat_minor": 1
}
