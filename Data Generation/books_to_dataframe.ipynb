{
 "cells": [
  {
   "cell_type": "code",
   "execution_count": 33,
   "metadata": {},
   "outputs": [],
   "source": [
    "import string\n",
    "import pandas as pd\n",
    "from sklearn.model_selection import train_test_split"
   ]
  },
  {
   "cell_type": "code",
   "execution_count": 34,
   "metadata": {},
   "outputs": [],
   "source": [
    "books = ['pride_and_prejudice', 'shakespeare', 'war_and_peace', 'wonderland']"
   ]
  },
  {
   "cell_type": "code",
   "execution_count": 35,
   "metadata": {},
   "outputs": [],
   "source": [
    "sentence_list = []\n",
    "def preprocess_book(file):\n",
    "    data = file.read()\n",
    "    split_data = data.split(\"\\n\")\n",
    "    split_data = filter(None, split_data)\n",
    "    return list(split_data)\n",
    "\n",
    "for book in books:\n",
    "    book_file = open(\"./books/\" + book + \".txt\", \"r\")\n",
    "    data = preprocess_book(book_file)\n",
    "    sentence_list.extend(data)"
   ]
  },
  {
   "cell_type": "code",
   "execution_count": 36,
   "metadata": {},
   "outputs": [
    {
     "data": {
      "text/plain": [
       "96483"
      ]
     },
     "execution_count": 36,
     "metadata": {},
     "output_type": "execute_result"
    }
   ],
   "source": [
    "len(sentence_list)"
   ]
  },
  {
   "cell_type": "code",
   "execution_count": 37,
   "metadata": {},
   "outputs": [],
   "source": [
    "for i,sentence in enumerate(sentence_list):\n",
    "    sentence = sentence.replace(\"\\n\", \"\")\n",
    "    sentence = sentence.replace(\"_\", \"\")\n",
    "    sentence = sentence.replace(\"»\", \"\")\n",
    "    sentence = sentence.replace(\"¿\", \"\")\n",
    "    sentence = sentence.replace(\"ï\", \"\")\n",
    "    if sentence[0] == \" \":\n",
    "        sentence = sentence[1:]\n",
    "    sentence_list[i] = sentence"
   ]
  },
  {
   "cell_type": "code",
   "execution_count": 39,
   "metadata": {},
   "outputs": [],
   "source": [
    "df_novel = pd.DataFrame({\n",
    "    'input':sentence_list,\n",
    "    'target':sentence_list\n",
    "})"
   ]
  },
  {
   "cell_type": "code",
   "execution_count": 40,
   "metadata": {},
   "outputs": [],
   "source": [
    "df_novel.to_csv(\"all_books.csv\", index=False)"
   ]
  },
  {
   "cell_type": "code",
   "execution_count": null,
   "metadata": {},
   "outputs": [],
   "source": []
  }
 ],
 "metadata": {
  "kernelspec": {
   "display_name": "Python 3",
   "language": "python",
   "name": "python3"
  },
  "language_info": {
   "codemirror_mode": {
    "name": "ipython",
    "version": 3
   },
   "file_extension": ".py",
   "mimetype": "text/x-python",
   "name": "python",
   "nbconvert_exporter": "python",
   "pygments_lexer": "ipython3",
   "version": "3.7.9"
  }
 },
 "nbformat": 4,
 "nbformat_minor": 4
}
